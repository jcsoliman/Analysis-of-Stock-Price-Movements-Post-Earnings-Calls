{
 "cells": [
  {
   "cell_type": "code",
   "execution_count": 109,
   "metadata": {},
   "outputs": [],
   "source": [
    "# Initial imports\n",
    "from path import Path\n",
    "from pathlib import Path\n",
    "import pandas as pd\n",
    "from tensorflow.keras.models import Sequential\n",
    "from tensorflow.keras.layers import Dense\n",
    "from sklearn.preprocessing import StandardScaler\n",
    "from sklearn.model_selection import train_test_split\n",
    "from sklearn.ensemble import RandomForestClassifier\n",
    "from sklearn.metrics import confusion_matrix, accuracy_score, classification_report\n",
    "\n",
    "import pydotplus\n",
    "from IPython.display import Image\n",
    "\n",
    "%matplotlib inline"
   ]
  },
  {
   "cell_type": "code",
   "execution_count": 110,
   "metadata": {},
   "outputs": [
    {
     "data": {
      "text/html": [
       "<div>\n",
       "<style scoped>\n",
       "    .dataframe tbody tr th:only-of-type {\n",
       "        vertical-align: middle;\n",
       "    }\n",
       "\n",
       "    .dataframe tbody tr th {\n",
       "        vertical-align: top;\n",
       "    }\n",
       "\n",
       "    .dataframe thead th {\n",
       "        text-align: right;\n",
       "    }\n",
       "</style>\n",
       "<table border=\"1\" class=\"dataframe\">\n",
       "  <thead>\n",
       "    <tr style=\"text-align: right;\">\n",
       "      <th></th>\n",
       "      <th>Order</th>\n",
       "      <th>Sent_Neg</th>\n",
       "      <th>Sent_Neu</th>\n",
       "      <th>Sent_Pos</th>\n",
       "      <th>Price_DayPrior</th>\n",
       "      <th>Price_2DaysAfter</th>\n",
       "    </tr>\n",
       "    <tr>\n",
       "      <th>Date</th>\n",
       "      <th></th>\n",
       "      <th></th>\n",
       "      <th></th>\n",
       "      <th></th>\n",
       "      <th></th>\n",
       "      <th></th>\n",
       "    </tr>\n",
       "  </thead>\n",
       "  <tbody>\n",
       "    <tr>\n",
       "      <td>4/16/15</td>\n",
       "      <td>1</td>\n",
       "      <td>0.019</td>\n",
       "      <td>0.850</td>\n",
       "      <td>0.131</td>\n",
       "      <td>201.10</td>\n",
       "      <td>198.10</td>\n",
       "    </tr>\n",
       "    <tr>\n",
       "      <td>7/16/15</td>\n",
       "      <td>2</td>\n",
       "      <td>0.025</td>\n",
       "      <td>0.852</td>\n",
       "      <td>0.123</td>\n",
       "      <td>212.96</td>\n",
       "      <td>212.39</td>\n",
       "    </tr>\n",
       "    <tr>\n",
       "      <td>10/15/15</td>\n",
       "      <td>3</td>\n",
       "      <td>0.027</td>\n",
       "      <td>0.844</td>\n",
       "      <td>0.129</td>\n",
       "      <td>179.51</td>\n",
       "      <td>185.74</td>\n",
       "    </tr>\n",
       "    <tr>\n",
       "      <td>1/20/16</td>\n",
       "      <td>4</td>\n",
       "      <td>0.029</td>\n",
       "      <td>0.863</td>\n",
       "      <td>0.107</td>\n",
       "      <td>156.82</td>\n",
       "      <td>156.86</td>\n",
       "    </tr>\n",
       "    <tr>\n",
       "      <td>4/19/16</td>\n",
       "      <td>5</td>\n",
       "      <td>0.031</td>\n",
       "      <td>0.840</td>\n",
       "      <td>0.129</td>\n",
       "      <td>159.02</td>\n",
       "      <td>165.32</td>\n",
       "    </tr>\n",
       "  </tbody>\n",
       "</table>\n",
       "</div>"
      ],
      "text/plain": [
       "          Order  Sent_Neg  Sent_Neu  Sent_Pos  Price_DayPrior  \\\n",
       "Date                                                            \n",
       "4/16/15       1     0.019     0.850     0.131          201.10   \n",
       "7/16/15       2     0.025     0.852     0.123          212.96   \n",
       "10/15/15      3     0.027     0.844     0.129          179.51   \n",
       "1/20/16       4     0.029     0.863     0.107          156.82   \n",
       "4/19/16       5     0.031     0.840     0.129          159.02   \n",
       "\n",
       "          Price_2DaysAfter  \n",
       "Date                        \n",
       "4/16/15             198.10  \n",
       "7/16/15             212.39  \n",
       "10/15/15            185.74  \n",
       "1/20/16             156.86  \n",
       "4/19/16             165.32  "
      ]
     },
     "execution_count": 110,
     "metadata": {},
     "output_type": "execute_result"
    }
   ],
   "source": [
    "# import CSV file into dataframe\n",
    "file_path = Path(\"./Transcripts/GS_ForModel.csv\")\n",
    "df = pd.read_csv((file_path), index_col='Date')\n",
    "df.head()"
   ]
  },
  {
   "cell_type": "code",
   "execution_count": 111,
   "metadata": {},
   "outputs": [
    {
     "name": "stdout",
     "output_type": "stream",
     "text": [
      "Order\n",
      "Sent_Neg\n",
      "Sent_Neu\n",
      "Sent_Pos\n",
      "Price_DayPrior\n",
      "Price_2DaysAfter\n"
     ]
    }
   ],
   "source": [
    "#See List of column titles\n",
    "for col in df.columns:\n",
    "    print(col)"
   ]
  },
  {
   "cell_type": "code",
   "execution_count": 112,
   "metadata": {},
   "outputs": [
    {
     "data": {
      "text/html": [
       "<div>\n",
       "<style scoped>\n",
       "    .dataframe tbody tr th:only-of-type {\n",
       "        vertical-align: middle;\n",
       "    }\n",
       "\n",
       "    .dataframe tbody tr th {\n",
       "        vertical-align: top;\n",
       "    }\n",
       "\n",
       "    .dataframe thead th {\n",
       "        text-align: right;\n",
       "    }\n",
       "</style>\n",
       "<table border=\"1\" class=\"dataframe\">\n",
       "  <thead>\n",
       "    <tr style=\"text-align: right;\">\n",
       "      <th></th>\n",
       "      <th>Sent_Neg</th>\n",
       "      <th>Sent_Neu</th>\n",
       "      <th>Sent_Pos</th>\n",
       "      <th>Price_DayPrior</th>\n",
       "    </tr>\n",
       "    <tr>\n",
       "      <th>Date</th>\n",
       "      <th></th>\n",
       "      <th></th>\n",
       "      <th></th>\n",
       "      <th></th>\n",
       "    </tr>\n",
       "  </thead>\n",
       "  <tbody>\n",
       "    <tr>\n",
       "      <td>4/16/15</td>\n",
       "      <td>0.019</td>\n",
       "      <td>0.850</td>\n",
       "      <td>0.131</td>\n",
       "      <td>201.10</td>\n",
       "    </tr>\n",
       "    <tr>\n",
       "      <td>7/16/15</td>\n",
       "      <td>0.025</td>\n",
       "      <td>0.852</td>\n",
       "      <td>0.123</td>\n",
       "      <td>212.96</td>\n",
       "    </tr>\n",
       "    <tr>\n",
       "      <td>10/15/15</td>\n",
       "      <td>0.027</td>\n",
       "      <td>0.844</td>\n",
       "      <td>0.129</td>\n",
       "      <td>179.51</td>\n",
       "    </tr>\n",
       "    <tr>\n",
       "      <td>1/20/16</td>\n",
       "      <td>0.029</td>\n",
       "      <td>0.863</td>\n",
       "      <td>0.107</td>\n",
       "      <td>156.82</td>\n",
       "    </tr>\n",
       "    <tr>\n",
       "      <td>4/19/16</td>\n",
       "      <td>0.031</td>\n",
       "      <td>0.840</td>\n",
       "      <td>0.129</td>\n",
       "      <td>159.02</td>\n",
       "    </tr>\n",
       "    <tr>\n",
       "      <td>7/19/16</td>\n",
       "      <td>0.024</td>\n",
       "      <td>0.864</td>\n",
       "      <td>0.112</td>\n",
       "      <td>163.33</td>\n",
       "    </tr>\n",
       "    <tr>\n",
       "      <td>10/18/16</td>\n",
       "      <td>0.022</td>\n",
       "      <td>0.843</td>\n",
       "      <td>0.135</td>\n",
       "      <td>169.00</td>\n",
       "    </tr>\n",
       "    <tr>\n",
       "      <td>1/18/17</td>\n",
       "      <td>0.024</td>\n",
       "      <td>0.835</td>\n",
       "      <td>0.140</td>\n",
       "      <td>235.74</td>\n",
       "    </tr>\n",
       "    <tr>\n",
       "      <td>4/18/17</td>\n",
       "      <td>0.032</td>\n",
       "      <td>0.825</td>\n",
       "      <td>0.143</td>\n",
       "      <td>226.26</td>\n",
       "    </tr>\n",
       "    <tr>\n",
       "      <td>7/18/17</td>\n",
       "      <td>0.032</td>\n",
       "      <td>0.840</td>\n",
       "      <td>0.128</td>\n",
       "      <td>229.26</td>\n",
       "    </tr>\n",
       "    <tr>\n",
       "      <td>10/17/17</td>\n",
       "      <td>0.017</td>\n",
       "      <td>0.856</td>\n",
       "      <td>0.127</td>\n",
       "      <td>242.41</td>\n",
       "    </tr>\n",
       "    <tr>\n",
       "      <td>1/17/18</td>\n",
       "      <td>0.020</td>\n",
       "      <td>0.878</td>\n",
       "      <td>0.101</td>\n",
       "      <td>258.46</td>\n",
       "    </tr>\n",
       "  </tbody>\n",
       "</table>\n",
       "</div>"
      ],
      "text/plain": [
       "          Sent_Neg  Sent_Neu  Sent_Pos  Price_DayPrior\n",
       "Date                                                  \n",
       "4/16/15      0.019     0.850     0.131          201.10\n",
       "7/16/15      0.025     0.852     0.123          212.96\n",
       "10/15/15     0.027     0.844     0.129          179.51\n",
       "1/20/16      0.029     0.863     0.107          156.82\n",
       "4/19/16      0.031     0.840     0.129          159.02\n",
       "7/19/16      0.024     0.864     0.112          163.33\n",
       "10/18/16     0.022     0.843     0.135          169.00\n",
       "1/18/17      0.024     0.835     0.140          235.74\n",
       "4/18/17      0.032     0.825     0.143          226.26\n",
       "7/18/17      0.032     0.840     0.128          229.26\n",
       "10/17/17     0.017     0.856     0.127          242.41\n",
       "1/17/18      0.020     0.878     0.101          258.46"
      ]
     },
     "execution_count": 112,
     "metadata": {},
     "output_type": "execute_result"
    }
   ],
   "source": [
    "x_train=df.iloc[0:12,1:5].copy()\n",
    "x_train.dropna()"
   ]
  },
  {
   "cell_type": "code",
   "execution_count": 113,
   "metadata": {},
   "outputs": [
    {
     "data": {
      "text/plain": [
       "Date\n",
       "4/16/15     198.10\n",
       "7/16/15     212.39\n",
       "10/15/15    185.74\n",
       "1/20/16     156.86\n",
       "4/19/16     165.32\n",
       "7/19/16     160.05\n",
       "10/18/16    174.51\n",
       "1/18/17     232.20\n",
       "4/18/17     218.06\n",
       "7/18/17     222.30\n",
       "10/17/17    239.99\n",
       "1/17/18     256.12\n",
       "Name: Price_2DaysAfter, dtype: float64"
      ]
     },
     "execution_count": 113,
     "metadata": {},
     "output_type": "execute_result"
    }
   ],
   "source": [
    "y_train=df.iloc[0:12,:]['Price_2DaysAfter'] #.set_index('Date') #.copy()\n",
    "y_train.dropna()"
   ]
  },
  {
   "cell_type": "code",
   "execution_count": 114,
   "metadata": {},
   "outputs": [
    {
     "data": {
      "text/html": [
       "<div>\n",
       "<style scoped>\n",
       "    .dataframe tbody tr th:only-of-type {\n",
       "        vertical-align: middle;\n",
       "    }\n",
       "\n",
       "    .dataframe tbody tr th {\n",
       "        vertical-align: top;\n",
       "    }\n",
       "\n",
       "    .dataframe thead th {\n",
       "        text-align: right;\n",
       "    }\n",
       "</style>\n",
       "<table border=\"1\" class=\"dataframe\">\n",
       "  <thead>\n",
       "    <tr style=\"text-align: right;\">\n",
       "      <th></th>\n",
       "      <th>Sent_Neg</th>\n",
       "      <th>Sent_Neu</th>\n",
       "      <th>Sent_Pos</th>\n",
       "      <th>Price_DayPrior</th>\n",
       "    </tr>\n",
       "    <tr>\n",
       "      <th>Date</th>\n",
       "      <th></th>\n",
       "      <th></th>\n",
       "      <th></th>\n",
       "      <th></th>\n",
       "    </tr>\n",
       "  </thead>\n",
       "  <tbody>\n",
       "    <tr>\n",
       "      <td>7/17/18</td>\n",
       "      <td>0.020</td>\n",
       "      <td>0.842</td>\n",
       "      <td>0.138</td>\n",
       "      <td>231.44</td>\n",
       "    </tr>\n",
       "    <tr>\n",
       "      <td>10/16/18</td>\n",
       "      <td>0.016</td>\n",
       "      <td>0.843</td>\n",
       "      <td>0.142</td>\n",
       "      <td>215.22</td>\n",
       "    </tr>\n",
       "    <tr>\n",
       "      <td>1/16/19</td>\n",
       "      <td>0.021</td>\n",
       "      <td>0.857</td>\n",
       "      <td>0.121</td>\n",
       "      <td>179.91</td>\n",
       "    </tr>\n",
       "    <tr>\n",
       "      <td>4/15/19</td>\n",
       "      <td>0.020</td>\n",
       "      <td>0.867</td>\n",
       "      <td>0.113</td>\n",
       "      <td>207.84</td>\n",
       "    </tr>\n",
       "    <tr>\n",
       "      <td>7/16/19</td>\n",
       "      <td>0.025</td>\n",
       "      <td>0.863</td>\n",
       "      <td>0.112</td>\n",
       "      <td>211.58</td>\n",
       "    </tr>\n",
       "  </tbody>\n",
       "</table>\n",
       "</div>"
      ],
      "text/plain": [
       "          Sent_Neg  Sent_Neu  Sent_Pos  Price_DayPrior\n",
       "Date                                                  \n",
       "7/17/18      0.020     0.842     0.138          231.44\n",
       "10/16/18     0.016     0.843     0.142          215.22\n",
       "1/16/19      0.021     0.857     0.121          179.91\n",
       "4/15/19      0.020     0.867     0.113          207.84\n",
       "7/16/19      0.025     0.863     0.112          211.58"
      ]
     },
     "execution_count": 114,
     "metadata": {},
     "output_type": "execute_result"
    }
   ],
   "source": [
    "x_test= df.iloc[13:18,1:5].copy()\n",
    "x_test.dropna()"
   ]
  },
  {
   "cell_type": "code",
   "execution_count": 115,
   "metadata": {},
   "outputs": [
    {
     "data": {
      "text/html": [
       "<div>\n",
       "<style scoped>\n",
       "    .dataframe tbody tr th:only-of-type {\n",
       "        vertical-align: middle;\n",
       "    }\n",
       "\n",
       "    .dataframe tbody tr th {\n",
       "        vertical-align: top;\n",
       "    }\n",
       "\n",
       "    .dataframe thead th {\n",
       "        text-align: right;\n",
       "    }\n",
       "</style>\n",
       "<table border=\"1\" class=\"dataframe\">\n",
       "  <thead>\n",
       "    <tr style=\"text-align: right;\">\n",
       "      <th></th>\n",
       "      <th>Price_2DaysAfter</th>\n",
       "    </tr>\n",
       "    <tr>\n",
       "      <th>Date</th>\n",
       "      <th></th>\n",
       "    </tr>\n",
       "  </thead>\n",
       "  <tbody>\n",
       "    <tr>\n",
       "      <td>7/17/18</td>\n",
       "      <td>229.63</td>\n",
       "    </tr>\n",
       "    <tr>\n",
       "      <td>10/16/18</td>\n",
       "      <td>224.95</td>\n",
       "    </tr>\n",
       "    <tr>\n",
       "      <td>1/16/19</td>\n",
       "      <td>202.54</td>\n",
       "    </tr>\n",
       "    <tr>\n",
       "      <td>4/15/19</td>\n",
       "      <td>207.90</td>\n",
       "    </tr>\n",
       "    <tr>\n",
       "      <td>7/16/19</td>\n",
       "      <td>214.52</td>\n",
       "    </tr>\n",
       "  </tbody>\n",
       "</table>\n",
       "</div>"
      ],
      "text/plain": [
       "          Price_2DaysAfter\n",
       "Date                      \n",
       "7/17/18             229.63\n",
       "10/16/18            224.95\n",
       "1/16/19             202.54\n",
       "4/15/19             207.90\n",
       "7/16/19             214.52"
      ]
     },
     "execution_count": 115,
     "metadata": {},
     "output_type": "execute_result"
    }
   ],
   "source": [
    "y_test=df.iloc[13:18,5:6].copy()\n",
    "y_test.dropna()"
   ]
  },
  {
   "cell_type": "code",
   "execution_count": 116,
   "metadata": {},
   "outputs": [],
   "source": [
    "from sklearn.linear_model import LinearRegression\n",
    "#from sklearn.preprocessing import te"
   ]
  },
  {
   "cell_type": "code",
   "execution_count": 117,
   "metadata": {},
   "outputs": [],
   "source": [
    "scaler = StandardScaler()"
   ]
  },
  {
   "cell_type": "code",
   "execution_count": 118,
   "metadata": {},
   "outputs": [],
   "source": [
    "x_scaler = scaler.fit(x_train)"
   ]
  },
  {
   "cell_type": "code",
   "execution_count": 120,
   "metadata": {},
   "outputs": [],
   "source": [
    "# Scaling data\n",
    "x_train_scaled = x_scaler.transform(x_train)\n",
    "x_test_scaled = x_scaler.transform(x_test)"
   ]
  },
  {
   "cell_type": "code",
   "execution_count": 121,
   "metadata": {},
   "outputs": [],
   "source": [
    "# Create a random forest classifier\n",
    "LR_model = LinearRegression()#RandomForestClassifier(n_estimators=100, random_state=25)"
   ]
  },
  {
   "cell_type": "code",
   "execution_count": 122,
   "metadata": {},
   "outputs": [],
   "source": [
    "# Fitting the model\n",
    "import numpy as np\n",
    "LR_model = LR_model.fit(x_train_scaled, y_train)"
   ]
  },
  {
   "cell_type": "code",
   "execution_count": 130,
   "metadata": {},
   "outputs": [
    {
     "data": {
      "text/plain": [
       "array([229.29588632, 215.10674519, 182.73892505, 207.04198777,\n",
       "       209.00535995])"
      ]
     },
     "execution_count": 130,
     "metadata": {},
     "output_type": "execute_result"
    }
   ],
   "source": [
    "predictions = LR_model.predict(x_test_scaled)\n",
    "predictions"
   ]
  },
  {
   "cell_type": "code",
   "execution_count": 131,
   "metadata": {},
   "outputs": [
    {
     "data": {
      "text/plain": [
       "array([ -5.39298995, -11.44886204,  -9.61309285,  31.19785497])"
      ]
     },
     "execution_count": 131,
     "metadata": {},
     "output_type": "execute_result"
    }
   ],
   "source": [
    "LR_model.coef_"
   ]
  },
  {
   "cell_type": "code",
   "execution_count": 132,
   "metadata": {},
   "outputs": [
    {
     "data": {
      "text/plain": [
       "201.80333333333323"
      ]
     },
     "execution_count": 132,
     "metadata": {},
     "output_type": "execute_result"
    }
   ],
   "source": [
    "LR_model.intercept_"
   ]
  },
  {
   "cell_type": "code",
   "execution_count": 133,
   "metadata": {},
   "outputs": [
    {
     "data": {
      "text/plain": [
       "0.9887860666684017"
      ]
     },
     "execution_count": 133,
     "metadata": {},
     "output_type": "execute_result"
    }
   ],
   "source": [
    "LR_model.score(x_train_scaled, y_train, sample_weight=None)"
   ]
  },
  {
   "cell_type": "code",
   "execution_count": 134,
   "metadata": {},
   "outputs": [],
   "source": [
    "import numpy as np\n",
    "from sklearn.metrics import mean_squared_error, r2_score"
   ]
  },
  {
   "cell_type": "code",
   "execution_count": 135,
   "metadata": {},
   "outputs": [],
   "source": [
    "score = LR_model.score(x_test_scaled, y_test)\n",
    "r2 = r2_score(y_test, predictions)"
   ]
  },
  {
   "cell_type": "code",
   "execution_count": 136,
   "metadata": {},
   "outputs": [
    {
     "name": "stdout",
     "output_type": "stream",
     "text": [
      "Score: -0.010532499628812086, r2: -0.010532499628812086\n"
     ]
    }
   ],
   "source": [
    "print(f\"Score: {score}, r2: {r2}\")"
   ]
  },
  {
   "cell_type": "code",
   "execution_count": 137,
   "metadata": {},
   "outputs": [
    {
     "data": {
      "text/plain": [
       "104.04626128880177"
      ]
     },
     "execution_count": 137,
     "metadata": {},
     "output_type": "execute_result"
    }
   ],
   "source": [
    "mse = mean_squared_error(y_test, predictions)\n",
    "mse"
   ]
  },
  {
   "cell_type": "code",
   "execution_count": 138,
   "metadata": {},
   "outputs": [
    {
     "data": {
      "text/plain": [
       "10.200306921303975"
      ]
     },
     "execution_count": 138,
     "metadata": {},
     "output_type": "execute_result"
    }
   ],
   "source": [
    "rmse = np.sqrt(mse)\n",
    "rmse"
   ]
  },
  {
   "cell_type": "code",
   "execution_count": 140,
   "metadata": {},
   "outputs": [
    {
     "data": {
      "text/plain": [
       "Price_2DaysAfter    10.14701\n",
       "dtype: float64"
      ]
     },
     "execution_count": 140,
     "metadata": {},
     "output_type": "execute_result"
    }
   ],
   "source": [
    "np.std(y_test)"
   ]
  },
  {
   "cell_type": "code",
   "execution_count": null,
   "metadata": {},
   "outputs": [],
   "source": [
    "plt.scatter(x_test[''], y)\n",
    "plt.plot(X['Week_of_Year'], predictions, color='red')"
   ]
  }
 ],
 "metadata": {
  "kernelspec": {
   "display_name": "Python 3",
   "language": "python",
   "name": "python3"
  },
  "language_info": {
   "codemirror_mode": {
    "name": "ipython",
    "version": 3
   },
   "file_extension": ".py",
   "mimetype": "text/x-python",
   "name": "python",
   "nbconvert_exporter": "python",
   "pygments_lexer": "ipython3",
   "version": "3.7.4"
  }
 },
 "nbformat": 4,
 "nbformat_minor": 4
}
