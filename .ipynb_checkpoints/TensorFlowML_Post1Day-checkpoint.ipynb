{
 "cells": [
  {
   "cell_type": "code",
   "execution_count": 2,
   "metadata": {},
   "outputs": [],
   "source": [
    "# Initial imports\n",
    "from path import Path\n",
    "from pathlib import Path\n",
    "import pandas as pd\n",
    "import numpy as np\n",
    "import matplotlib.pyplot as plt\n",
    "from tensorflow.keras.models import Sequential\n",
    "from tensorflow.keras.layers import Dense\n",
    "from sklearn.preprocessing import StandardScaler\n",
    "from sklearn.model_selection import train_test_split\n",
    "import tensorflow as tf\n",
    "%matplotlib inline"
   ]
  },
  {
   "cell_type": "code",
   "execution_count": 8,
   "metadata": {},
   "outputs": [
    {
     "data": {
      "text/html": [
       "<div>\n",
       "<style scoped>\n",
       "    .dataframe tbody tr th:only-of-type {\n",
       "        vertical-align: middle;\n",
       "    }\n",
       "\n",
       "    .dataframe tbody tr th {\n",
       "        vertical-align: top;\n",
       "    }\n",
       "\n",
       "    .dataframe thead th {\n",
       "        text-align: right;\n",
       "    }\n",
       "</style>\n",
       "<table border=\"1\" class=\"dataframe\">\n",
       "  <thead>\n",
       "    <tr style=\"text-align: right;\">\n",
       "      <th></th>\n",
       "      <th>Ticker</th>\n",
       "      <th>Date</th>\n",
       "      <th>Pos</th>\n",
       "      <th>Neu</th>\n",
       "      <th>Neg</th>\n",
       "      <th>Normalized</th>\n",
       "      <th>Close</th>\n",
       "      <th>Returns</th>\n",
       "      <th>12-day Rolling</th>\n",
       "      <th>5-day Rolling</th>\n",
       "      <th>3-day Rolling</th>\n",
       "      <th>12-day Rolling Std</th>\n",
       "      <th>5-day Rolling Std</th>\n",
       "      <th>3-day Rolling Std</th>\n",
       "      <th>difference 1-day</th>\n",
       "      <th>difference 3-days</th>\n",
       "      <th>direction 1-day</th>\n",
       "      <th>direction 3-days</th>\n",
       "    </tr>\n",
       "  </thead>\n",
       "  <tbody>\n",
       "    <tr>\n",
       "      <th>0</th>\n",
       "      <td>A</td>\n",
       "      <td>2019-08-14</td>\n",
       "      <td>0.101</td>\n",
       "      <td>0.884</td>\n",
       "      <td>0.014</td>\n",
       "      <td>1</td>\n",
       "      <td>65.59</td>\n",
       "      <td>-0.030308</td>\n",
       "      <td>-0.005657</td>\n",
       "      <td>-0.006860</td>\n",
       "      <td>-0.014811</td>\n",
       "      <td>0.020223</td>\n",
       "      <td>0.024598</td>\n",
       "      <td>0.025959</td>\n",
       "      <td>-2.05</td>\n",
       "      <td>-3.05</td>\n",
       "      <td>0</td>\n",
       "      <td>0</td>\n",
       "    </tr>\n",
       "    <tr>\n",
       "      <th>1</th>\n",
       "      <td>AAL</td>\n",
       "      <td>2019-10-24</td>\n",
       "      <td>0.133</td>\n",
       "      <td>0.847</td>\n",
       "      <td>0.020</td>\n",
       "      <td>1</td>\n",
       "      <td>29.41</td>\n",
       "      <td>0.039590</td>\n",
       "      <td>0.009595</td>\n",
       "      <td>0.010526</td>\n",
       "      <td>0.009358</td>\n",
       "      <td>0.015567</td>\n",
       "      <td>0.019245</td>\n",
       "      <td>0.027056</td>\n",
       "      <td>1.12</td>\n",
       "      <td>0.79</td>\n",
       "      <td>1</td>\n",
       "      <td>1</td>\n",
       "    </tr>\n",
       "    <tr>\n",
       "      <th>2</th>\n",
       "      <td>AAP</td>\n",
       "      <td>2019-11-12</td>\n",
       "      <td>0.121</td>\n",
       "      <td>0.863</td>\n",
       "      <td>0.015</td>\n",
       "      <td>1</td>\n",
       "      <td>156.14</td>\n",
       "      <td>-0.075110</td>\n",
       "      <td>-0.004594</td>\n",
       "      <td>-0.014186</td>\n",
       "      <td>-0.025911</td>\n",
       "      <td>0.024032</td>\n",
       "      <td>0.035081</td>\n",
       "      <td>0.043719</td>\n",
       "      <td>-12.68</td>\n",
       "      <td>-13.14</td>\n",
       "      <td>0</td>\n",
       "      <td>0</td>\n",
       "    </tr>\n",
       "    <tr>\n",
       "      <th>3</th>\n",
       "      <td>AAPL</td>\n",
       "      <td>2019-10-30</td>\n",
       "      <td>0.130</td>\n",
       "      <td>0.851</td>\n",
       "      <td>0.018</td>\n",
       "      <td>1</td>\n",
       "      <td>243.26</td>\n",
       "      <td>-0.000123</td>\n",
       "      <td>0.002627</td>\n",
       "      <td>0.000145</td>\n",
       "      <td>-0.004411</td>\n",
       "      <td>0.010672</td>\n",
       "      <td>0.014049</td>\n",
       "      <td>0.016983</td>\n",
       "      <td>-0.03</td>\n",
       "      <td>-3.32</td>\n",
       "      <td>0</td>\n",
       "      <td>0</td>\n",
       "    </tr>\n",
       "    <tr>\n",
       "      <th>4</th>\n",
       "      <td>ABBV</td>\n",
       "      <td>2019-11-01</td>\n",
       "      <td>0.118</td>\n",
       "      <td>0.862</td>\n",
       "      <td>0.020</td>\n",
       "      <td>1</td>\n",
       "      <td>81.75</td>\n",
       "      <td>0.027656</td>\n",
       "      <td>0.007551</td>\n",
       "      <td>0.013349</td>\n",
       "      <td>0.013813</td>\n",
       "      <td>0.011847</td>\n",
       "      <td>0.012865</td>\n",
       "      <td>0.014565</td>\n",
       "      <td>2.20</td>\n",
       "      <td>3.28</td>\n",
       "      <td>1</td>\n",
       "      <td>1</td>\n",
       "    </tr>\n",
       "    <tr>\n",
       "      <th>...</th>\n",
       "      <td>...</td>\n",
       "      <td>...</td>\n",
       "      <td>...</td>\n",
       "      <td>...</td>\n",
       "      <td>...</td>\n",
       "      <td>...</td>\n",
       "      <td>...</td>\n",
       "      <td>...</td>\n",
       "      <td>...</td>\n",
       "      <td>...</td>\n",
       "      <td>...</td>\n",
       "      <td>...</td>\n",
       "      <td>...</td>\n",
       "      <td>...</td>\n",
       "      <td>...</td>\n",
       "      <td>...</td>\n",
       "      <td>...</td>\n",
       "      <td>...</td>\n",
       "    </tr>\n",
       "    <tr>\n",
       "      <th>430</th>\n",
       "      <td>XRX</td>\n",
       "      <td>2019-10-29</td>\n",
       "      <td>0.135</td>\n",
       "      <td>0.837</td>\n",
       "      <td>0.028</td>\n",
       "      <td>1</td>\n",
       "      <td>34.42</td>\n",
       "      <td>0.117895</td>\n",
       "      <td>0.013695</td>\n",
       "      <td>0.026423</td>\n",
       "      <td>0.043784</td>\n",
       "      <td>0.034155</td>\n",
       "      <td>0.051763</td>\n",
       "      <td>0.064229</td>\n",
       "      <td>3.63</td>\n",
       "      <td>4.04</td>\n",
       "      <td>1</td>\n",
       "      <td>1</td>\n",
       "    </tr>\n",
       "    <tr>\n",
       "      <th>431</th>\n",
       "      <td>XYL</td>\n",
       "      <td>2019-08-01</td>\n",
       "      <td>0.148</td>\n",
       "      <td>0.834</td>\n",
       "      <td>0.018</td>\n",
       "      <td>1</td>\n",
       "      <td>78.81</td>\n",
       "      <td>-0.018433</td>\n",
       "      <td>-0.003877</td>\n",
       "      <td>-0.007078</td>\n",
       "      <td>-0.008607</td>\n",
       "      <td>0.010451</td>\n",
       "      <td>0.008061</td>\n",
       "      <td>0.010731</td>\n",
       "      <td>-1.48</td>\n",
       "      <td>-2.08</td>\n",
       "      <td>0</td>\n",
       "      <td>0</td>\n",
       "    </tr>\n",
       "    <tr>\n",
       "      <th>432</th>\n",
       "      <td>YUM</td>\n",
       "      <td>2019-10-30</td>\n",
       "      <td>0.157</td>\n",
       "      <td>0.827</td>\n",
       "      <td>0.016</td>\n",
       "      <td>1</td>\n",
       "      <td>103.34</td>\n",
       "      <td>-0.058148</td>\n",
       "      <td>-0.007123</td>\n",
       "      <td>-0.010805</td>\n",
       "      <td>-0.017491</td>\n",
       "      <td>0.018669</td>\n",
       "      <td>0.026579</td>\n",
       "      <td>0.035222</td>\n",
       "      <td>-6.38</td>\n",
       "      <td>-5.76</td>\n",
       "      <td>0</td>\n",
       "      <td>0</td>\n",
       "    </tr>\n",
       "    <tr>\n",
       "      <th>433</th>\n",
       "      <td>ZION</td>\n",
       "      <td>2019-10-21</td>\n",
       "      <td>0.126</td>\n",
       "      <td>0.845</td>\n",
       "      <td>0.029</td>\n",
       "      <td>1</td>\n",
       "      <td>45.67</td>\n",
       "      <td>0.021243</td>\n",
       "      <td>0.005741</td>\n",
       "      <td>0.006877</td>\n",
       "      <td>0.007600</td>\n",
       "      <td>0.014913</td>\n",
       "      <td>0.014507</td>\n",
       "      <td>0.018830</td>\n",
       "      <td>0.95</td>\n",
       "      <td>1.01</td>\n",
       "      <td>1</td>\n",
       "      <td>1</td>\n",
       "    </tr>\n",
       "    <tr>\n",
       "      <th>434</th>\n",
       "      <td>ZTS</td>\n",
       "      <td>2019-11-07</td>\n",
       "      <td>0.120</td>\n",
       "      <td>0.865</td>\n",
       "      <td>0.015</td>\n",
       "      <td>1</td>\n",
       "      <td>121.03</td>\n",
       "      <td>-0.003622</td>\n",
       "      <td>-0.001116</td>\n",
       "      <td>-0.010884</td>\n",
       "      <td>-0.009875</td>\n",
       "      <td>0.014669</td>\n",
       "      <td>0.017739</td>\n",
       "      <td>0.023772</td>\n",
       "      <td>-0.44</td>\n",
       "      <td>-3.73</td>\n",
       "      <td>0</td>\n",
       "      <td>0</td>\n",
       "    </tr>\n",
       "  </tbody>\n",
       "</table>\n",
       "<p>434 rows × 18 columns</p>\n",
       "</div>"
      ],
      "text/plain": [
       "    Ticker        Date    Pos    Neu    Neg  Normalized   Close   Returns  \\\n",
       "0        A  2019-08-14  0.101  0.884  0.014           1   65.59 -0.030308   \n",
       "1      AAL  2019-10-24  0.133  0.847  0.020           1   29.41  0.039590   \n",
       "2      AAP  2019-11-12  0.121  0.863  0.015           1  156.14 -0.075110   \n",
       "3     AAPL  2019-10-30  0.130  0.851  0.018           1  243.26 -0.000123   \n",
       "4     ABBV  2019-11-01  0.118  0.862  0.020           1   81.75  0.027656   \n",
       "..     ...         ...    ...    ...    ...         ...     ...       ...   \n",
       "430    XRX  2019-10-29  0.135  0.837  0.028           1   34.42  0.117895   \n",
       "431    XYL  2019-08-01  0.148  0.834  0.018           1   78.81 -0.018433   \n",
       "432    YUM  2019-10-30  0.157  0.827  0.016           1  103.34 -0.058148   \n",
       "433   ZION  2019-10-21  0.126  0.845  0.029           1   45.67  0.021243   \n",
       "434    ZTS  2019-11-07  0.120  0.865  0.015           1  121.03 -0.003622   \n",
       "\n",
       "     12-day Rolling  5-day Rolling  3-day Rolling  12-day Rolling Std  \\\n",
       "0         -0.005657      -0.006860      -0.014811            0.020223   \n",
       "1          0.009595       0.010526       0.009358            0.015567   \n",
       "2         -0.004594      -0.014186      -0.025911            0.024032   \n",
       "3          0.002627       0.000145      -0.004411            0.010672   \n",
       "4          0.007551       0.013349       0.013813            0.011847   \n",
       "..              ...            ...            ...                 ...   \n",
       "430        0.013695       0.026423       0.043784            0.034155   \n",
       "431       -0.003877      -0.007078      -0.008607            0.010451   \n",
       "432       -0.007123      -0.010805      -0.017491            0.018669   \n",
       "433        0.005741       0.006877       0.007600            0.014913   \n",
       "434       -0.001116      -0.010884      -0.009875            0.014669   \n",
       "\n",
       "     5-day Rolling Std  3-day Rolling Std  difference 1-day  \\\n",
       "0             0.024598           0.025959             -2.05   \n",
       "1             0.019245           0.027056              1.12   \n",
       "2             0.035081           0.043719            -12.68   \n",
       "3             0.014049           0.016983             -0.03   \n",
       "4             0.012865           0.014565              2.20   \n",
       "..                 ...                ...               ...   \n",
       "430           0.051763           0.064229              3.63   \n",
       "431           0.008061           0.010731             -1.48   \n",
       "432           0.026579           0.035222             -6.38   \n",
       "433           0.014507           0.018830              0.95   \n",
       "434           0.017739           0.023772             -0.44   \n",
       "\n",
       "     difference 3-days  direction 1-day  direction 3-days  \n",
       "0                -3.05                0                 0  \n",
       "1                 0.79                1                 1  \n",
       "2               -13.14                0                 0  \n",
       "3                -3.32                0                 0  \n",
       "4                 3.28                1                 1  \n",
       "..                 ...              ...               ...  \n",
       "430               4.04                1                 1  \n",
       "431              -2.08                0                 0  \n",
       "432              -5.76                0                 0  \n",
       "433               1.01                1                 1  \n",
       "434              -3.73                0                 0  \n",
       "\n",
       "[434 rows x 18 columns]"
      ]
     },
     "execution_count": 8,
     "metadata": {},
     "output_type": "execute_result"
    }
   ],
   "source": [
    "# import CSV file into dataframe\n",
    "\n",
    "file_path = Path('Resources/financials_and_sentiments.csv')\n",
    "df = pd.read_csv(file_path)\n",
    "#df['Date'] = pd.to_datetime(df['Date'],format='%Y-%m-%d')\n",
    "#df.set_index('Date',inplace=True)\n",
    "#df.sort_index(inplace=True)\n",
    "df.dropna()\n"
   ]
  },
  {
   "cell_type": "code",
   "execution_count": 12,
   "metadata": {},
   "outputs": [
    {
     "data": {
      "text/html": [
       "<div>\n",
       "<style scoped>\n",
       "    .dataframe tbody tr th:only-of-type {\n",
       "        vertical-align: middle;\n",
       "    }\n",
       "\n",
       "    .dataframe tbody tr th {\n",
       "        vertical-align: top;\n",
       "    }\n",
       "\n",
       "    .dataframe thead th {\n",
       "        text-align: right;\n",
       "    }\n",
       "</style>\n",
       "<table border=\"1\" class=\"dataframe\">\n",
       "  <thead>\n",
       "    <tr style=\"text-align: right;\">\n",
       "      <th></th>\n",
       "      <th>Pos</th>\n",
       "      <th>Neu</th>\n",
       "      <th>Neg</th>\n",
       "      <th>12-day Rolling</th>\n",
       "      <th>12-day Rolling Std</th>\n",
       "      <th>direction 1-day</th>\n",
       "      <th>month</th>\n",
       "    </tr>\n",
       "  </thead>\n",
       "  <tbody>\n",
       "    <tr>\n",
       "      <th>0</th>\n",
       "      <td>0.101</td>\n",
       "      <td>0.884</td>\n",
       "      <td>0.014</td>\n",
       "      <td>-0.005657</td>\n",
       "      <td>0.020223</td>\n",
       "      <td>0</td>\n",
       "      <td>8</td>\n",
       "    </tr>\n",
       "    <tr>\n",
       "      <th>1</th>\n",
       "      <td>0.133</td>\n",
       "      <td>0.847</td>\n",
       "      <td>0.020</td>\n",
       "      <td>0.009595</td>\n",
       "      <td>0.015567</td>\n",
       "      <td>1</td>\n",
       "      <td>10</td>\n",
       "    </tr>\n",
       "    <tr>\n",
       "      <th>2</th>\n",
       "      <td>0.121</td>\n",
       "      <td>0.863</td>\n",
       "      <td>0.015</td>\n",
       "      <td>-0.004594</td>\n",
       "      <td>0.024032</td>\n",
       "      <td>0</td>\n",
       "      <td>11</td>\n",
       "    </tr>\n",
       "    <tr>\n",
       "      <th>3</th>\n",
       "      <td>0.130</td>\n",
       "      <td>0.851</td>\n",
       "      <td>0.018</td>\n",
       "      <td>0.002627</td>\n",
       "      <td>0.010672</td>\n",
       "      <td>0</td>\n",
       "      <td>10</td>\n",
       "    </tr>\n",
       "    <tr>\n",
       "      <th>4</th>\n",
       "      <td>0.118</td>\n",
       "      <td>0.862</td>\n",
       "      <td>0.020</td>\n",
       "      <td>0.007551</td>\n",
       "      <td>0.011847</td>\n",
       "      <td>1</td>\n",
       "      <td>11</td>\n",
       "    </tr>\n",
       "  </tbody>\n",
       "</table>\n",
       "</div>"
      ],
      "text/plain": [
       "     Pos    Neu    Neg  12-day Rolling  12-day Rolling Std  direction 1-day  \\\n",
       "0  0.101  0.884  0.014       -0.005657            0.020223                0   \n",
       "1  0.133  0.847  0.020        0.009595            0.015567                1   \n",
       "2  0.121  0.863  0.015       -0.004594            0.024032                0   \n",
       "3  0.130  0.851  0.018        0.002627            0.010672                0   \n",
       "4  0.118  0.862  0.020        0.007551            0.011847                1   \n",
       "\n",
       "   month  \n",
       "0      8  \n",
       "1     10  \n",
       "2     11  \n",
       "3     10  \n",
       "4     11  "
      ]
     },
     "execution_count": 12,
     "metadata": {},
     "output_type": "execute_result"
    }
   ],
   "source": [
    "df['month'] = pd.DatetimeIndex(df['Date']).month\n",
    "columns_to_drop = [\"Ticker\",\"Date\",\"Normalized\",\"Close\",\"Returns\",\n",
    "                   \"5-day Rolling\",\"3-day Rolling\",\"5-day Rolling Std\",\"3-day Rolling Std\",\n",
    "                   \"difference 1-day\",\"difference 3-days\",\"direction 3-days\"]\n",
    "df_12day_post1day = df.drop(columns=columns_to_drop)\n",
    "df_12day_post1day.dropna(inplace=True)\n",
    "df_12day_post1day.head()"
   ]
  },
  {
   "cell_type": "code",
   "execution_count": 6,
   "metadata": {},
   "outputs": [],
   "source": [
    "X= df.iloc[:,4:8].dropna().values\n",
    "y= df.iloc[:,10:11].dropna().values\n",
    "# Use 70% of the data for training and the remainder for testing\n",
    "split = int(0.7 * len(X))\n",
    "X_train = X[: split - 1]\n",
    "X_test = X[split:]\n",
    "y_train = y[: split - 1]\n",
    "y_test = y[split:]\n"
   ]
  },
  {
   "cell_type": "markdown",
   "metadata": {},
   "source": [
    "## Split and Train Model"
   ]
  },
  {
   "cell_type": "code",
   "execution_count": null,
   "metadata": {},
   "outputs": [],
   "source": []
  },
  {
   "cell_type": "code",
   "execution_count": 7,
   "metadata": {},
   "outputs": [],
   "source": [
    "scaler = StandardScaler()\n",
    "\n",
    "# Fitting Standard Scaler\n",
    "X_scaler = scaler.fit(X)\n",
    "y_scaler=scaler.fit(y)\n",
    "\n",
    "# Scaling data\n",
    "X_train_scaled = X_scaler.transform(X)\n",
    "#X_test_scaled=X_scaler.transform(X_test)\n",
    "#y_train_scaled=y_scaler.transform(y_train)\n",
    "#y_test_scaled=y_scaler.transform(y_test)"
   ]
  },
  {
   "cell_type": "code",
   "execution_count": 8,
   "metadata": {},
   "outputs": [],
   "source": [
    "# Define the model - shallow neural net\n",
    "number_hidden_nodes = 8\n",
    "number_input_features = 4\n",
    "\n",
    "nn = Sequential([\n",
    "    Dense(units=number_hidden_nodes, input_dim=number_input_features, activation=tf.nn.relu),\n",
    "    Dense(units=1, activation=\"linear\")\n",
    "])"
   ]
  },
  {
   "cell_type": "code",
   "execution_count": 9,
   "metadata": {},
   "outputs": [],
   "source": [
    "# Compile the model\n",
    "nn.compile(loss=tf.losses.mean_squared_error, optimizer=tf.optimizers.RMSprop(0.0099), metrics=[tf.metrics.MeanAbsoluteError(),tf.metrics.MeanSquaredError()])\n",
    "\n",
    "# Train the model\n",
    "#model_1 = nn.fit(X_scaled, y, validation_split=0.3, epochs=200,verbose=False)\n",
    "model_1 = nn.fit(X_train_scaled, y,validation_split=0.3, epochs=300,verbose=False)"
   ]
  },
  {
   "cell_type": "code",
   "execution_count": 10,
   "metadata": {},
   "outputs": [
    {
     "data": {
      "image/png": "[encoded data removed]",
      "text/plain": [
       "<Figure size 432x288 with 1 Axes>"
      ]
     },
     "metadata": {
      "needs_background": "light"
     },
     "output_type": "display_data"
    }
   ],
   "source": [
    "# Plot the train and test loss function\n",
    "plt.plot(model_1.history[\"loss\"])\n",
    "plt.title(\"loss_function - 1 hidden layer\")\n",
    "plt.legend([\"loss\"])\n",
    "plt.show()"
   ]
  },
  {
   "cell_type": "code",
   "execution_count": 11,
   "metadata": {},
   "outputs": [],
   "source": [
    "# Define the model - deep neural net\n",
    "number_input_features = 4\n",
    "hidden_nodes_layer1 = 8\n",
    "hidden_nodes_layer2 = 4\n",
    "\n",
    "nn1 = Sequential([\n",
    "    Dense(units=hidden_nodes_layer1, input_dim=number_input_features, activation=tf.nn.relu),\n",
    "    Dense(units=hidden_nodes_layer2, activation=tf.nn.relu),\n",
    "    Dense(units=hidden_nodes_layer1, activation=tf.nn.relu),\n",
    "    #Dense(units=12, activation=tf.nn.selu),\n",
    "    Dense(units=1, activation=\"linear\")\n",
    "])"
   ]
  },
  {
   "cell_type": "code",
   "execution_count": 12,
   "metadata": {},
   "outputs": [],
   "source": [
    "# Compile model\n",
    "#nn.compile(loss=\"mean_squared_error\", optimizer=\"adam\", metrics=[\"mse\"])\n",
    "nn1.compile(loss=tf.losses.mean_squared_error, optimizer=tf.optimizers.RMSprop(0.0099), metrics=[tf.metrics.MeanAbsoluteError(),tf.metrics.MeanSquaredError()])\n",
    "# Fit the model\n",
    "model_2 = nn1.fit(X_train_scaled, y, validation_split=0.3,epochs=300,verbose=False)"
   ]
  },
  {
   "cell_type": "code",
   "execution_count": 13,
   "metadata": {},
   "outputs": [
    {
     "data": {
      "image/png": "[encoded data removed]",
      "text/plain": [
       "<Figure size 432x288 with 1 Axes>"
      ]
     },
     "metadata": {
      "needs_background": "light"
     },
     "output_type": "display_data"
    }
   ],
   "source": [
    "plt.plot(model_1.history[\"loss\"])\n",
    "plt.plot(model_2.history[\"loss\"])\n",
    "plt.title(\"loss_function - Training\")\n",
    "plt.legend([\"1 hidden layer\", \"3 hidden layers\"])\n",
    "plt.show()"
   ]
  },
  {
   "cell_type": "code",
   "execution_count": 14,
   "metadata": {},
   "outputs": [
    {
     "data": {
      "image/png": "[encoded data removed]",
      "text/plain": [
       "<Figure size 432x288 with 1 Axes>"
      ]
     },
     "metadata": {
      "needs_background": "light"
     },
     "output_type": "display_data"
    }
   ],
   "source": [
    "# Train vs test for shallow net\n",
    "plt.plot(model_1.history[\"loss\"])\n",
    "plt.plot(model_1.history[\"val_loss\"])\n",
    "plt.title(\"loss_function - Training Vs. Validation - 1 hidden layer\")\n",
    "plt.legend([\"train\", \"test\"])\n",
    "plt.show()"
   ]
  },
  {
   "cell_type": "code",
   "execution_count": 15,
   "metadata": {},
   "outputs": [
    {
     "data": {
      "image/png": "[encoded data removed]",
      "text/plain": [
       "<Figure size 432x288 with 1 Axes>"
      ]
     },
     "metadata": {
      "needs_background": "light"
     },
     "output_type": "display_data"
    }
   ],
   "source": [
    "# Train vs test for deep net\n",
    "plt.plot(model_2.history[\"loss\"])\n",
    "plt.plot(model_2.history[\"val_loss\"])\n",
    "\n",
    "plt.title(\"loss_function - Training Vs. Validation - 2 hidden layers\")\n",
    "plt.legend([\"train\", \"test\"])\n",
    "plt.show()"
   ]
  },
  {
   "cell_type": "code",
   "execution_count": 16,
   "metadata": {},
   "outputs": [
    {
     "data": {
      "image/png": "[encoded data removed]",
      "text/plain": [
       "<Figure size 432x288 with 1 Axes>"
      ]
     },
     "metadata": {
      "needs_background": "light"
     },
     "output_type": "display_data"
    }
   ],
   "source": [
    "plt.plot(model_2.history['mean_absolute_error'])\n",
    "plt.plot(model_2.history['val_mean_absolute_error'])\n",
    "plt.title(\"MAE_function - Training Vs. Validation - 2 hidden layers\")\n",
    "plt.legend([\"train\", \"test\"])\n",
    "\n",
    "plt.show()"
   ]
  },
  {
   "cell_type": "code",
   "execution_count": 17,
   "metadata": {},
   "outputs": [
    {
     "ename": "NameError",
     "evalue": "name 'X_test_scaled' is not defined",
     "output_type": "error",
     "traceback": [
      "\u001b[1;31m---------------------------------------------------------------------------\u001b[0m",
      "\u001b[1;31mNameError\u001b[0m                                 Traceback (most recent call last)",
      "\u001b[1;32m<ipython-input-17-978e55c00fb9>\u001b[0m in \u001b[0;36m<module>\u001b[1;34m\u001b[0m\n\u001b[1;32m----> 1\u001b[1;33m \u001b[0mpredictions\u001b[0m\u001b[1;33m=\u001b[0m\u001b[0mnn\u001b[0m\u001b[1;33m.\u001b[0m\u001b[0mpredict\u001b[0m\u001b[1;33m(\u001b[0m\u001b[0mX_test_scaled\u001b[0m\u001b[1;33m)\u001b[0m\u001b[1;33m\u001b[0m\u001b[1;33m\u001b[0m\u001b[0m\n\u001b[0m\u001b[0;32m      2\u001b[0m \u001b[0mpredictions\u001b[0m\u001b[1;33m\u001b[0m\u001b[1;33m\u001b[0m\u001b[0m\n\u001b[0;32m      3\u001b[0m \u001b[0mplt\u001b[0m\u001b[1;33m.\u001b[0m\u001b[0mplot\u001b[0m\u001b[1;33m(\u001b[0m\u001b[0mpredictions\u001b[0m\u001b[1;33m)\u001b[0m\u001b[1;33m\u001b[0m\u001b[1;33m\u001b[0m\u001b[0m\n\u001b[0;32m      4\u001b[0m \u001b[0mplt\u001b[0m\u001b[1;33m.\u001b[0m\u001b[0mshow\u001b[0m\u001b[1;33m(\u001b[0m\u001b[1;33m)\u001b[0m\u001b[1;33m\u001b[0m\u001b[1;33m\u001b[0m\u001b[0m\n",
      "\u001b[1;31mNameError\u001b[0m: name 'X_test_scaled' is not defined"
     ]
    }
   ],
   "source": [
    "predictions=nn.predict(X_test_scaled)\n",
    "predictions\n",
    "plt.plot(predictions)\n",
    "plt.show()"
   ]
  },
  {
   "cell_type": "code",
   "execution_count": null,
   "metadata": {},
   "outputs": [],
   "source": [
    "def str2float(x):\n",
    "    return float(x)\n",
    "file_path = Path(\"./GS_Test/GS_Percent_Changes.csv\")\n",
    "df = pd.read_csv(file_path)\n",
    "df['Date'] = pd.to_datetime(df['Date'],format='%m/%d/%y')\n",
    "df.set_index('Date',inplace=True)\n",
    "df.sort_index(inplace=True)\n",
    "df.dropna()\n",
    "\n",
    "X= df.iloc[:,0:3].dropna().values\n",
    "y= df.PRICE_PerCng_DayPrior.dropna().values\n"
   ]
  },
  {
   "cell_type": "code",
   "execution_count": null,
   "metadata": {},
   "outputs": [],
   "source": [
    "# Fitting Standard Scaler\n",
    "X_scaler = scaler.fit(X)\n",
    "\n",
    "# Scaling data\n",
    "X_scaled = X_scaler.transform(X)\n",
    "number_hidden_nodes = 8\n",
    "number_input_features = 3\n",
    "\n",
    "nn = Sequential([\n",
    "    Dense(units=number_hidden_nodes, input_dim=number_input_features, activation=tf.nn.selu),\n",
    "    Dense(units=1, activation=\"linear\")\n",
    "])\n",
    "\n",
    "# Compile the model\n",
    "nn.compile(loss=tf.losses.mean_squared_error, optimizer=tf.optimizers.RMSprop(0.0099), metrics=[tf.metrics.MeanAbsoluteError(),tf.metrics.MeanSquaredError()])\n",
    "\n",
    "# Train the model\n",
    "model_1 = nn.fit(X_scaled, y, validation_split=0.3, epochs=200,verbose=False)"
   ]
  },
  {
   "cell_type": "code",
   "execution_count": null,
   "metadata": {},
   "outputs": [],
   "source": [
    "### Plot the train and test loss function\n",
    "plt.plot(model_1.history[\"loss\"])\n",
    "plt.title(\"loss_function - 1 hidden layer\")\n",
    "plt.legend([\"loss\"])\n",
    "plt.show()"
   ]
  },
  {
   "cell_type": "code",
   "execution_count": null,
   "metadata": {},
   "outputs": [],
   "source": [
    "number_input_features = 3\n",
    "hidden_nodes_layer1 = 8\n",
    "hidden_nodes_layer2 = 4\n",
    "\n",
    "nn1 = Sequential([\n",
    "    Dense(units=hidden_nodes_layer1, input_dim=number_input_features, activation=tf.nn.selu),\n",
    "    Dense(units=hidden_nodes_layer2, activation=tf.nn.selu),\n",
    "    Dense(units=hidden_nodes_layer1, activation=tf.nn.selu),\n",
    "    Dense(units=12, activation=tf.nn.selu),\n",
    "    Dense(units=1, activation=\"linear\")\n",
    "])\n",
    "# Compile model\n",
    "#nn.compile(loss=\"mean_squared_error\", optimizer=\"adam\", metrics=[\"mse\"])\n",
    "nn1.compile(loss=tf.losses.mean_squared_error, optimizer=tf.optimizers.RMSprop(0.0099), metrics=[tf.metrics.MeanAbsoluteError(),tf.metrics.MeanSquaredError()])\n",
    "# Fit the model\n",
    "model_2 = nn1.fit(X_scaled, y, validation_split=0.3, epochs=200,verbose=False)"
   ]
  },
  {
   "cell_type": "code",
   "execution_count": null,
   "metadata": {},
   "outputs": [],
   "source": [
    "plt.plot(model_1.history[\"loss\"])\n",
    "plt.plot(model_2.history[\"loss\"])\n",
    "plt.title(\"loss_function - Training\")\n",
    "plt.legend([\"1 hidden layer\", \"4 hidden layers\"])\n",
    "plt.show()"
   ]
  },
  {
   "cell_type": "code",
   "execution_count": null,
   "metadata": {},
   "outputs": [],
   "source": [
    "# Train vs test for deep net\n",
    "plt.plot(model_2.history[\"loss\"])\n",
    "plt.plot(model_2.history[\"val_loss\"])\n",
    "\n",
    "plt.title(\"loss_function - Training Vs. Validation - 2 hidden layers\")\n",
    "plt.legend([\"train\", \"test\"])\n",
    "plt.show()"
   ]
  },
  {
   "cell_type": "code",
   "execution_count": null,
   "metadata": {},
   "outputs": [],
   "source": [
    "plt.plot(model_2.history['mean_absolute_error'])\n",
    "plt.plot(model_2.history['val_mean_absolute_error'])\n",
    "plt.title(\"MAE_function - Training Vs. Validation - 2 hidden layers\")\n",
    "plt.legend([\"train\", \"test\"])\n",
    "plt.show()"
   ]
  },
  {
   "cell_type": "code",
   "execution_count": null,
   "metadata": {},
   "outputs": [],
   "source": []
  }
 ],
 "metadata": {
  "kernelspec": {
   "display_name": "Python 3",
   "language": "python",
   "name": "python3"
  },
  "language_info": {
   "codemirror_mode": {
    "name": "ipython",
    "version": 3
   },
   "file_extension": ".py",
   "mimetype": "text/x-python",
   "name": "python",
   "nbconvert_exporter": "python",
   "pygments_lexer": "ipython3",
   "version": "3.7.3"
  }
 },
 "nbformat": 4,
 "nbformat_minor": 4
}
