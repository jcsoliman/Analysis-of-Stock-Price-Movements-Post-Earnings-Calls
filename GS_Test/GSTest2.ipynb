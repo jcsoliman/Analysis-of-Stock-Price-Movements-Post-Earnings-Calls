{
 "cells": [
  {
   "cell_type": "code",
   "execution_count": 1,
   "metadata": {},
   "outputs": [
    {
     "name": "stderr",
     "output_type": "stream",
     "text": [
      "[nltk_data] Downloading package vader_lexicon to\n",
      "[nltk_data]     /Users/jeneia/nltk_data...\n",
      "[nltk_data]   Package vader_lexicon is already up-to-date!\n"
     ]
    },
    {
     "data": {
      "text/plain": [
       "True"
      ]
     },
     "execution_count": 1,
     "metadata": {},
     "output_type": "execute_result"
    }
   ],
   "source": [
    "import textract\n",
    "import os\n",
    "from path import Path\n",
    "import pandas as pd\n",
    "import nltk\n",
    "from nltk.sentiment.vader import SentimentIntensityAnalyzer\n",
    "nltk.download('vader_lexicon')"
   ]
  },
  {
   "cell_type": "code",
   "execution_count": 2,
   "metadata": {},
   "outputs": [],
   "source": [
    "pdfFile_2015Q1 = \"./Transcripts/GS_2015_Q1.pdf\""
   ]
  },
  {
   "cell_type": "code",
   "execution_count": 3,
   "metadata": {},
   "outputs": [],
   "source": [
    "pdfFile_2015Q2 = \"./Transcripts/GS_2015_Q2.pdf\""
   ]
  },
  {
   "cell_type": "code",
   "execution_count": 4,
   "metadata": {},
   "outputs": [],
   "source": [
    "pdfFile_2015Q3 = \"./Transcripts/GS_2015_Q3.pdf\""
   ]
  },
  {
   "cell_type": "code",
   "execution_count": 5,
   "metadata": {},
   "outputs": [],
   "source": [
    "pdfFile_2015Q4 = \"./Transcripts/GS_2015_Q4.pdf\""
   ]
  },
  {
   "cell_type": "code",
   "execution_count": 6,
   "metadata": {},
   "outputs": [
    {
     "data": {
      "text/plain": [
       "\"Transcripts  |  FinancialGoldman Sachs' (GS) Management on Q1 2015 Results -Earnings Call TranscriptApr. 16, 2015 2:13 PM ETby: SA TranscriptsQ1: 04-16-15 Earnings Summary 10-Q EPS of $5.94 beats by $1.67 | Revenue of $10.62B (13.82% Y/Y) beats by $1.23BThe Goldman Sachs Group, Inc. (NYSE:GS) Q1 2015 Earnings Conference Call April 16,2015 9:30 AM ETExecutivesDane Holmes - Investor RelationsHarvey Schwartz - CFOAnalystsGlenn Schorr - EvercoreChristian Bolu - Credit SuisseMatt O'Connor - Deutsche \""
      ]
     },
     "execution_count": 6,
     "metadata": {},
     "output_type": "execute_result"
    }
   ],
   "source": [
    "text_2015Q1 = textract.process(pdfFile_2015Q1)\n",
    "encoding = 'utf-8'\n",
    "text_2015Q1 = text_2015Q1.decode(encoding)\n",
    "text_2015Q1 = str(text_2015Q1).replace(\"\\n\", \"\").replace(\"\\\\\", \"\")\n",
    "text_2015Q1[:500]"
   ]
  },
  {
   "cell_type": "code",
   "execution_count": 7,
   "metadata": {},
   "outputs": [
    {
     "data": {
      "text/plain": [
       "'Transcripts  |  FinancialThe Goldman Sachs Group (GS) Q2 2015 Results - EarningsCall TranscriptJul. 16, 2015 2:39 PM ETby: SA TranscriptsQ2: 07-16-15 Earnings Summary 10-Q EPS of $4.75 beats by $0.80 | Revenue of $9.07B (-0.61% Y/Y) beats by $293.92MThe Goldman Sachs Group, Inc. (NYSE:GS) Q2 2015 Ea'"
      ]
     },
     "execution_count": 7,
     "metadata": {},
     "output_type": "execute_result"
    }
   ],
   "source": [
    "text_2015Q2 = textract.process(pdfFile_2015Q2)\n",
    "encoding = 'utf-8'\n",
    "text_2015Q2 = text_2015Q2.decode(encoding)\n",
    "text_2015Q2 = str(text_2015Q2).replace(\"\\n\", \"\").replace(\"\\\\\", \"\")\n",
    "text_2015Q2[:300]"
   ]
  },
  {
   "cell_type": "code",
   "execution_count": 8,
   "metadata": {},
   "outputs": [
    {
     "data": {
      "text/plain": [
       "\"Transcripts  |  FinancialGoldman Sachs Group's (GS) Management Presents at Q32015 Results - Earnings Call TranscriptOct. 15, 2015 4:22 PM ETby: SA TranscriptsQ3: 10-15-15 Earnings Summary 10-Q EPS of $2.9 misses by $-0.23 | Revenue of $6.86B (-18.19% Y/Y) misses by $-65.67MGoldman Sachs Group Inc. (\""
      ]
     },
     "execution_count": 8,
     "metadata": {},
     "output_type": "execute_result"
    }
   ],
   "source": [
    "text_2015Q3 = textract.process(pdfFile_2015Q3)\n",
    "encoding = 'utf-8'\n",
    "text_2015Q3 = text_2015Q3.decode(encoding)\n",
    "text_2015Q3 = str(text_2015Q3).replace(\"\\n\", \"\").replace(\"\\\\\", \"\")\n",
    "text_2015Q3[:300]"
   ]
  },
  {
   "cell_type": "code",
   "execution_count": 9,
   "metadata": {},
   "outputs": [
    {
     "data": {
      "text/plain": [
       "'Transcripts  |  FinancialGoldman Sachs Group (GS) Q4 2015 Results - Earnings CallTranscriptJan. 20, 2016 2:14 PM ETby: SA TranscriptsQ4: 01-20-16 Earnings Summary 10-K EPS of $4.68 beats by $1.06 | Revenue of $7.27B (-5.40% Y/Y) beats by $228.89MGoldman Sachs Group (NYSE:GS) Q4 2015 Results Earnings'"
      ]
     },
     "execution_count": 9,
     "metadata": {},
     "output_type": "execute_result"
    }
   ],
   "source": [
    "text_2015Q4 = textract.process(pdfFile_2015Q4)\n",
    "encoding = 'utf-8'\n",
    "text_2015Q4 = text_2015Q4.decode(encoding)\n",
    "text_2015Q4 = str(text_2015Q4).replace(\"\\n\", \"\").replace(\"\\\\\", \"\")\n",
    "text_2015Q4[:300]"
   ]
  },
  {
   "cell_type": "code",
   "execution_count": 10,
   "metadata": {},
   "outputs": [],
   "source": [
    "analyzer = SentimentIntensityAnalyzer()"
   ]
  },
  {
   "cell_type": "code",
   "execution_count": 11,
   "metadata": {},
   "outputs": [
    {
     "name": "stdout",
     "output_type": "stream",
     "text": [
      "{'neg': 0.019, 'neu': 0.85, 'pos': 0.131, 'compound': 1.0}\n"
     ]
    }
   ],
   "source": [
    "sentiment_2015Q1 = analyzer.polarity_scores(text_2015Q1)\n",
    "print(sentiment_2015Q1)"
   ]
  },
  {
   "cell_type": "code",
   "execution_count": 12,
   "metadata": {},
   "outputs": [
    {
     "name": "stdout",
     "output_type": "stream",
     "text": [
      "{'neg': 0.025, 'neu': 0.852, 'pos': 0.123, 'compound': 1.0}\n"
     ]
    }
   ],
   "source": [
    "sentiment_2015Q2 = analyzer.polarity_scores(text_2015Q2)\n",
    "print(sentiment_2015Q2)"
   ]
  },
  {
   "cell_type": "code",
   "execution_count": 13,
   "metadata": {},
   "outputs": [
    {
     "name": "stdout",
     "output_type": "stream",
     "text": [
      "{'neg': 0.027, 'neu': 0.844, 'pos': 0.129, 'compound': 1.0}\n"
     ]
    }
   ],
   "source": [
    "sentiment_2015Q3 = analyzer.polarity_scores(text_2015Q3)\n",
    "print(sentiment_2015Q3)"
   ]
  },
  {
   "cell_type": "code",
   "execution_count": 14,
   "metadata": {},
   "outputs": [
    {
     "name": "stdout",
     "output_type": "stream",
     "text": [
      "{'neg': 0.029, 'neu': 0.863, 'pos': 0.107, 'compound': 1.0}\n"
     ]
    }
   ],
   "source": [
    "sentiment_2015Q4 = analyzer.polarity_scores(text_2015Q4)\n",
    "print(sentiment_2015Q4)"
   ]
  },
  {
   "cell_type": "markdown",
   "metadata": {},
   "source": [
    "2016 GS Analysis"
   ]
  },
  {
   "cell_type": "code",
   "execution_count": 15,
   "metadata": {},
   "outputs": [],
   "source": [
    "pdfFile_2016Q1 = \"./Transcripts/GS_2016_Q1.pdf\"\n",
    "pdfFile_2016Q2 = \"./Transcripts/GS_2016_Q2.pdf\"\n",
    "pdfFile_2016Q3 = \"./Transcripts/GS_2016_Q3.pdf\"\n",
    "pdfFile_2016Q4 = \"./Transcripts/GS_2016_Q4.pdf\""
   ]
  },
  {
   "cell_type": "code",
   "execution_count": 16,
   "metadata": {},
   "outputs": [],
   "source": [
    "text_2016Q1 = textract.process(pdfFile_2016Q1)\n",
    "encoding = 'utf-8'\n",
    "text_2016Q1 = text_2016Q1.decode(encoding)\n",
    "text_2016Q1 = str(text_2016Q1).replace(\"\\n\", \"\").replace(\"\\\\\", \"\")"
   ]
  },
  {
   "cell_type": "code",
   "execution_count": 17,
   "metadata": {},
   "outputs": [],
   "source": [
    "text_2016Q2 = textract.process(pdfFile_2016Q2)\n",
    "encoding = 'utf-8'\n",
    "text_2016Q2 = text_2016Q2.decode(encoding)\n",
    "text_2016Q2 = str(text_2016Q2).replace(\"\\n\", \"\").replace(\"\\\\\", \"\")"
   ]
  },
  {
   "cell_type": "code",
   "execution_count": 18,
   "metadata": {},
   "outputs": [],
   "source": [
    "text_2016Q3 = textract.process(pdfFile_2016Q3)\n",
    "encoding = 'utf-8'\n",
    "text_2016Q3 = text_2016Q3.decode(encoding)\n",
    "text_2016Q3 = str(text_2016Q3).replace(\"\\n\", \"\").replace(\"\\\\\", \"\")"
   ]
  },
  {
   "cell_type": "code",
   "execution_count": 19,
   "metadata": {},
   "outputs": [],
   "source": [
    "text_2016Q4 = textract.process(pdfFile_2016Q4)\n",
    "encoding = 'utf-8'\n",
    "text_2016Q4 = text_2016Q4.decode(encoding)\n",
    "text_2016Q4 = str(text_2016Q4).replace(\"\\n\", \"\").replace(\"\\\\\", \"\")"
   ]
  },
  {
   "cell_type": "code",
   "execution_count": 20,
   "metadata": {},
   "outputs": [],
   "source": [
    "sentiment_2016Q1 = analyzer.polarity_scores(text_2016Q1)\n",
    "sentiment_2016Q2 = analyzer.polarity_scores(text_2016Q2)\n",
    "sentiment_2016Q3 = analyzer.polarity_scores(text_2016Q3)\n",
    "sentiment_2016Q4 = analyzer.polarity_scores(text_2016Q4)"
   ]
  },
  {
   "cell_type": "code",
   "execution_count": 21,
   "metadata": {},
   "outputs": [
    {
     "name": "stdout",
     "output_type": "stream",
     "text": [
      "{'neg': 0.031, 'neu': 0.84, 'pos': 0.129, 'compound': 1.0}\n"
     ]
    }
   ],
   "source": [
    "print(sentiment_2016Q1)"
   ]
  },
  {
   "cell_type": "code",
   "execution_count": 22,
   "metadata": {},
   "outputs": [
    {
     "name": "stdout",
     "output_type": "stream",
     "text": [
      "{'neg': 0.024, 'neu': 0.864, 'pos': 0.112, 'compound': 1.0}\n"
     ]
    }
   ],
   "source": [
    "print(sentiment_2016Q2)"
   ]
  },
  {
   "cell_type": "code",
   "execution_count": 23,
   "metadata": {},
   "outputs": [
    {
     "name": "stdout",
     "output_type": "stream",
     "text": [
      "{'neg': 0.022, 'neu': 0.843, 'pos': 0.135, 'compound': 1.0}\n"
     ]
    }
   ],
   "source": [
    "print(sentiment_2016Q3)"
   ]
  },
  {
   "cell_type": "code",
   "execution_count": 24,
   "metadata": {},
   "outputs": [
    {
     "name": "stdout",
     "output_type": "stream",
     "text": [
      "{'neg': 0.024, 'neu': 0.835, 'pos': 0.14, 'compound': 1.0}\n"
     ]
    }
   ],
   "source": [
    "print(sentiment_2016Q4)"
   ]
  },
  {
   "cell_type": "code",
   "execution_count": 25,
   "metadata": {},
   "outputs": [
    {
     "data": {
      "text/plain": [
       "'Transcripts  |  FinancialThe Goldman Sachs Group (GS) Q1 2016 Results - EarningsCall TranscriptApr. 19, 2016 1:45 PM ETby: SA TranscriptsQ1: 04-19-16 Earnings Summary 10-Q EPS of $2.68 beats by $0.18 | Revenue of $6.34B (-40.30% Y/Y) misses by $-185.46MThe Goldman Sachs Group, Inc. (NYSE:GS) Q1 2016'"
      ]
     },
     "execution_count": 25,
     "metadata": {},
     "output_type": "execute_result"
    }
   ],
   "source": [
    "text_2016Q1[:300]"
   ]
  },
  {
   "cell_type": "code",
   "execution_count": 26,
   "metadata": {},
   "outputs": [
    {
     "data": {
      "text/plain": [
       "\"Transcripts  |  FinancialGoldman Sachs Group's (GS) on Q2 2016 Results - EarningsCall TranscriptJul. 19, 2016 2:42 PM ET1 commentby: SA TranscriptsQ2: 07-19-16 Earnings Summary 10-Q EPS of $3.72 beats by $0.68 | Revenue of $7.93B (-12.54% Y/Y) beats by $484.47MGoldman Sachs Group Inc. (NYSE:GS) Q2 2\""
      ]
     },
     "execution_count": 26,
     "metadata": {},
     "output_type": "execute_result"
    }
   ],
   "source": [
    "text_2016Q2[:300]"
   ]
  },
  {
   "cell_type": "code",
   "execution_count": 27,
   "metadata": {},
   "outputs": [
    {
     "data": {
      "text/plain": [
       "\"Transcripts  |  FinancialGoldman Sachs Group's (GS) Management on Q3 2016Results - Earnings Call TranscriptOct. 18, 2016 4:42 PM ETby: SA TranscriptsQ3: 10-18-16 Earnings Summary 10-Q EPS of $4.88 beats by $1.05 | Revenue of $8.17B (19.05% Y/Y) beats by $761.06MGoldman Sachs Group Inc. (NYSE:GS) Q3 \""
      ]
     },
     "execution_count": 27,
     "metadata": {},
     "output_type": "execute_result"
    }
   ],
   "source": [
    "text_2016Q3[:300]"
   ]
  },
  {
   "cell_type": "code",
   "execution_count": 28,
   "metadata": {},
   "outputs": [
    {
     "data": {
      "text/plain": [
       "\"Transcripts  |  FinancialGoldman Sachs Group's (GS) Q4 2016 Results - EarningsCall TranscriptJan. 18, 2017 3:03 PM ETby: SA TranscriptsQ4: 01-18-17 Earnings Summary 10-K EPS of $5.08 beats by $0.28 | Revenue of $8.17B (12.33% Y/Y) beats by $367.32MGoldman Sachs Group Inc. (NYSE:GS) Q4 2016 Earnings \""
      ]
     },
     "execution_count": 28,
     "metadata": {},
     "output_type": "execute_result"
    }
   ],
   "source": [
    "text_2016Q4[:300]"
   ]
  },
  {
   "cell_type": "markdown",
   "metadata": {},
   "source": [
    "2017 GS ANALYSIS"
   ]
  },
  {
   "cell_type": "code",
   "execution_count": 29,
   "metadata": {},
   "outputs": [],
   "source": [
    "pdfFile_2017Q1 = \"./Transcripts/GS_2017_Q1.pdf\"\n",
    "pdfFile_2017Q2 = \"./Transcripts/GS_2017_Q2.pdf\"\n",
    "pdfFile_2017Q3 = \"./Transcripts/GS_2017_Q3.pdf\"\n",
    "pdfFile_2017Q4 = \"./Transcripts/GS_2017_Q4.pdf\""
   ]
  },
  {
   "cell_type": "code",
   "execution_count": 30,
   "metadata": {},
   "outputs": [],
   "source": [
    "text_2017Q1 = textract.process(pdfFile_2017Q1)\n",
    "encoding = 'utf-8'\n",
    "text_2017Q1 = text_2017Q1.decode(encoding)\n",
    "text_2017Q1 = str(text_2017Q1).replace(\"\\n\", \"\").replace(\"\\\\\", \"\")"
   ]
  },
  {
   "cell_type": "code",
   "execution_count": 31,
   "metadata": {},
   "outputs": [],
   "source": [
    "text_2017Q2 = textract.process(pdfFile_2017Q2)\n",
    "encoding = 'utf-8'\n",
    "text_2017Q2 = text_2017Q2.decode(encoding)\n",
    "text_2017Q2 = str(text_2017Q2).replace(\"\\n\", \"\").replace(\"\\\\\", \"\")"
   ]
  },
  {
   "cell_type": "code",
   "execution_count": 32,
   "metadata": {},
   "outputs": [],
   "source": [
    "text_2017Q3 = textract.process(pdfFile_2017Q3)\n",
    "encoding = 'utf-8'\n",
    "text_2017Q3 = text_2017Q3.decode(encoding)\n",
    "text_2017Q3 = str(text_2017Q3).replace(\"\\n\", \"\").replace(\"\\\\\", \"\")"
   ]
  },
  {
   "cell_type": "code",
   "execution_count": 33,
   "metadata": {},
   "outputs": [],
   "source": [
    "text_2017Q4 = textract.process(pdfFile_2017Q4)\n",
    "encoding = 'utf-8'\n",
    "text_2017Q4 = text_2017Q4.decode(encoding)\n",
    "text_2017Q4 = str(text_2017Q4).replace(\"\\n\", \"\").replace(\"\\\\\", \"\")"
   ]
  },
  {
   "cell_type": "code",
   "execution_count": 34,
   "metadata": {},
   "outputs": [],
   "source": [
    "sentiment_2017Q1 = analyzer.polarity_scores(text_2017Q1)\n",
    "sentiment_2017Q2 = analyzer.polarity_scores(text_2017Q2)\n",
    "sentiment_2017Q3 = analyzer.polarity_scores(text_2017Q3)\n",
    "sentiment_2017Q4 = analyzer.polarity_scores(text_2017Q4)"
   ]
  },
  {
   "cell_type": "code",
   "execution_count": 35,
   "metadata": {},
   "outputs": [
    {
     "data": {
      "text/plain": [
       "'Transcripts  |  FinancialGoldman Sachs Group (GS) on Q1 2017 Results - EarningsCall TranscriptApr. 18, 2017 2:25 PM ET1 commentby: SA TranscriptsQ1: 04-18-17 Earnings Summary 10-Q EPS of $5.15 misses by $-0.02 | Revenue of $8.03B (26.63% Y/Y) misses by $-320.71MGoldman Sachs Group Inc. (NYSE:GS) Q1 '"
      ]
     },
     "execution_count": 35,
     "metadata": {},
     "output_type": "execute_result"
    }
   ],
   "source": [
    "text_2017Q1[:300]"
   ]
  },
  {
   "cell_type": "code",
   "execution_count": 36,
   "metadata": {},
   "outputs": [
    {
     "data": {
      "text/plain": [
       "'Transcripts  |  FinancialGoldman Sachs Group (GS) Q2 2017 Results - Earnings CallTranscriptJul. 18, 2017 4:13 PM ETby: SA TranscriptsQ2: 07-18-17 Earnings Summary 10-Q EPS of $3.95 beats by $0.56 | Revenue of $7.89B (-0.57% Y/Y) beats by $414.7MGoldman Sachs Group Inc. (NYSE:GS) Q2 2017 Results Earn'"
      ]
     },
     "execution_count": 36,
     "metadata": {},
     "output_type": "execute_result"
    }
   ],
   "source": [
    "text_2017Q2 [:300]"
   ]
  },
  {
   "cell_type": "code",
   "execution_count": 38,
   "metadata": {},
   "outputs": [
    {
     "data": {
      "text/plain": [
       "'Transcripts  |  FinancialGoldman Sachs (GS) Q3 2017 Results - Earnings CallTranscriptOct. 17, 2017 2:32 PM ETby: SA TranscriptsQ3: 10-17-17 Earnings Summary 10-Q EPS of $5.02 beats by $0.87 | Revenue of $8.33B (1.93% Y/Y) beats by $748.42MThe Goldman Sachs Group, Inc. (NYSE:GS) Q3 2017 Results Earni'"
      ]
     },
     "execution_count": 38,
     "metadata": {},
     "output_type": "execute_result"
    }
   ],
   "source": [
    "text_2017Q3 [:300]"
   ]
  },
  {
   "cell_type": "code",
   "execution_count": 39,
   "metadata": {},
   "outputs": [
    {
     "data": {
      "text/plain": [
       "'Transcripts  |  FinancialGoldman Sachs (GS) Q4 2017 Results - Earnings CallTranscriptJan. 17, 2018 3:49 PM ET1 commentby: SA TranscriptsQ4: 01-17-18 Earnings Summary 10-K EPS of $5.68 beats by $0.73 | Revenue of $7.83B (-4.11% Y/Y) beats by $195.72MThe Goldman Sachs Group, Inc. (NYSE:GS) Q4 2017 Res'"
      ]
     },
     "execution_count": 39,
     "metadata": {},
     "output_type": "execute_result"
    }
   ],
   "source": [
    "text_2017Q4[:300]"
   ]
  },
  {
   "cell_type": "code",
   "execution_count": 40,
   "metadata": {},
   "outputs": [
    {
     "name": "stdout",
     "output_type": "stream",
     "text": [
      "{'neg': 0.032, 'neu': 0.825, 'pos': 0.143, 'compound': 1.0}\n"
     ]
    }
   ],
   "source": [
    "print(sentiment_2017Q1)"
   ]
  },
  {
   "cell_type": "code",
   "execution_count": 41,
   "metadata": {},
   "outputs": [
    {
     "name": "stdout",
     "output_type": "stream",
     "text": [
      "{'neg': 0.032, 'neu': 0.84, 'pos': 0.128, 'compound': 1.0}\n"
     ]
    }
   ],
   "source": [
    "print(sentiment_2017Q2)"
   ]
  },
  {
   "cell_type": "code",
   "execution_count": 42,
   "metadata": {},
   "outputs": [
    {
     "name": "stdout",
     "output_type": "stream",
     "text": [
      "{'neg': 0.017, 'neu': 0.856, 'pos': 0.127, 'compound': 1.0}\n"
     ]
    }
   ],
   "source": [
    "print(sentiment_2017Q3)"
   ]
  },
  {
   "cell_type": "code",
   "execution_count": 43,
   "metadata": {},
   "outputs": [
    {
     "name": "stdout",
     "output_type": "stream",
     "text": [
      "{'neg': 0.02, 'neu': 0.878, 'pos': 0.101, 'compound': 1.0}\n"
     ]
    }
   ],
   "source": [
    "print(sentiment_2017Q4)"
   ]
  },
  {
   "cell_type": "markdown",
   "metadata": {},
   "source": [
    "2018 GS ANALYSIS"
   ]
  },
  {
   "cell_type": "code",
   "execution_count": 44,
   "metadata": {},
   "outputs": [],
   "source": [
    "pdfFile_2018Q1 = \"./Transcripts/GS_2018_Q1.pdf\"\n",
    "pdfFile_2018Q2 = \"./Transcripts/GS_2018_Q2.pdf\"\n",
    "pdfFile_2018Q3 = \"./Transcripts/GS_2018_Q3.pdf\"\n",
    "pdfFile_2018Q4 = \"./Transcripts/GS_2018_Q4.pdf\""
   ]
  },
  {
   "cell_type": "code",
   "execution_count": 45,
   "metadata": {},
   "outputs": [],
   "source": [
    "text_2018Q1 = textract.process(pdfFile_2018Q1)\n",
    "encoding = 'utf-8'\n",
    "text_2018Q1 = text_2018Q1.decode(encoding)\n",
    "text_2018Q1 = str(text_2018Q1).replace(\"\\n\", \"\").replace(\"\\\\\", \"\")"
   ]
  },
  {
   "cell_type": "code",
   "execution_count": 46,
   "metadata": {},
   "outputs": [],
   "source": [
    "text_2018Q2 = textract.process(pdfFile_2018Q2)\n",
    "encoding = 'utf-8'\n",
    "text_2018Q2 = text_2018Q2.decode(encoding)\n",
    "text_2018Q2 = str(text_2018Q2).replace(\"\\n\", \"\").replace(\"\\\\\", \"\")"
   ]
  },
  {
   "cell_type": "code",
   "execution_count": 47,
   "metadata": {},
   "outputs": [],
   "source": [
    "text_2018Q3 = textract.process(pdfFile_2018Q3)\n",
    "encoding = 'utf-8'\n",
    "text_2018Q3 = text_2018Q3.decode(encoding)\n",
    "text_2018Q3 = str(text_2018Q3).replace(\"\\n\", \"\").replace(\"\\\\\", \"\")"
   ]
  },
  {
   "cell_type": "code",
   "execution_count": 48,
   "metadata": {},
   "outputs": [],
   "source": [
    "text_2018Q4 = textract.process(pdfFile_2018Q4)\n",
    "encoding = 'utf-8'\n",
    "text_2018Q4 = text_2018Q4.decode(encoding)\n",
    "text_2018Q4 = str(text_2018Q4).replace(\"\\n\", \"\").replace(\"\\\\\", \"\")"
   ]
  },
  {
   "cell_type": "code",
   "execution_count": 49,
   "metadata": {},
   "outputs": [],
   "source": [
    "sentiment_2018Q1 = analyzer.polarity_scores(text_2018Q1)\n",
    "sentiment_2018Q2 = analyzer.polarity_scores(text_2018Q2)\n",
    "sentiment_2018Q3 = analyzer.polarity_scores(text_2018Q3)\n",
    "sentiment_2018Q4 = analyzer.polarity_scores(text_2018Q4)"
   ]
  },
  {
   "cell_type": "code",
   "execution_count": 50,
   "metadata": {},
   "outputs": [
    {
     "data": {
      "text/plain": [
       "'Transcripts  |  FinancialGoldman Sachs (GS) Q1 2018 Results - Earnings CallTranscriptApr. 17, 2018 6:12 PM ET  | 1 Like  | 1 Likeby: SA TranscriptsQ1: 04-17-18 Earnings Summary 10-Q EPS of $6.95 beats by $1.38 | Revenue of $10.04B (25.04% Y/Y) beats by $1.31BThe Goldman Sachs Group, Inc. (NYSE:GS) Q'"
      ]
     },
     "execution_count": 50,
     "metadata": {},
     "output_type": "execute_result"
    }
   ],
   "source": [
    "text_2018Q1[:300]"
   ]
  },
  {
   "cell_type": "code",
   "execution_count": 51,
   "metadata": {},
   "outputs": [
    {
     "data": {
      "text/plain": [
       "'Transcripts  |  FinancialGoldman Sachs Group Inc. (GS) Management on Q2 2018Results - Earnings Call TranscriptJul. 17, 2018 6:00 PM ET  | 2 Likes  | 2 Likesby: SA TranscriptsQ2: 07-17-18 Earnings Summary 10-Q EPS of $5.98 beats by $1.33 | Revenue of $9.4B (19.21% Y/Y) beats by $658.57MGoldman Sachs '"
      ]
     },
     "execution_count": 51,
     "metadata": {},
     "output_type": "execute_result"
    }
   ],
   "source": [
    "text_2018Q2[:300]"
   ]
  },
  {
   "cell_type": "code",
   "execution_count": 52,
   "metadata": {},
   "outputs": [
    {
     "data": {
      "text/plain": [
       "\"Transcripts  |  FinancialGoldman Sachs Group's (GS) Management on Q3 2018Results - Earnings Call TranscriptOct. 18, 2018 10:56 PM ETby: SA TranscriptsQ3: 10-16-18 Earnings Summary 10-Q EPS of $6.28 beats by $0.94 | Revenue of $8.65B (3.84% Y/Y) beats by $216.01MGoldman Sachs Group Inc. (NYSE:GS) Q3 \""
      ]
     },
     "execution_count": 52,
     "metadata": {},
     "output_type": "execute_result"
    }
   ],
   "source": [
    "text_2018Q3[:300]"
   ]
  },
  {
   "cell_type": "code",
   "execution_count": 53,
   "metadata": {},
   "outputs": [
    {
     "data": {
      "text/plain": [
       "'Transcripts  |  FinancialGoldman Sachs Group, Inc. (GS) CEO David Solomon on Q42018 Results - Earnings Call TranscriptJan. 16, 2019 2:27 PM ET  | 2 Likes  | 2 Likesby: SA TranscriptsQ4: 01-16-19 Earnings Summary 10-K  Slides EPS of $4.83 beats by $0.05 | Revenue of $8.08B (3.14% Y/Y) beats by $598.2'"
      ]
     },
     "execution_count": 53,
     "metadata": {},
     "output_type": "execute_result"
    }
   ],
   "source": [
    "text_2018Q4[:300]"
   ]
  },
  {
   "cell_type": "code",
   "execution_count": 54,
   "metadata": {},
   "outputs": [
    {
     "name": "stdout",
     "output_type": "stream",
     "text": [
      "{'neg': 0.021, 'neu': 0.83, 'pos': 0.149, 'compound': 1.0}\n"
     ]
    }
   ],
   "source": [
    "print(sentiment_2018Q1)"
   ]
  },
  {
   "cell_type": "code",
   "execution_count": 55,
   "metadata": {},
   "outputs": [
    {
     "name": "stdout",
     "output_type": "stream",
     "text": [
      "{'neg': 0.02, 'neu': 0.842, 'pos': 0.138, 'compound': 1.0}\n"
     ]
    }
   ],
   "source": [
    "print(sentiment_2018Q2)"
   ]
  },
  {
   "cell_type": "code",
   "execution_count": 56,
   "metadata": {},
   "outputs": [
    {
     "name": "stdout",
     "output_type": "stream",
     "text": [
      "{'neg': 0.016, 'neu': 0.843, 'pos': 0.142, 'compound': 1.0}\n"
     ]
    }
   ],
   "source": [
    "print(sentiment_2018Q3)"
   ]
  },
  {
   "cell_type": "code",
   "execution_count": 57,
   "metadata": {},
   "outputs": [
    {
     "name": "stdout",
     "output_type": "stream",
     "text": [
      "{'neg': 0.021, 'neu': 0.857, 'pos': 0.121, 'compound': 1.0}\n"
     ]
    }
   ],
   "source": [
    "print(sentiment_2018Q4)"
   ]
  },
  {
   "cell_type": "markdown",
   "metadata": {},
   "source": [
    "2019 GS ANALYSIS"
   ]
  },
  {
   "cell_type": "code",
   "execution_count": 58,
   "metadata": {},
   "outputs": [],
   "source": [
    "pdfFile_2019Q1 = \"./Transcripts/GS_2019_Q1.pdf\"\n",
    "pdfFile_2019Q2 = \"./Transcripts/GS_2019_Q2.pdf\"\n",
    "pdfFile_2019Q3 = \"./Transcripts/GS_2019_Q3.pdf\""
   ]
  },
  {
   "cell_type": "code",
   "execution_count": 59,
   "metadata": {},
   "outputs": [],
   "source": [
    "text_2019Q1 = textract.process(pdfFile_2019Q1)\n",
    "encoding = 'utf-8'\n",
    "text_2019Q1 = text_2019Q1.decode(encoding)\n",
    "text_2019Q1 = str(text_2019Q1).replace(\"\\n\", \"\").replace(\"\\\\\", \"\")"
   ]
  },
  {
   "cell_type": "code",
   "execution_count": 60,
   "metadata": {},
   "outputs": [],
   "source": [
    "text_2019Q2 = textract.process(pdfFile_2019Q2)\n",
    "encoding = 'utf-8'\n",
    "text_2019Q2 = text_2019Q2.decode(encoding)\n",
    "text_2019Q2 = str(text_2019Q2).replace(\"\\n\", \"\").replace(\"\\\\\", \"\")"
   ]
  },
  {
   "cell_type": "code",
   "execution_count": 61,
   "metadata": {},
   "outputs": [],
   "source": [
    "text_2019Q3 = textract.process(pdfFile_2019Q3)\n",
    "encoding = 'utf-8'\n",
    "text_2019Q3 = text_2019Q3.decode(encoding)\n",
    "text_2019Q3 = str(text_2019Q3).replace(\"\\n\", \"\").replace(\"\\\\\", \"\")"
   ]
  },
  {
   "cell_type": "code",
   "execution_count": 62,
   "metadata": {},
   "outputs": [
    {
     "data": {
      "text/plain": [
       "'Goldman SachsGroup Inc (GS) Q12019 Earnings CallTranscriptGS earnings call for the period ending March 31,2019.Motley Fool Transcribers (MFTranscribers)Apr 15, 2019 at 4.53PMGoldman Sachs Group Inc (NYSE:GS)Q1 2019 Earnings CallApril 15, 2019, 9\"00 a.m. ETContents:Prepared RemarksQuestions and Answe'"
      ]
     },
     "execution_count": 62,
     "metadata": {},
     "output_type": "execute_result"
    }
   ],
   "source": [
    "text_2019Q1[:300]"
   ]
  },
  {
   "cell_type": "code",
   "execution_count": 63,
   "metadata": {},
   "outputs": [
    {
     "data": {
      "text/plain": [
       "'Goldman SachsGroup Inc (GS) Q22019 Earnings CallTranscriptGS earnings call for the period ending June 30,2019.Motley Fool Transcribers (MFTranscribers)Jul 16, 2019 at 3.23PMGoldman Sachs GroupInc (NYSE:GS)Q2 2019 Earnings CallJul 16, 2019, 9\"30 a.m. ETContents:Prepared RemarksQuestions and AnswersCa'"
      ]
     },
     "execution_count": 63,
     "metadata": {},
     "output_type": "execute_result"
    }
   ],
   "source": [
    "text_2019Q2[:300]"
   ]
  },
  {
   "cell_type": "code",
   "execution_count": 64,
   "metadata": {},
   "outputs": [
    {
     "data": {
      "text/plain": [
       "'Transcripts  |  FinancialThe Goldman Sachs Group, Inc. (GS) CEO David Solomon onQ3 2019 Results - Earnings Call TranscriptOct. 15, 2019 8:26 PM ET  | 1 Like  | 1 Likeby: SA TranscriptsQ3: 10-15-19 Earnings Summary 10-Q  Slides EPS of $4.79 misses by $-0.10 | Revenue of $8.32B (-3.74% Y/Y) misses by '"
      ]
     },
     "execution_count": 64,
     "metadata": {},
     "output_type": "execute_result"
    }
   ],
   "source": [
    "text_2019Q3[:300]"
   ]
  },
  {
   "cell_type": "code",
   "execution_count": 65,
   "metadata": {},
   "outputs": [],
   "source": [
    "sentiment_2019Q1 = analyzer.polarity_scores(text_2019Q1)\n",
    "sentiment_2019Q2 = analyzer.polarity_scores(text_2019Q2)\n",
    "sentiment_2019Q3 = analyzer.polarity_scores(text_2019Q3)"
   ]
  },
  {
   "cell_type": "code",
   "execution_count": 66,
   "metadata": {},
   "outputs": [
    {
     "name": "stdout",
     "output_type": "stream",
     "text": [
      "{'neg': 0.02, 'neu': 0.867, 'pos': 0.113, 'compound': 1.0}\n"
     ]
    }
   ],
   "source": [
    "print(sentiment_2019Q1)"
   ]
  },
  {
   "cell_type": "code",
   "execution_count": 67,
   "metadata": {},
   "outputs": [
    {
     "name": "stdout",
     "output_type": "stream",
     "text": [
      "{'neg': 0.025, 'neu': 0.863, 'pos': 0.112, 'compound': 1.0}\n"
     ]
    }
   ],
   "source": [
    "print(sentiment_2019Q2)"
   ]
  },
  {
   "cell_type": "code",
   "execution_count": 68,
   "metadata": {},
   "outputs": [
    {
     "name": "stdout",
     "output_type": "stream",
     "text": [
      "{'neg': 0.018, 'neu': 0.845, 'pos': 0.136, 'compound': 1.0}\n"
     ]
    }
   ],
   "source": [
    "print(sentiment_2019Q3)"
   ]
  },
  {
   "cell_type": "code",
   "execution_count": null,
   "metadata": {},
   "outputs": [],
   "source": []
  }
 ],
 "metadata": {
  "kernelspec": {
   "display_name": "Python 3",
   "language": "python",
   "name": "python3"
  },
  "language_info": {
   "codemirror_mode": {
    "name": "ipython",
    "version": 3
   },
   "file_extension": ".py",
   "mimetype": "text/x-python",
   "name": "python",
   "nbconvert_exporter": "python",
   "pygments_lexer": "ipython3",
   "version": "3.7.4"
  }
 },
 "nbformat": 4,
 "nbformat_minor": 4
}
