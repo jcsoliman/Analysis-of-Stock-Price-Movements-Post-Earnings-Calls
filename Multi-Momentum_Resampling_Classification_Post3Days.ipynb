{
 "cells": [
  {
   "cell_type": "code",
   "execution_count": 1,
   "metadata": {},
   "outputs": [],
   "source": [
    "import warnings\n",
    "warnings.filterwarnings('ignore')\n",
    "import numpy as np\n",
    "import pandas as pd\n",
    "from pathlib import Path\n",
    "from collections import Counter\n",
    "import datetime"
   ]
  },
  {
   "cell_type": "code",
   "execution_count": 2,
   "metadata": {},
   "outputs": [],
   "source": [
    "from sklearn.metrics import balanced_accuracy_score\n",
    "from sklearn.metrics import confusion_matrix\n",
    "from imblearn.metrics import classification_report_imbalanced\n",
    "from yellowbrick.target import ClassBalance\n",
    "from yellowbrick.classifier import ConfusionMatrix\n",
    "from yellowbrick.classifier import ClassificationReport"
   ]
  },
  {
   "cell_type": "code",
   "execution_count": 3,
   "metadata": {},
   "outputs": [],
   "source": [
    "# Load the data\n",
    "file_path = Path('Resources/financials_and_sentiments.csv')\n",
    "df = pd.read_csv(file_path)"
   ]
  },
  {
   "cell_type": "code",
   "execution_count": 4,
   "metadata": {},
   "outputs": [
    {
     "data": {
      "text/html": [
       "<div>\n",
       "<style scoped>\n",
       "    .dataframe tbody tr th:only-of-type {\n",
       "        vertical-align: middle;\n",
       "    }\n",
       "\n",
       "    .dataframe tbody tr th {\n",
       "        vertical-align: top;\n",
       "    }\n",
       "\n",
       "    .dataframe thead th {\n",
       "        text-align: right;\n",
       "    }\n",
       "</style>\n",
       "<table border=\"1\" class=\"dataframe\">\n",
       "  <thead>\n",
       "    <tr style=\"text-align: right;\">\n",
       "      <th></th>\n",
       "      <th>Ticker</th>\n",
       "      <th>Date</th>\n",
       "      <th>Pos</th>\n",
       "      <th>Neu</th>\n",
       "      <th>Neg</th>\n",
       "      <th>Normalized</th>\n",
       "      <th>Close</th>\n",
       "      <th>Returns</th>\n",
       "      <th>12-day Rolling</th>\n",
       "      <th>5-day Rolling</th>\n",
       "      <th>3-day Rolling</th>\n",
       "      <th>12-day Rolling Std</th>\n",
       "      <th>5-day Rolling Std</th>\n",
       "      <th>3-day Rolling Std</th>\n",
       "      <th>difference 1-day</th>\n",
       "      <th>difference 3-days</th>\n",
       "      <th>direction 1-day</th>\n",
       "      <th>direction 3-days</th>\n",
       "    </tr>\n",
       "  </thead>\n",
       "  <tbody>\n",
       "    <tr>\n",
       "      <td>0</td>\n",
       "      <td>A</td>\n",
       "      <td>2019-08-14</td>\n",
       "      <td>0.101</td>\n",
       "      <td>0.884</td>\n",
       "      <td>0.014</td>\n",
       "      <td>1</td>\n",
       "      <td>65.59</td>\n",
       "      <td>-0.030308</td>\n",
       "      <td>-0.005657</td>\n",
       "      <td>-0.006860</td>\n",
       "      <td>-0.014811</td>\n",
       "      <td>0.020223</td>\n",
       "      <td>0.024598</td>\n",
       "      <td>0.025959</td>\n",
       "      <td>-2.05</td>\n",
       "      <td>-3.05</td>\n",
       "      <td>0</td>\n",
       "      <td>0</td>\n",
       "    </tr>\n",
       "    <tr>\n",
       "      <td>1</td>\n",
       "      <td>AAL</td>\n",
       "      <td>2019-10-24</td>\n",
       "      <td>0.133</td>\n",
       "      <td>0.847</td>\n",
       "      <td>0.020</td>\n",
       "      <td>1</td>\n",
       "      <td>29.41</td>\n",
       "      <td>0.039590</td>\n",
       "      <td>0.009595</td>\n",
       "      <td>0.010526</td>\n",
       "      <td>0.009358</td>\n",
       "      <td>0.015567</td>\n",
       "      <td>0.019245</td>\n",
       "      <td>0.027056</td>\n",
       "      <td>1.12</td>\n",
       "      <td>0.79</td>\n",
       "      <td>1</td>\n",
       "      <td>1</td>\n",
       "    </tr>\n",
       "    <tr>\n",
       "      <td>2</td>\n",
       "      <td>AAP</td>\n",
       "      <td>2019-11-12</td>\n",
       "      <td>0.121</td>\n",
       "      <td>0.863</td>\n",
       "      <td>0.015</td>\n",
       "      <td>1</td>\n",
       "      <td>156.14</td>\n",
       "      <td>-0.075110</td>\n",
       "      <td>-0.004594</td>\n",
       "      <td>-0.014186</td>\n",
       "      <td>-0.025911</td>\n",
       "      <td>0.024032</td>\n",
       "      <td>0.035081</td>\n",
       "      <td>0.043719</td>\n",
       "      <td>-12.68</td>\n",
       "      <td>-13.14</td>\n",
       "      <td>0</td>\n",
       "      <td>0</td>\n",
       "    </tr>\n",
       "    <tr>\n",
       "      <td>3</td>\n",
       "      <td>AAPL</td>\n",
       "      <td>2019-10-30</td>\n",
       "      <td>0.130</td>\n",
       "      <td>0.851</td>\n",
       "      <td>0.018</td>\n",
       "      <td>1</td>\n",
       "      <td>243.26</td>\n",
       "      <td>-0.000123</td>\n",
       "      <td>0.002627</td>\n",
       "      <td>0.000145</td>\n",
       "      <td>-0.004411</td>\n",
       "      <td>0.010672</td>\n",
       "      <td>0.014049</td>\n",
       "      <td>0.016983</td>\n",
       "      <td>-0.03</td>\n",
       "      <td>-3.32</td>\n",
       "      <td>0</td>\n",
       "      <td>0</td>\n",
       "    </tr>\n",
       "    <tr>\n",
       "      <td>4</td>\n",
       "      <td>ABBV</td>\n",
       "      <td>2019-11-01</td>\n",
       "      <td>0.118</td>\n",
       "      <td>0.862</td>\n",
       "      <td>0.020</td>\n",
       "      <td>1</td>\n",
       "      <td>81.75</td>\n",
       "      <td>0.027656</td>\n",
       "      <td>0.007551</td>\n",
       "      <td>0.013349</td>\n",
       "      <td>0.013813</td>\n",
       "      <td>0.011847</td>\n",
       "      <td>0.012865</td>\n",
       "      <td>0.014565</td>\n",
       "      <td>2.20</td>\n",
       "      <td>3.28</td>\n",
       "      <td>1</td>\n",
       "      <td>1</td>\n",
       "    </tr>\n",
       "  </tbody>\n",
       "</table>\n",
       "</div>"
      ],
      "text/plain": [
       "  Ticker        Date    Pos    Neu    Neg  Normalized   Close   Returns  \\\n",
       "0      A  2019-08-14  0.101  0.884  0.014           1   65.59 -0.030308   \n",
       "1    AAL  2019-10-24  0.133  0.847  0.020           1   29.41  0.039590   \n",
       "2    AAP  2019-11-12  0.121  0.863  0.015           1  156.14 -0.075110   \n",
       "3   AAPL  2019-10-30  0.130  0.851  0.018           1  243.26 -0.000123   \n",
       "4   ABBV  2019-11-01  0.118  0.862  0.020           1   81.75  0.027656   \n",
       "\n",
       "   12-day Rolling  5-day Rolling  3-day Rolling  12-day Rolling Std  \\\n",
       "0       -0.005657      -0.006860      -0.014811            0.020223   \n",
       "1        0.009595       0.010526       0.009358            0.015567   \n",
       "2       -0.004594      -0.014186      -0.025911            0.024032   \n",
       "3        0.002627       0.000145      -0.004411            0.010672   \n",
       "4        0.007551       0.013349       0.013813            0.011847   \n",
       "\n",
       "   5-day Rolling Std  3-day Rolling Std  difference 1-day  difference 3-days  \\\n",
       "0           0.024598           0.025959             -2.05              -3.05   \n",
       "1           0.019245           0.027056              1.12               0.79   \n",
       "2           0.035081           0.043719            -12.68             -13.14   \n",
       "3           0.014049           0.016983             -0.03              -3.32   \n",
       "4           0.012865           0.014565              2.20               3.28   \n",
       "\n",
       "   direction 1-day  direction 3-days  \n",
       "0                0                 0  \n",
       "1                1                 1  \n",
       "2                0                 0  \n",
       "3                0                 0  \n",
       "4                1                 1  "
      ]
     },
     "execution_count": 4,
     "metadata": {},
     "output_type": "execute_result"
    }
   ],
   "source": [
    "df.head()"
   ]
  },
  {
   "cell_type": "code",
   "execution_count": 5,
   "metadata": {},
   "outputs": [],
   "source": [
    "#Create new field for month of earnings call\"\n",
    "df['month'] = pd.DatetimeIndex(df['Date']).month"
   ]
  },
  {
   "cell_type": "code",
   "execution_count": 8,
   "metadata": {},
   "outputs": [],
   "source": [
    "#Dropping columns not needed for model and NAs\n",
    "columns_to_drop = [\"Ticker\",\"Date\",\"Normalized\",\"Close\",\"Returns\",\n",
    "                   \"difference 1-day\",\"difference 3-days\",\"direction 1-day\"]\n",
    "df_post3days = df.drop(columns=columns_to_drop)\n",
    "df_post3days.dropna(inplace=True)"
   ]
  },
  {
   "cell_type": "code",
   "execution_count": 9,
   "metadata": {},
   "outputs": [
    {
     "data": {
      "text/html": [
       "<div>\n",
       "<style scoped>\n",
       "    .dataframe tbody tr th:only-of-type {\n",
       "        vertical-align: middle;\n",
       "    }\n",
       "\n",
       "    .dataframe tbody tr th {\n",
       "        vertical-align: top;\n",
       "    }\n",
       "\n",
       "    .dataframe thead th {\n",
       "        text-align: right;\n",
       "    }\n",
       "</style>\n",
       "<table border=\"1\" class=\"dataframe\">\n",
       "  <thead>\n",
       "    <tr style=\"text-align: right;\">\n",
       "      <th></th>\n",
       "      <th>Pos</th>\n",
       "      <th>Neu</th>\n",
       "      <th>Neg</th>\n",
       "      <th>12-day Rolling</th>\n",
       "      <th>5-day Rolling</th>\n",
       "      <th>3-day Rolling</th>\n",
       "      <th>12-day Rolling Std</th>\n",
       "      <th>5-day Rolling Std</th>\n",
       "      <th>3-day Rolling Std</th>\n",
       "      <th>direction 3-days</th>\n",
       "      <th>month</th>\n",
       "    </tr>\n",
       "  </thead>\n",
       "  <tbody>\n",
       "    <tr>\n",
       "      <td>0</td>\n",
       "      <td>0.101</td>\n",
       "      <td>0.884</td>\n",
       "      <td>0.014</td>\n",
       "      <td>-0.005657</td>\n",
       "      <td>-0.006860</td>\n",
       "      <td>-0.014811</td>\n",
       "      <td>0.020223</td>\n",
       "      <td>0.024598</td>\n",
       "      <td>0.025959</td>\n",
       "      <td>0</td>\n",
       "      <td>8</td>\n",
       "    </tr>\n",
       "    <tr>\n",
       "      <td>1</td>\n",
       "      <td>0.133</td>\n",
       "      <td>0.847</td>\n",
       "      <td>0.020</td>\n",
       "      <td>0.009595</td>\n",
       "      <td>0.010526</td>\n",
       "      <td>0.009358</td>\n",
       "      <td>0.015567</td>\n",
       "      <td>0.019245</td>\n",
       "      <td>0.027056</td>\n",
       "      <td>1</td>\n",
       "      <td>10</td>\n",
       "    </tr>\n",
       "    <tr>\n",
       "      <td>2</td>\n",
       "      <td>0.121</td>\n",
       "      <td>0.863</td>\n",
       "      <td>0.015</td>\n",
       "      <td>-0.004594</td>\n",
       "      <td>-0.014186</td>\n",
       "      <td>-0.025911</td>\n",
       "      <td>0.024032</td>\n",
       "      <td>0.035081</td>\n",
       "      <td>0.043719</td>\n",
       "      <td>0</td>\n",
       "      <td>11</td>\n",
       "    </tr>\n",
       "    <tr>\n",
       "      <td>3</td>\n",
       "      <td>0.130</td>\n",
       "      <td>0.851</td>\n",
       "      <td>0.018</td>\n",
       "      <td>0.002627</td>\n",
       "      <td>0.000145</td>\n",
       "      <td>-0.004411</td>\n",
       "      <td>0.010672</td>\n",
       "      <td>0.014049</td>\n",
       "      <td>0.016983</td>\n",
       "      <td>0</td>\n",
       "      <td>10</td>\n",
       "    </tr>\n",
       "    <tr>\n",
       "      <td>4</td>\n",
       "      <td>0.118</td>\n",
       "      <td>0.862</td>\n",
       "      <td>0.020</td>\n",
       "      <td>0.007551</td>\n",
       "      <td>0.013349</td>\n",
       "      <td>0.013813</td>\n",
       "      <td>0.011847</td>\n",
       "      <td>0.012865</td>\n",
       "      <td>0.014565</td>\n",
       "      <td>1</td>\n",
       "      <td>11</td>\n",
       "    </tr>\n",
       "  </tbody>\n",
       "</table>\n",
       "</div>"
      ],
      "text/plain": [
       "     Pos    Neu    Neg  12-day Rolling  5-day Rolling  3-day Rolling  \\\n",
       "0  0.101  0.884  0.014       -0.005657      -0.006860      -0.014811   \n",
       "1  0.133  0.847  0.020        0.009595       0.010526       0.009358   \n",
       "2  0.121  0.863  0.015       -0.004594      -0.014186      -0.025911   \n",
       "3  0.130  0.851  0.018        0.002627       0.000145      -0.004411   \n",
       "4  0.118  0.862  0.020        0.007551       0.013349       0.013813   \n",
       "\n",
       "   12-day Rolling Std  5-day Rolling Std  3-day Rolling Std  direction 3-days  \\\n",
       "0            0.020223           0.024598           0.025959                 0   \n",
       "1            0.015567           0.019245           0.027056                 1   \n",
       "2            0.024032           0.035081           0.043719                 0   \n",
       "3            0.010672           0.014049           0.016983                 0   \n",
       "4            0.011847           0.012865           0.014565                 1   \n",
       "\n",
       "   month  \n",
       "0      8  \n",
       "1     10  \n",
       "2     11  \n",
       "3     10  \n",
       "4     11  "
      ]
     },
     "execution_count": 9,
     "metadata": {},
     "output_type": "execute_result"
    }
   ],
   "source": [
    "df_post3days.head()"
   ]
  },
  {
   "cell_type": "markdown",
   "metadata": {},
   "source": [
    "# Split training and test"
   ]
  },
  {
   "cell_type": "code",
   "execution_count": 10,
   "metadata": {},
   "outputs": [],
   "source": [
    "# Create our features\n",
    "X = df_post3days.drop(columns=\"direction 3-days\")\n",
    "\n",
    "# Create our target\n",
    "y = df_post3days[\"direction 3-days\"]"
   ]
  },
  {
   "cell_type": "code",
   "execution_count": 11,
   "metadata": {},
   "outputs": [
    {
     "data": {
      "text/html": [
       "<div>\n",
       "<style scoped>\n",
       "    .dataframe tbody tr th:only-of-type {\n",
       "        vertical-align: middle;\n",
       "    }\n",
       "\n",
       "    .dataframe tbody tr th {\n",
       "        vertical-align: top;\n",
       "    }\n",
       "\n",
       "    .dataframe thead th {\n",
       "        text-align: right;\n",
       "    }\n",
       "</style>\n",
       "<table border=\"1\" class=\"dataframe\">\n",
       "  <thead>\n",
       "    <tr style=\"text-align: right;\">\n",
       "      <th></th>\n",
       "      <th>Pos</th>\n",
       "      <th>Neu</th>\n",
       "      <th>Neg</th>\n",
       "      <th>12-day Rolling</th>\n",
       "      <th>5-day Rolling</th>\n",
       "      <th>3-day Rolling</th>\n",
       "      <th>12-day Rolling Std</th>\n",
       "      <th>5-day Rolling Std</th>\n",
       "      <th>3-day Rolling Std</th>\n",
       "      <th>month</th>\n",
       "    </tr>\n",
       "  </thead>\n",
       "  <tbody>\n",
       "    <tr>\n",
       "      <td>count</td>\n",
       "      <td>434.000000</td>\n",
       "      <td>434.000000</td>\n",
       "      <td>434.000000</td>\n",
       "      <td>434.000000</td>\n",
       "      <td>434.000000</td>\n",
       "      <td>434.000000</td>\n",
       "      <td>434.000000</td>\n",
       "      <td>434.000000</td>\n",
       "      <td>434.000000</td>\n",
       "      <td>434.000000</td>\n",
       "    </tr>\n",
       "    <tr>\n",
       "      <td>mean</td>\n",
       "      <td>0.122707</td>\n",
       "      <td>0.858085</td>\n",
       "      <td>0.019189</td>\n",
       "      <td>0.002394</td>\n",
       "      <td>0.002964</td>\n",
       "      <td>0.003260</td>\n",
       "      <td>0.017249</td>\n",
       "      <td>0.019393</td>\n",
       "      <td>0.040492</td>\n",
       "      <td>10.082949</td>\n",
       "    </tr>\n",
       "    <tr>\n",
       "      <td>std</td>\n",
       "      <td>0.019524</td>\n",
       "      <td>0.019271</td>\n",
       "      <td>0.006994</td>\n",
       "      <td>0.005286</td>\n",
       "      <td>0.011150</td>\n",
       "      <td>0.017234</td>\n",
       "      <td>0.010080</td>\n",
       "      <td>0.014616</td>\n",
       "      <td>0.383439</td>\n",
       "      <td>0.701391</td>\n",
       "    </tr>\n",
       "    <tr>\n",
       "      <td>min</td>\n",
       "      <td>0.073000</td>\n",
       "      <td>0.776000</td>\n",
       "      <td>0.005000</td>\n",
       "      <td>-0.019061</td>\n",
       "      <td>-0.045388</td>\n",
       "      <td>-0.079833</td>\n",
       "      <td>0.004357</td>\n",
       "      <td>0.000000</td>\n",
       "      <td>0.000000</td>\n",
       "      <td>7.000000</td>\n",
       "    </tr>\n",
       "    <tr>\n",
       "      <td>25%</td>\n",
       "      <td>0.110000</td>\n",
       "      <td>0.846000</td>\n",
       "      <td>0.014000</td>\n",
       "      <td>-0.000612</td>\n",
       "      <td>-0.002599</td>\n",
       "      <td>-0.004980</td>\n",
       "      <td>0.010848</td>\n",
       "      <td>0.009985</td>\n",
       "      <td>0.009596</td>\n",
       "      <td>10.000000</td>\n",
       "    </tr>\n",
       "    <tr>\n",
       "      <td>50%</td>\n",
       "      <td>0.122500</td>\n",
       "      <td>0.859000</td>\n",
       "      <td>0.018000</td>\n",
       "      <td>0.002185</td>\n",
       "      <td>0.003279</td>\n",
       "      <td>0.003310</td>\n",
       "      <td>0.015144</td>\n",
       "      <td>0.015246</td>\n",
       "      <td>0.016865</td>\n",
       "      <td>10.000000</td>\n",
       "    </tr>\n",
       "    <tr>\n",
       "      <td>75%</td>\n",
       "      <td>0.134000</td>\n",
       "      <td>0.871000</td>\n",
       "      <td>0.022000</td>\n",
       "      <td>0.005465</td>\n",
       "      <td>0.009180</td>\n",
       "      <td>0.011264</td>\n",
       "      <td>0.020054</td>\n",
       "      <td>0.023745</td>\n",
       "      <td>0.027945</td>\n",
       "      <td>10.000000</td>\n",
       "    </tr>\n",
       "    <tr>\n",
       "      <td>max</td>\n",
       "      <td>0.204000</td>\n",
       "      <td>0.910000</td>\n",
       "      <td>0.049000</td>\n",
       "      <td>0.024624</td>\n",
       "      <td>0.060016</td>\n",
       "      <td>0.084076</td>\n",
       "      <td>0.095017</td>\n",
       "      <td>0.118996</td>\n",
       "      <td>8.000243</td>\n",
       "      <td>11.000000</td>\n",
       "    </tr>\n",
       "  </tbody>\n",
       "</table>\n",
       "</div>"
      ],
      "text/plain": [
       "              Pos         Neu         Neg  12-day Rolling  5-day Rolling  \\\n",
       "count  434.000000  434.000000  434.000000      434.000000     434.000000   \n",
       "mean     0.122707    0.858085    0.019189        0.002394       0.002964   \n",
       "std      0.019524    0.019271    0.006994        0.005286       0.011150   \n",
       "min      0.073000    0.776000    0.005000       -0.019061      -0.045388   \n",
       "25%      0.110000    0.846000    0.014000       -0.000612      -0.002599   \n",
       "50%      0.122500    0.859000    0.018000        0.002185       0.003279   \n",
       "75%      0.134000    0.871000    0.022000        0.005465       0.009180   \n",
       "max      0.204000    0.910000    0.049000        0.024624       0.060016   \n",
       "\n",
       "       3-day Rolling  12-day Rolling Std  5-day Rolling Std  \\\n",
       "count     434.000000          434.000000         434.000000   \n",
       "mean        0.003260            0.017249           0.019393   \n",
       "std         0.017234            0.010080           0.014616   \n",
       "min        -0.079833            0.004357           0.000000   \n",
       "25%        -0.004980            0.010848           0.009985   \n",
       "50%         0.003310            0.015144           0.015246   \n",
       "75%         0.011264            0.020054           0.023745   \n",
       "max         0.084076            0.095017           0.118996   \n",
       "\n",
       "       3-day Rolling Std       month  \n",
       "count         434.000000  434.000000  \n",
       "mean            0.040492   10.082949  \n",
       "std             0.383439    0.701391  \n",
       "min             0.000000    7.000000  \n",
       "25%             0.009596   10.000000  \n",
       "50%             0.016865   10.000000  \n",
       "75%             0.027945   10.000000  \n",
       "max             8.000243   11.000000  "
      ]
     },
     "execution_count": 11,
     "metadata": {},
     "output_type": "execute_result"
    }
   ],
   "source": [
    "X.describe()"
   ]
  },
  {
   "cell_type": "code",
   "execution_count": 12,
   "metadata": {},
   "outputs": [
    {
     "data": {
      "text/plain": [
       "1    257\n",
       "0    177\n",
       "Name: direction 3-days, dtype: int64"
      ]
     },
     "execution_count": 12,
     "metadata": {},
     "output_type": "execute_result"
    }
   ],
   "source": [
    "# Check the balance of our target values\n",
    "y.value_counts()"
   ]
  },
  {
   "cell_type": "code",
   "execution_count": 13,
   "metadata": {},
   "outputs": [
    {
     "data": {
      "image/png": "[encoded data removed]",
      "text/plain": [
       "<Figure size 432x288 with 1 Axes>"
      ]
     },
     "metadata": {
      "needs_background": "light"
     },
     "output_type": "display_data"
    },
    {
     "data": {
      "text/plain": [
       "<matplotlib.axes._subplots.AxesSubplot at 0x1c31309dd8>"
      ]
     },
     "execution_count": 13,
     "metadata": {},
     "output_type": "execute_result"
    }
   ],
   "source": [
    "# Visualize distribution of y\n",
    "from yellowbrick.target import ClassBalance\n",
    "\n",
    "viz = ClassBalance()\n",
    "viz.fit(y)\n",
    "viz.show()"
   ]
  },
  {
   "cell_type": "code",
   "execution_count": 14,
   "metadata": {},
   "outputs": [],
   "source": [
    "# Create X_train, X_test, y_train, y_test\n",
    "# YOUR CODE HERE\n",
    "from sklearn.model_selection import train_test_split\n",
    "\n",
    "X_train, X_test, y_train, y_test = train_test_split(X, y, random_state=1)"
   ]
  },
  {
   "cell_type": "code",
   "execution_count": 15,
   "metadata": {},
   "outputs": [
    {
     "name": "stdout",
     "output_type": "stream",
     "text": [
      "Train data: Counter({1: 186, 0: 139})\n",
      "Test Data: Counter({1: 71, 0: 38})\n"
     ]
    },
    {
     "data": {
      "text/plain": [
       "(None, None)"
      ]
     },
     "execution_count": 15,
     "metadata": {},
     "output_type": "execute_result"
    }
   ],
   "source": [
    "print (f\"Train data: {Counter(y_train)}\"), print (f\"Test Data: {Counter(y_test)}\")"
   ]
  },
  {
   "cell_type": "code",
   "execution_count": 16,
   "metadata": {},
   "outputs": [
    {
     "data": {
      "image/png": "[encoded data removed]",
      "text/plain": [
       "<Figure size 432x288 with 1 Axes>"
      ]
     },
     "metadata": {
      "needs_background": "light"
     },
     "output_type": "display_data"
    },
    {
     "data": {
      "text/plain": [
       "<matplotlib.axes._subplots.AxesSubplot at 0x1c31ec2f28>"
      ]
     },
     "execution_count": 16,
     "metadata": {},
     "output_type": "execute_result"
    }
   ],
   "source": [
    "# Visualize train and test y\n",
    "viz = ClassBalance()\n",
    "\n",
    "viz.fit(y_train,y_test)\n",
    "viz.show()"
   ]
  },
  {
   "cell_type": "markdown",
   "metadata": {},
   "source": [
    "## Naive Random Oversampling"
   ]
  },
  {
   "cell_type": "code",
   "execution_count": 19,
   "metadata": {},
   "outputs": [
    {
     "name": "stdout",
     "output_type": "stream",
     "text": [
      "Train data: Counter({1: 186, 0: 186})\n",
      "Test Data: Counter({1: 71, 0: 38})\n"
     ]
    },
    {
     "data": {
      "text/plain": [
       "(None, None)"
      ]
     },
     "execution_count": 19,
     "metadata": {},
     "output_type": "execute_result"
    }
   ],
   "source": [
    "# Resample the training data with the RandomOversampler\n",
    "from imblearn.over_sampling import RandomOverSampler\n",
    "\n",
    "ros = RandomOverSampler(random_state=1)\n",
    "X_resampled, y_resampled = ros.fit_resample(X_train, y_train)\n",
    "print (f\"Train data: {Counter(y_resampled)}\"), print (f\"Test Data: {Counter(y_test)}\")"
   ]
  },
  {
   "cell_type": "code",
   "execution_count": 20,
   "metadata": {},
   "outputs": [
    {
     "data": {
      "image/png": "[encoded data removed]",
      "text/plain": [
       "<Figure size 432x288 with 1 Axes>"
      ]
     },
     "metadata": {
      "needs_background": "light"
     },
     "output_type": "display_data"
    },
    {
     "data": {
      "text/plain": [
       "<matplotlib.axes._subplots.AxesSubplot at 0x1c320e3c88>"
      ]
     },
     "execution_count": 20,
     "metadata": {},
     "output_type": "execute_result"
    }
   ],
   "source": [
    "# Visualize resampled train and test y\n",
    "viz = ClassBalance()\n",
    "viz.fit(y_resampled,y_test)\n",
    "viz.show()"
   ]
  },
  {
   "cell_type": "code",
   "execution_count": 21,
   "metadata": {},
   "outputs": [
    {
     "data": {
      "text/plain": [
       "LogisticRegression(C=1.0, class_weight=None, dual=False, fit_intercept=True,\n",
       "                   intercept_scaling=1, l1_ratio=None, max_iter=100,\n",
       "                   multi_class='warn', n_jobs=None, penalty='l2',\n",
       "                   random_state=1, solver='warn', tol=0.0001, verbose=0,\n",
       "                   warm_start=False)"
      ]
     },
     "execution_count": 21,
     "metadata": {},
     "output_type": "execute_result"
    }
   ],
   "source": [
    "# Train the Logistic Regression model using the resampled data\n",
    "from sklearn.linear_model import LogisticRegression\n",
    "\n",
    "model_ROS = LogisticRegression(random_state=1)\n",
    "model_ROS.fit(X_resampled, y_resampled)"
   ]
  },
  {
   "cell_type": "code",
   "execution_count": 22,
   "metadata": {},
   "outputs": [],
   "source": [
    "# Predict using out-of-sample data\n",
    "y_pred = model_ROS.predict(X_test)"
   ]
  },
  {
   "cell_type": "code",
   "execution_count": 23,
   "metadata": {},
   "outputs": [
    {
     "data": {
      "text/plain": [
       "0.7496293550778355"
      ]
     },
     "execution_count": 23,
     "metadata": {},
     "output_type": "execute_result"
    }
   ],
   "source": [
    "# Calculated the balanced accuracy score\n",
    "# YOUR CODE HERE\n",
    "from sklearn.metrics import balanced_accuracy_score\n",
    "\n",
    "balanced_accuracy_score(y_test, y_pred)"
   ]
  },
  {
   "cell_type": "code",
   "execution_count": 24,
   "metadata": {},
   "outputs": [
    {
     "data": {
      "image/png": "[encoded data removed]",
      "text/plain": [
       "<Figure size 432x288 with 1 Axes>"
      ]
     },
     "metadata": {
      "needs_background": "light"
     },
     "output_type": "display_data"
    },
    {
     "data": {
      "text/plain": [
       "<matplotlib.axes._subplots.AxesSubplot at 0x1c321ae7f0>"
      ]
     },
     "execution_count": 24,
     "metadata": {},
     "output_type": "execute_result"
    }
   ],
   "source": [
    "# Visualize confusion matrix\n",
    "from yellowbrick.classifier import ConfusionMatrix\n",
    "cm = ConfusionMatrix(model_ROS)\n",
    "cm.fit(X_resampled, y_resampled)\n",
    "cm.score(X_test, y_test)\n",
    "cm.show()"
   ]
  },
  {
   "cell_type": "code",
   "execution_count": 25,
   "metadata": {},
   "outputs": [
    {
     "name": "stdout",
     "output_type": "stream",
     "text": [
      "                   pre       rec       spe        f1       geo       iba       sup\n",
      "\n",
      "          0       0.64      0.71      0.79      0.67      0.75      0.56        38\n",
      "          1       0.84      0.79      0.71      0.81      0.75      0.56        71\n",
      "\n",
      "avg / total       0.77      0.76      0.74      0.76      0.75      0.56       109\n",
      "\n"
     ]
    }
   ],
   "source": [
    "# Print the imbalanced classification report\n",
    "# YOUR CODE HERE\n",
    "from imblearn.metrics import classification_report_imbalanced\n",
    "\n",
    "print(classification_report_imbalanced(y_test, y_pred))"
   ]
  },
  {
   "cell_type": "code",
   "execution_count": 26,
   "metadata": {},
   "outputs": [
    {
     "data": {
      "image/png": "[encoded data removed]",
      "text/plain": [
       "<Figure size 432x288 with 2 Axes>"
      ]
     },
     "metadata": {
      "needs_background": "light"
     },
     "output_type": "display_data"
    },
    {
     "data": {
      "text/plain": [
       "<matplotlib.axes._subplots.AxesSubplot at 0x1c32289ac8>"
      ]
     },
     "execution_count": 26,
     "metadata": {},
     "output_type": "execute_result"
    }
   ],
   "source": [
    "# Visualize imbalanced classification report\n",
    "from yellowbrick.classifier import ClassificationReport\n",
    "\n",
    "viz = ClassificationReport(model_ROS, support=True)\n",
    "viz.fit(X_resampled, y_resampled)\n",
    "viz.score(X_test, y_test)\n",
    "viz.show()"
   ]
  },
  {
   "cell_type": "markdown",
   "metadata": {},
   "source": [
    "## SMOTE Oversampling"
   ]
  },
  {
   "cell_type": "code",
   "execution_count": 27,
   "metadata": {},
   "outputs": [
    {
     "data": {
      "text/plain": [
       "(Counter({1: 186, 0: 186}), Counter({1: 71, 0: 38}))"
      ]
     },
     "execution_count": 27,
     "metadata": {},
     "output_type": "execute_result"
    }
   ],
   "source": [
    "# Resample the training data with SMOTE\n",
    "from imblearn.over_sampling import SMOTE\n",
    "\n",
    "X_resampled, y_resampled = SMOTE(random_state=1, ratio=1.0).fit_resample(\n",
    "    X_train, y_train\n",
    ")\n",
    "\n",
    "Counter(y_resampled),  Counter(y_test)"
   ]
  },
  {
   "cell_type": "code",
   "execution_count": 28,
   "metadata": {},
   "outputs": [
    {
     "data": {
      "image/png": "[encoded data removed]",
      "text/plain": [
       "<Figure size 432x288 with 1 Axes>"
      ]
     },
     "metadata": {
      "needs_background": "light"
     },
     "output_type": "display_data"
    },
    {
     "data": {
      "text/plain": [
       "<matplotlib.axes._subplots.AxesSubplot at 0x1c32273ba8>"
      ]
     },
     "execution_count": 28,
     "metadata": {},
     "output_type": "execute_result"
    }
   ],
   "source": [
    "# Visualize resampled train and test y\n",
    "viz = ClassBalance()\n",
    "\n",
    "viz.fit(y_resampled,y_test)\n",
    "viz.show()"
   ]
  },
  {
   "cell_type": "code",
   "execution_count": 29,
   "metadata": {},
   "outputs": [
    {
     "data": {
      "text/plain": [
       "LogisticRegression(C=1.0, class_weight=None, dual=False, fit_intercept=True,\n",
       "                   intercept_scaling=1, l1_ratio=None, max_iter=100,\n",
       "                   multi_class='warn', n_jobs=None, penalty='l2',\n",
       "                   random_state=1, solver='warn', tol=0.0001, verbose=0,\n",
       "                   warm_start=False)"
      ]
     },
     "execution_count": 29,
     "metadata": {},
     "output_type": "execute_result"
    }
   ],
   "source": [
    "# Train the Logistic Regression model using the resampled data\n",
    "model_SMOTE = LogisticRegression(random_state=1)\n",
    "model_SMOTE.fit(X_resampled, y_resampled)"
   ]
  },
  {
   "cell_type": "code",
   "execution_count": 30,
   "metadata": {},
   "outputs": [],
   "source": [
    "# Predict using out-of-sample data\n",
    "y_pred = model_SMOTE.predict(X_test)"
   ]
  },
  {
   "cell_type": "code",
   "execution_count": 31,
   "metadata": {},
   "outputs": [
    {
     "data": {
      "text/plain": [
       "0.7496293550778355"
      ]
     },
     "execution_count": 31,
     "metadata": {},
     "output_type": "execute_result"
    }
   ],
   "source": [
    "# Calculated the balanced accuracy score\n",
    "balanced_accuracy_score(y_test, y_pred)"
   ]
  },
  {
   "cell_type": "code",
   "execution_count": 32,
   "metadata": {},
   "outputs": [
    {
     "data": {
      "image/png": "[encoded data removed]",
      "text/plain": [
       "<Figure size 432x288 with 1 Axes>"
      ]
     },
     "metadata": {
      "needs_background": "light"
     },
     "output_type": "display_data"
    },
    {
     "data": {
      "text/plain": [
       "<matplotlib.axes._subplots.AxesSubplot at 0x1c323967f0>"
      ]
     },
     "execution_count": 32,
     "metadata": {},
     "output_type": "execute_result"
    }
   ],
   "source": [
    "# Visualize confusion matrix\n",
    "from yellowbrick.classifier import ConfusionMatrix\n",
    "cm = ConfusionMatrix(model_SMOTE)\n",
    "cm.fit(X_resampled, y_resampled)\n",
    "cm.score(X_test, y_test)\n",
    "cm.show()"
   ]
  },
  {
   "cell_type": "code",
   "execution_count": 33,
   "metadata": {},
   "outputs": [
    {
     "data": {
      "image/png": "[encoded data removed]",
      "text/plain": [
       "<Figure size 432x288 with 2 Axes>"
      ]
     },
     "metadata": {
      "needs_background": "light"
     },
     "output_type": "display_data"
    },
    {
     "data": {
      "text/plain": [
       "<matplotlib.axes._subplots.AxesSubplot at 0x1c32553978>"
      ]
     },
     "execution_count": 33,
     "metadata": {},
     "output_type": "execute_result"
    }
   ],
   "source": [
    "# Visualize imbalanced classification report \n",
    "viz = ClassificationReport(model_SMOTE, support=True)\n",
    "viz.fit(X_resampled, y_resampled)\n",
    "viz.score(X_test, y_test)\n",
    "viz.show()"
   ]
  },
  {
   "cell_type": "markdown",
   "metadata": {},
   "source": [
    "## Undersampling"
   ]
  },
  {
   "cell_type": "code",
   "execution_count": 34,
   "metadata": {},
   "outputs": [
    {
     "data": {
      "text/plain": [
       "(Counter({0: 139, 1: 139}), Counter({1: 71, 0: 38}))"
      ]
     },
     "execution_count": 34,
     "metadata": {},
     "output_type": "execute_result"
    }
   ],
   "source": [
    "# Resample the data using the ClusterCentroids resampler\n",
    "# YOUR CODE HERE\n",
    "from imblearn.under_sampling import ClusterCentroids\n",
    "\n",
    "cc = ClusterCentroids(random_state=1)\n",
    "X_resampled, y_resampled = cc.fit_resample(X_train, y_train)\n",
    "\n",
    "Counter(y_resampled), Counter(y_test)"
   ]
  },
  {
   "cell_type": "code",
   "execution_count": 35,
   "metadata": {},
   "outputs": [
    {
     "data": {
      "image/png": "[encoded data removed]",
      "text/plain": [
       "<Figure size 432x288 with 1 Axes>"
      ]
     },
     "metadata": {
      "needs_background": "light"
     },
     "output_type": "display_data"
    },
    {
     "data": {
      "text/plain": [
       "<matplotlib.axes._subplots.AxesSubplot at 0x1c32664b38>"
      ]
     },
     "execution_count": 35,
     "metadata": {},
     "output_type": "execute_result"
    }
   ],
   "source": [
    "# Visualize resampled train and test y\n",
    "viz = ClassBalance()\n",
    "\n",
    "viz.fit(y_resampled,y_test)\n",
    "viz.show()"
   ]
  },
  {
   "cell_type": "code",
   "execution_count": 36,
   "metadata": {},
   "outputs": [
    {
     "data": {
      "text/plain": [
       "LogisticRegression(C=1.0, class_weight=None, dual=False, fit_intercept=True,\n",
       "                   intercept_scaling=1, l1_ratio=None, max_iter=100,\n",
       "                   multi_class='warn', n_jobs=None, penalty='l2',\n",
       "                   random_state=1, solver='warn', tol=0.0001, verbose=0,\n",
       "                   warm_start=False)"
      ]
     },
     "execution_count": 36,
     "metadata": {},
     "output_type": "execute_result"
    }
   ],
   "source": [
    "# Train the Logistic Regression model using the resampled data\n",
    "model_CC = LogisticRegression(random_state=1)\n",
    "model_CC.fit(X_resampled, y_resampled)"
   ]
  },
  {
   "cell_type": "code",
   "execution_count": 37,
   "metadata": {},
   "outputs": [],
   "source": [
    "# Predict using out-of-sample data\n",
    "y_pred = model_CC.predict(X_test)"
   ]
  },
  {
   "cell_type": "code",
   "execution_count": 38,
   "metadata": {},
   "outputs": [
    {
     "data": {
      "text/plain": [
       "0.7064492216456635"
      ]
     },
     "execution_count": 38,
     "metadata": {},
     "output_type": "execute_result"
    }
   ],
   "source": [
    "# Calculated the balanced accuracy score\n",
    "balanced_accuracy_score(y_test, y_pred)"
   ]
  },
  {
   "cell_type": "code",
   "execution_count": 39,
   "metadata": {},
   "outputs": [
    {
     "data": {
      "image/png": "[encoded data removed]",
      "text/plain": [
       "<Figure size 432x288 with 1 Axes>"
      ]
     },
     "metadata": {
      "needs_background": "light"
     },
     "output_type": "display_data"
    },
    {
     "data": {
      "text/plain": [
       "<matplotlib.axes._subplots.AxesSubplot at 0x1c32716160>"
      ]
     },
     "execution_count": 39,
     "metadata": {},
     "output_type": "execute_result"
    }
   ],
   "source": [
    "# Visualize confusion matrix\n",
    "from yellowbrick.classifier import ConfusionMatrix\n",
    "cm = ConfusionMatrix(model_CC)\n",
    "cm.fit(X_resampled, y_resampled)\n",
    "cm.score(X_test, y_test)\n",
    "cm.show()"
   ]
  },
  {
   "cell_type": "code",
   "execution_count": 40,
   "metadata": {},
   "outputs": [
    {
     "data": {
      "image/png": "[encoded data removed]",
      "text/plain": [
       "<Figure size 432x288 with 2 Axes>"
      ]
     },
     "metadata": {
      "needs_background": "light"
     },
     "output_type": "display_data"
    },
    {
     "data": {
      "text/plain": [
       "<matplotlib.axes._subplots.AxesSubplot at 0x1039586d8>"
      ]
     },
     "execution_count": 40,
     "metadata": {},
     "output_type": "execute_result"
    }
   ],
   "source": [
    "# Visualize imbalanced classification report\n",
    "viz = ClassificationReport(model_CC, support=True)\n",
    "viz.fit(X_resampled, y_resampled)\n",
    "viz.score(X_test, y_test)\n",
    "viz.show()"
   ]
  },
  {
   "cell_type": "markdown",
   "metadata": {},
   "source": [
    "## Combination (Over and Under) Sampling"
   ]
  },
  {
   "cell_type": "code",
   "execution_count": 41,
   "metadata": {},
   "outputs": [
    {
     "name": "stdout",
     "output_type": "stream",
     "text": [
      "Re-sampled train data: Counter({0: 142, 1: 134})\n",
      "Test data: Counter({1: 71, 0: 38})\n"
     ]
    },
    {
     "data": {
      "text/plain": [
       "(None, None)"
      ]
     },
     "execution_count": 41,
     "metadata": {},
     "output_type": "execute_result"
    }
   ],
   "source": [
    "# Resample the training data with SMOTEENN\n",
    "from imblearn.combine import SMOTEENN\n",
    "\n",
    "smote_enn = SMOTEENN(random_state=1)\n",
    "X_resampled, y_resampled = smote_enn.fit_resample(X_train, y_train)\n",
    "print (f\"Re-sampled train data: {Counter(y_resampled)}\"), print (f\"Test data: {Counter(y_test)}\")"
   ]
  },
  {
   "cell_type": "code",
   "execution_count": 42,
   "metadata": {},
   "outputs": [
    {
     "data": {
      "image/png": "[encoded data removed]",
      "text/plain": [
       "<Figure size 432x288 with 1 Axes>"
      ]
     },
     "metadata": {
      "needs_background": "light"
     },
     "output_type": "display_data"
    },
    {
     "data": {
      "text/plain": [
       "<matplotlib.axes._subplots.AxesSubplot at 0x113ef1b38>"
      ]
     },
     "execution_count": 42,
     "metadata": {},
     "output_type": "execute_result"
    }
   ],
   "source": [
    "# Visualize resampled train and test y\n",
    "viz = ClassBalance()\n",
    "\n",
    "viz.fit(y_resampled,y_test)\n",
    "viz.show()"
   ]
  },
  {
   "cell_type": "code",
   "execution_count": 43,
   "metadata": {},
   "outputs": [
    {
     "data": {
      "text/plain": [
       "LogisticRegression(C=1.0, class_weight=None, dual=False, fit_intercept=True,\n",
       "                   intercept_scaling=1, l1_ratio=None, max_iter=100,\n",
       "                   multi_class='warn', n_jobs=None, penalty='l2',\n",
       "                   random_state=1, solver='warn', tol=0.0001, verbose=0,\n",
       "                   warm_start=False)"
      ]
     },
     "execution_count": 43,
     "metadata": {},
     "output_type": "execute_result"
    }
   ],
   "source": [
    "# Train the Logistic Regression model using the resampled data\n",
    "model_SMOTEEN = LogisticRegression(random_state=1)\n",
    "model_SMOTEEN.fit(X_resampled, y_resampled)"
   ]
  },
  {
   "cell_type": "code",
   "execution_count": 44,
   "metadata": {},
   "outputs": [],
   "source": [
    "# Predict using out-of-sample data\n",
    "y_pred = model_SMOTEEN.predict(X_test)"
   ]
  },
  {
   "cell_type": "code",
   "execution_count": 45,
   "metadata": {},
   "outputs": [
    {
     "data": {
      "text/plain": [
       "0.5478131949592291"
      ]
     },
     "execution_count": 45,
     "metadata": {},
     "output_type": "execute_result"
    }
   ],
   "source": [
    "# Calculated the balanced accuracy score\n",
    "balanced_accuracy_score(y_test, y_pred)"
   ]
  },
  {
   "cell_type": "code",
   "execution_count": 46,
   "metadata": {},
   "outputs": [
    {
     "data": {
      "image/png": "[encoded data removed]",
      "text/plain": [
       "<Figure size 432x288 with 1 Axes>"
      ]
     },
     "metadata": {
      "needs_background": "light"
     },
     "output_type": "display_data"
    },
    {
     "data": {
      "text/plain": [
       "<matplotlib.axes._subplots.AxesSubplot at 0x113fbdb70>"
      ]
     },
     "execution_count": 46,
     "metadata": {},
     "output_type": "execute_result"
    }
   ],
   "source": [
    "# Visualize confusion matrix\n",
    "from yellowbrick.classifier import ConfusionMatrix\n",
    "cm = ConfusionMatrix(model_SMOTEEN)\n",
    "cm.fit(X_resampled, y_resampled)\n",
    "cm.score(X_test, y_test)\n",
    "cm.show()"
   ]
  },
  {
   "cell_type": "code",
   "execution_count": 47,
   "metadata": {},
   "outputs": [
    {
     "data": {
      "image/png": "[encoded data removed]",
      "text/plain": [
       "<Figure size 432x288 with 2 Axes>"
      ]
     },
     "metadata": {
      "needs_background": "light"
     },
     "output_type": "display_data"
    },
    {
     "data": {
      "text/plain": [
       "<matplotlib.axes._subplots.AxesSubplot at 0x11407e358>"
      ]
     },
     "execution_count": 47,
     "metadata": {},
     "output_type": "execute_result"
    }
   ],
   "source": [
    "# Visualize imbalanced classification report \n",
    "viz = ClassificationReport(model_SMOTEEN, support=True)\n",
    "viz.fit(X_resampled, y_resampled)\n",
    "viz.score(X_test, y_test)\n",
    "viz.show()"
   ]
  },
  {
   "cell_type": "code",
   "execution_count": null,
   "metadata": {},
   "outputs": [],
   "source": []
  }
 ],
 "metadata": {
  "kernelspec": {
   "display_name": "Python 3",
   "language": "python",
   "name": "python3"
  },
  "language_info": {
   "codemirror_mode": {
    "name": "ipython",
    "version": 3
   },
   "file_extension": ".py",
   "mimetype": "text/x-python",
   "name": "python",
   "nbconvert_exporter": "python",
   "pygments_lexer": "ipython3",
   "version": "3.7.3"
  }
 },
 "nbformat": 4,
 "nbformat_minor": 4
}
