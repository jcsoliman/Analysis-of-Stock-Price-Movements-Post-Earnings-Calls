{
  "nbformat": 4,
  "nbformat_minor": 0,
  "metadata": {
    "colab": {
      "name": "StockPriceDF.ipynb",
      "provenance": [],
      "collapsed_sections": [],
      "include_colab_link": true
    },
    "kernelspec": {
      "name": "python3",
      "display_name": "Python 3"
    }
  },
  "cells": [
    {
      "cell_type": "markdown",
      "metadata": {
        "id": "view-in-github",
        "colab_type": "text"
      },
      "source": [
        "<a href=\"https://colab.research.google.com/github/jcsoliman/cu_fintech_project_2/blob/master/StockPriceDF.ipynb\" target=\"_parent\"><img src=\"https://colab.research.google.com/assets/colab-badge.svg\" alt=\"Open In Colab\"/></a>"
      ]
    },
    {
      "cell_type": "code",
      "metadata": {
        "id": "CLAh-cMawiNz",
        "colab_type": "code",
        "colab": {
          "base_uri": "https://localhost:8080/",
          "height": 275
        },
        "outputId": "18b6a297-4471-4f9c-dd1d-7ce7810e30d5"
      },
      "source": [
        "!pip install simfin"
      ],
      "execution_count": 9,
      "outputs": [
        {
          "output_type": "stream",
          "text": [
            "Collecting simfin\n",
            "  Downloading https://files.pythonhosted.org/packages/d2/2a/62e52cc224cd410ead061a8dc1fb265abf688e68492521223d04d73d69b0/simfin-0.2.0-py3-none-any.whl\n",
            "Requirement already satisfied: numpy in /usr/local/lib/python3.6/dist-packages (from simfin) (1.17.4)\n",
            "Requirement already satisfied: requests in /usr/local/lib/python3.6/dist-packages (from simfin) (2.21.0)\n",
            "Requirement already satisfied: pandas in /usr/local/lib/python3.6/dist-packages (from simfin) (0.25.3)\n",
            "Requirement already satisfied: idna<2.9,>=2.5 in /usr/local/lib/python3.6/dist-packages (from requests->simfin) (2.8)\n",
            "Requirement already satisfied: certifi>=2017.4.17 in /usr/local/lib/python3.6/dist-packages (from requests->simfin) (2019.11.28)\n",
            "Requirement already satisfied: urllib3<1.25,>=1.21.1 in /usr/local/lib/python3.6/dist-packages (from requests->simfin) (1.24.3)\n",
            "Requirement already satisfied: chardet<3.1.0,>=3.0.2 in /usr/local/lib/python3.6/dist-packages (from requests->simfin) (3.0.4)\n",
            "Requirement already satisfied: pytz>=2017.2 in /usr/local/lib/python3.6/dist-packages (from pandas->simfin) (2018.9)\n",
            "Requirement already satisfied: python-dateutil>=2.6.1 in /usr/local/lib/python3.6/dist-packages (from pandas->simfin) (2.6.1)\n",
            "Requirement already satisfied: six>=1.5 in /usr/local/lib/python3.6/dist-packages (from python-dateutil>=2.6.1->pandas->simfin) (1.12.0)\n",
            "Installing collected packages: simfin\n",
            "Successfully installed simfin-0.2.0\n"
          ],
          "name": "stdout"
        }
      ]
    },
    {
      "cell_type": "code",
      "metadata": {
        "id": "E7h2KL5LDPNF",
        "colab_type": "code",
        "colab": {}
      },
      "source": [
        "import pandas as pd\n",
        "from pathlib import Path\n",
        "%matplotlib inline\n",
        "import simfin as sf\n",
        "from simfin.names import *"
      ],
      "execution_count": 0,
      "outputs": []
    },
    {
      "cell_type": "code",
      "metadata": {
        "id": "tlbh9iW_BPpr",
        "colab_type": "code",
        "colab": {
          "base_uri": "https://localhost:8080/",
          "height": 68
        },
        "outputId": "a2adfd45-b1ba-4e24-89d1-77380ef36390"
      },
      "source": [
        "sf.set_data_dir('~/simfin_data/')\n",
        "df_prices = sf.load_shareprices(variant='daily', market='US')"
      ],
      "execution_count": 13,
      "outputs": [
        {
          "output_type": "stream",
          "text": [
            "Dataset \"us-shareprices-daily\" not on disk, downloading ...\n",
            "- Download progress: 100.0%\n",
            "- Extracting zip-file: Done!\n"
          ],
          "name": "stdout"
        }
      ]
    },
    {
      "cell_type": "code",
      "metadata": {
        "id": "JDgHP1y3EXPl",
        "colab_type": "code",
        "colab": {
          "base_uri": "https://localhost:8080/",
          "height": 390
        },
        "outputId": "bf992298-cbc5-40fa-e83a-261ad4681525"
      },
      "source": [
        "df_prices.head(10)"
      ],
      "execution_count": 14,
      "outputs": [
        {
          "output_type": "execute_result",
          "data": {
            "text/html": [
              "<div>\n",
              "<style scoped>\n",
              "    .dataframe tbody tr th:only-of-type {\n",
              "        vertical-align: middle;\n",
              "    }\n",
              "\n",
              "    .dataframe tbody tr th {\n",
              "        vertical-align: top;\n",
              "    }\n",
              "\n",
              "    .dataframe thead th {\n",
              "        text-align: right;\n",
              "    }\n",
              "</style>\n",
              "<table border=\"1\" class=\"dataframe\">\n",
              "  <thead>\n",
              "    <tr style=\"text-align: right;\">\n",
              "      <th></th>\n",
              "      <th></th>\n",
              "      <th>SimFinId</th>\n",
              "      <th>Open</th>\n",
              "      <th>Low</th>\n",
              "      <th>High</th>\n",
              "      <th>Close</th>\n",
              "      <th>Adj. Close</th>\n",
              "      <th>Dividend</th>\n",
              "      <th>Volume</th>\n",
              "    </tr>\n",
              "    <tr>\n",
              "      <th>Ticker</th>\n",
              "      <th>Date</th>\n",
              "      <th></th>\n",
              "      <th></th>\n",
              "      <th></th>\n",
              "      <th></th>\n",
              "      <th></th>\n",
              "      <th></th>\n",
              "      <th></th>\n",
              "      <th></th>\n",
              "    </tr>\n",
              "  </thead>\n",
              "  <tbody>\n",
              "    <tr>\n",
              "      <th rowspan=\"10\" valign=\"top\">A</th>\n",
              "      <th>2007-01-03</th>\n",
              "      <td>45846</td>\n",
              "      <td>25.0286</td>\n",
              "      <td>24.3562</td>\n",
              "      <td>25.3791</td>\n",
              "      <td>24.5351</td>\n",
              "      <td>22.75</td>\n",
              "      <td>NaN</td>\n",
              "      <td>3599200</td>\n",
              "    </tr>\n",
              "    <tr>\n",
              "      <th>2007-01-04</th>\n",
              "      <td>45846</td>\n",
              "      <td>24.5351</td>\n",
              "      <td>23.9342</td>\n",
              "      <td>24.7496</td>\n",
              "      <td>24.6137</td>\n",
              "      <td>22.82</td>\n",
              "      <td>NaN</td>\n",
              "      <td>2899000</td>\n",
              "    </tr>\n",
              "    <tr>\n",
              "      <th>2007-01-05</th>\n",
              "      <td>45846</td>\n",
              "      <td>24.5351</td>\n",
              "      <td>24.3210</td>\n",
              "      <td>24.6066</td>\n",
              "      <td>24.3848</td>\n",
              "      <td>22.61</td>\n",
              "      <td>NaN</td>\n",
              "      <td>3741800</td>\n",
              "    </tr>\n",
              "    <tr>\n",
              "      <th>2007-01-08</th>\n",
              "      <td>45846</td>\n",
              "      <td>24.3062</td>\n",
              "      <td>24.0916</td>\n",
              "      <td>24.3777</td>\n",
              "      <td>24.2990</td>\n",
              "      <td>22.53</td>\n",
              "      <td>NaN</td>\n",
              "      <td>2176900</td>\n",
              "    </tr>\n",
              "    <tr>\n",
              "      <th>2007-01-09</th>\n",
              "      <td>45846</td>\n",
              "      <td>24.3777</td>\n",
              "      <td>24.0558</td>\n",
              "      <td>24.5494</td>\n",
              "      <td>24.3276</td>\n",
              "      <td>22.55</td>\n",
              "      <td>NaN</td>\n",
              "      <td>1937900</td>\n",
              "    </tr>\n",
              "    <tr>\n",
              "      <th>2007-01-10</th>\n",
              "      <td>45846</td>\n",
              "      <td>24.3491</td>\n",
              "      <td>23.8698</td>\n",
              "      <td>24.3491</td>\n",
              "      <td>24.1059</td>\n",
              "      <td>22.35</td>\n",
              "      <td>NaN</td>\n",
              "      <td>3016000</td>\n",
              "    </tr>\n",
              "    <tr>\n",
              "      <th>2007-01-11</th>\n",
              "      <td>45846</td>\n",
              "      <td>24.1989</td>\n",
              "      <td>23.8555</td>\n",
              "      <td>24.3491</td>\n",
              "      <td>24.1059</td>\n",
              "      <td>22.35</td>\n",
              "      <td>NaN</td>\n",
              "      <td>2919400</td>\n",
              "    </tr>\n",
              "    <tr>\n",
              "      <th>2007-01-12</th>\n",
              "      <td>45846</td>\n",
              "      <td>24.0844</td>\n",
              "      <td>23.9914</td>\n",
              "      <td>24.3491</td>\n",
              "      <td>24.0343</td>\n",
              "      <td>22.28</td>\n",
              "      <td>NaN</td>\n",
              "      <td>1965400</td>\n",
              "    </tr>\n",
              "    <tr>\n",
              "      <th>2007-01-16</th>\n",
              "      <td>45846</td>\n",
              "      <td>23.9700</td>\n",
              "      <td>23.8484</td>\n",
              "      <td>24.2704</td>\n",
              "      <td>23.9914</td>\n",
              "      <td>22.24</td>\n",
              "      <td>NaN</td>\n",
              "      <td>4328900</td>\n",
              "    </tr>\n",
              "    <tr>\n",
              "      <th>2007-01-17</th>\n",
              "      <td>45846</td>\n",
              "      <td>23.9127</td>\n",
              "      <td>23.4328</td>\n",
              "      <td>23.9485</td>\n",
              "      <td>23.5122</td>\n",
              "      <td>21.80</td>\n",
              "      <td>NaN</td>\n",
              "      <td>3723000</td>\n",
              "    </tr>\n",
              "  </tbody>\n",
              "</table>\n",
              "</div>"
            ],
            "text/plain": [
              "                   SimFinId     Open      Low  ...  Adj. Close  Dividend   Volume\n",
              "Ticker Date                                    ...                               \n",
              "A      2007-01-03     45846  25.0286  24.3562  ...       22.75       NaN  3599200\n",
              "       2007-01-04     45846  24.5351  23.9342  ...       22.82       NaN  2899000\n",
              "       2007-01-05     45846  24.5351  24.3210  ...       22.61       NaN  3741800\n",
              "       2007-01-08     45846  24.3062  24.0916  ...       22.53       NaN  2176900\n",
              "       2007-01-09     45846  24.3777  24.0558  ...       22.55       NaN  1937900\n",
              "       2007-01-10     45846  24.3491  23.8698  ...       22.35       NaN  3016000\n",
              "       2007-01-11     45846  24.1989  23.8555  ...       22.35       NaN  2919400\n",
              "       2007-01-12     45846  24.0844  23.9914  ...       22.28       NaN  1965400\n",
              "       2007-01-16     45846  23.9700  23.8484  ...       22.24       NaN  4328900\n",
              "       2007-01-17     45846  23.9127  23.4328  ...       21.80       NaN  3723000\n",
              "\n",
              "[10 rows x 8 columns]"
            ]
          },
          "metadata": {
            "tags": []
          },
          "execution_count": 14
        }
      ]
    },
    {
      "cell_type": "code",
      "metadata": {
        "id": "xpc97XgIEzuV",
        "colab_type": "code",
        "colab": {}
      },
      "source": [
        "df_prices.drop([\"SimFinId\",\"Open\", \"Low\", \"High\", \"Adj. Close\", \"Dividend\", \"Volume\"],1,inplace=True)"
      ],
      "execution_count": 0,
      "outputs": []
    },
    {
      "cell_type": "code",
      "metadata": {
        "id": "n5frY0tlE7_j",
        "colab_type": "code",
        "colab": {}
      },
      "source": [
        "df_prices.sort_values(by=[\"Ticker\",\"Date\"],ascending=True,inplace=True)"
      ],
      "execution_count": 0,
      "outputs": []
    },
    {
      "cell_type": "code",
      "metadata": {
        "id": "WSfNbFrFFG9I",
        "colab_type": "code",
        "colab": {
          "base_uri": "https://localhost:8080/",
          "height": 390
        },
        "outputId": "cd8d54cc-15ff-4cc5-f2de-c76ef796167c"
      },
      "source": [
        "df_prices.head(10)"
      ],
      "execution_count": 17,
      "outputs": [
        {
          "output_type": "execute_result",
          "data": {
            "text/html": [
              "<div>\n",
              "<style scoped>\n",
              "    .dataframe tbody tr th:only-of-type {\n",
              "        vertical-align: middle;\n",
              "    }\n",
              "\n",
              "    .dataframe tbody tr th {\n",
              "        vertical-align: top;\n",
              "    }\n",
              "\n",
              "    .dataframe thead th {\n",
              "        text-align: right;\n",
              "    }\n",
              "</style>\n",
              "<table border=\"1\" class=\"dataframe\">\n",
              "  <thead>\n",
              "    <tr style=\"text-align: right;\">\n",
              "      <th></th>\n",
              "      <th></th>\n",
              "      <th>Close</th>\n",
              "    </tr>\n",
              "    <tr>\n",
              "      <th>Ticker</th>\n",
              "      <th>Date</th>\n",
              "      <th></th>\n",
              "    </tr>\n",
              "  </thead>\n",
              "  <tbody>\n",
              "    <tr>\n",
              "      <th rowspan=\"10\" valign=\"top\">A</th>\n",
              "      <th>2007-01-03</th>\n",
              "      <td>24.5351</td>\n",
              "    </tr>\n",
              "    <tr>\n",
              "      <th>2007-01-04</th>\n",
              "      <td>24.6137</td>\n",
              "    </tr>\n",
              "    <tr>\n",
              "      <th>2007-01-05</th>\n",
              "      <td>24.3848</td>\n",
              "    </tr>\n",
              "    <tr>\n",
              "      <th>2007-01-08</th>\n",
              "      <td>24.2990</td>\n",
              "    </tr>\n",
              "    <tr>\n",
              "      <th>2007-01-09</th>\n",
              "      <td>24.3276</td>\n",
              "    </tr>\n",
              "    <tr>\n",
              "      <th>2007-01-10</th>\n",
              "      <td>24.1059</td>\n",
              "    </tr>\n",
              "    <tr>\n",
              "      <th>2007-01-11</th>\n",
              "      <td>24.1059</td>\n",
              "    </tr>\n",
              "    <tr>\n",
              "      <th>2007-01-12</th>\n",
              "      <td>24.0343</td>\n",
              "    </tr>\n",
              "    <tr>\n",
              "      <th>2007-01-16</th>\n",
              "      <td>23.9914</td>\n",
              "    </tr>\n",
              "    <tr>\n",
              "      <th>2007-01-17</th>\n",
              "      <td>23.5122</td>\n",
              "    </tr>\n",
              "  </tbody>\n",
              "</table>\n",
              "</div>"
            ],
            "text/plain": [
              "                     Close\n",
              "Ticker Date               \n",
              "A      2007-01-03  24.5351\n",
              "       2007-01-04  24.6137\n",
              "       2007-01-05  24.3848\n",
              "       2007-01-08  24.2990\n",
              "       2007-01-09  24.3276\n",
              "       2007-01-10  24.1059\n",
              "       2007-01-11  24.1059\n",
              "       2007-01-12  24.0343\n",
              "       2007-01-16  23.9914\n",
              "       2007-01-17  23.5122"
            ]
          },
          "metadata": {
            "tags": []
          },
          "execution_count": 17
        }
      ]
    },
    {
      "cell_type": "code",
      "metadata": {
        "id": "issh6RyBFJqt",
        "colab_type": "code",
        "colab": {}
      },
      "source": [
        "df_prices['Returns'] = df_prices['Close'].pct_change()\n",
        "df_prices['12-day Rolling']= df_prices['Returns'].rolling(window=12).mean()\n",
        "df_prices['5-day Rolling']= df_prices['Returns'].rolling(window=5).mean()\n",
        "df_prices['3-day Rolling']= df_prices['Returns'].rolling(window=3).mean()\n",
        "df_prices['12-day Rolling Std']= df_prices['Returns'].rolling(window=12).std()\n",
        "df_prices['5-day Rolling Std']= df_prices['Returns'].rolling(window=5).std()\n",
        "df_prices['3-day Rolling Std']= df_prices['Returns'].rolling(window=3).std()"
      ],
      "execution_count": 0,
      "outputs": []
    },
    {
      "cell_type": "code",
      "metadata": {
        "id": "qVdNnyf_FsvX",
        "colab_type": "code",
        "colab": {
          "base_uri": "https://localhost:8080/",
          "height": 337
        },
        "outputId": "55e49046-440f-4e57-bb69-d008a47afe49"
      },
      "source": [
        "df_prices.head()"
      ],
      "execution_count": 19,
      "outputs": [
        {
          "output_type": "execute_result",
          "data": {
            "text/html": [
              "<div>\n",
              "<style scoped>\n",
              "    .dataframe tbody tr th:only-of-type {\n",
              "        vertical-align: middle;\n",
              "    }\n",
              "\n",
              "    .dataframe tbody tr th {\n",
              "        vertical-align: top;\n",
              "    }\n",
              "\n",
              "    .dataframe thead th {\n",
              "        text-align: right;\n",
              "    }\n",
              "</style>\n",
              "<table border=\"1\" class=\"dataframe\">\n",
              "  <thead>\n",
              "    <tr style=\"text-align: right;\">\n",
              "      <th></th>\n",
              "      <th></th>\n",
              "      <th>Close</th>\n",
              "      <th>Returns</th>\n",
              "      <th>12-day Rolling</th>\n",
              "      <th>5-day Rolling</th>\n",
              "      <th>3-day Rolling</th>\n",
              "      <th>12-day Rolling Std</th>\n",
              "      <th>5-day Rolling Std</th>\n",
              "      <th>3-day Rolling Std</th>\n",
              "    </tr>\n",
              "    <tr>\n",
              "      <th>Ticker</th>\n",
              "      <th>Date</th>\n",
              "      <th></th>\n",
              "      <th></th>\n",
              "      <th></th>\n",
              "      <th></th>\n",
              "      <th></th>\n",
              "      <th></th>\n",
              "      <th></th>\n",
              "      <th></th>\n",
              "    </tr>\n",
              "  </thead>\n",
              "  <tbody>\n",
              "    <tr>\n",
              "      <th rowspan=\"5\" valign=\"top\">A</th>\n",
              "      <th>2007-01-03</th>\n",
              "      <td>24.5351</td>\n",
              "      <td>NaN</td>\n",
              "      <td>NaN</td>\n",
              "      <td>NaN</td>\n",
              "      <td>NaN</td>\n",
              "      <td>NaN</td>\n",
              "      <td>NaN</td>\n",
              "      <td>NaN</td>\n",
              "    </tr>\n",
              "    <tr>\n",
              "      <th>2007-01-04</th>\n",
              "      <td>24.6137</td>\n",
              "      <td>0.003204</td>\n",
              "      <td>NaN</td>\n",
              "      <td>NaN</td>\n",
              "      <td>NaN</td>\n",
              "      <td>NaN</td>\n",
              "      <td>NaN</td>\n",
              "      <td>NaN</td>\n",
              "    </tr>\n",
              "    <tr>\n",
              "      <th>2007-01-05</th>\n",
              "      <td>24.3848</td>\n",
              "      <td>-0.009300</td>\n",
              "      <td>NaN</td>\n",
              "      <td>NaN</td>\n",
              "      <td>NaN</td>\n",
              "      <td>NaN</td>\n",
              "      <td>NaN</td>\n",
              "      <td>NaN</td>\n",
              "    </tr>\n",
              "    <tr>\n",
              "      <th>2007-01-08</th>\n",
              "      <td>24.2990</td>\n",
              "      <td>-0.003519</td>\n",
              "      <td>NaN</td>\n",
              "      <td>NaN</td>\n",
              "      <td>-0.003205</td>\n",
              "      <td>NaN</td>\n",
              "      <td>NaN</td>\n",
              "      <td>0.006258</td>\n",
              "    </tr>\n",
              "    <tr>\n",
              "      <th>2007-01-09</th>\n",
              "      <td>24.3276</td>\n",
              "      <td>0.001177</td>\n",
              "      <td>NaN</td>\n",
              "      <td>NaN</td>\n",
              "      <td>-0.003880</td>\n",
              "      <td>NaN</td>\n",
              "      <td>NaN</td>\n",
              "      <td>0.005248</td>\n",
              "    </tr>\n",
              "  </tbody>\n",
              "</table>\n",
              "</div>"
            ],
            "text/plain": [
              "                     Close   Returns  ...  5-day Rolling Std  3-day Rolling Std\n",
              "Ticker Date                           ...                                      \n",
              "A      2007-01-03  24.5351       NaN  ...                NaN                NaN\n",
              "       2007-01-04  24.6137  0.003204  ...                NaN                NaN\n",
              "       2007-01-05  24.3848 -0.009300  ...                NaN                NaN\n",
              "       2007-01-08  24.2990 -0.003519  ...                NaN           0.006258\n",
              "       2007-01-09  24.3276  0.001177  ...                NaN           0.005248\n",
              "\n",
              "[5 rows x 8 columns]"
            ]
          },
          "metadata": {
            "tags": []
          },
          "execution_count": 19
        }
      ]
    },
    {
      "cell_type": "code",
      "metadata": {
        "id": "EUPJAZ5IFvNN",
        "colab_type": "code",
        "colab": {}
      },
      "source": [
        ""
      ],
      "execution_count": 0,
      "outputs": []
    }
  ]
}