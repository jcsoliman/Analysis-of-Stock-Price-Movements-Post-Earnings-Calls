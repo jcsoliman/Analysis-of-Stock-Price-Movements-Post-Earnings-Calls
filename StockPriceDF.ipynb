{
 "cells": [
  {
   "cell_type": "markdown",
   "metadata": {
    "colab_type": "text",
    "id": "view-in-github"
   },
   "source": [
    "<a href=\"https://colab.research.google.com/github/jcsoliman/cu_fintech_project_2/blob/master/StockPriceDF.ipynb\" target=\"_parent\"><img src=\"https://colab.research.google.com/assets/colab-badge.svg\" alt=\"Open In Colab\"/></a>"
   ]
  },
  {
   "cell_type": "code",
   "execution_count": 1,
   "metadata": {
    "colab": {
     "base_uri": "https://localhost:8080/",
     "height": 275
    },
    "colab_type": "code",
    "id": "CLAh-cMawiNz",
    "outputId": "18b6a297-4471-4f9c-dd1d-7ce7810e30d5"
   },
   "outputs": [
    {
     "name": "stdout",
     "output_type": "stream",
     "text": [
      "Requirement already satisfied: simfin in c:\\python38\\lib\\site-packages (0.2.0)\n",
      "Requirement already satisfied: requests in c:\\python38\\lib\\site-packages (from simfin) (2.22.0)\n",
      "Requirement already satisfied: numpy in c:\\python38\\lib\\site-packages (from simfin) (1.18.0)\n",
      "Requirement already satisfied: pandas in c:\\python38\\lib\\site-packages (from simfin) (0.25.3)\n",
      "Requirement already satisfied: certifi>=2017.4.17 in c:\\python38\\lib\\site-packages (from requests->simfin) (2019.11.28)\n",
      "Requirement already satisfied: urllib3!=1.25.0,!=1.25.1,<1.26,>=1.21.1 in c:\\python38\\lib\\site-packages (from requests->simfin) (1.25.7)\n",
      "Requirement already satisfied: idna<2.9,>=2.5 in c:\\python38\\lib\\site-packages (from requests->simfin) (2.8)\n",
      "Requirement already satisfied: chardet<3.1.0,>=3.0.2 in c:\\python38\\lib\\site-packages (from requests->simfin) (3.0.4)\n",
      "Requirement already satisfied: pytz>=2017.2 in c:\\python38\\lib\\site-packages (from pandas->simfin) (2019.3)\n",
      "Requirement already satisfied: python-dateutil>=2.6.1 in c:\\python38\\lib\\site-packages (from pandas->simfin) (2.8.1)\n",
      "Requirement already satisfied: six>=1.5 in c:\\python38\\lib\\site-packages (from python-dateutil>=2.6.1->pandas->simfin) (1.13.0)\n"
     ]
    }
   ],
   "source": [
    "!pip install simfin"
   ]
  },
  {
   "cell_type": "code",
   "execution_count": 2,
   "metadata": {
    "colab": {},
    "colab_type": "code",
    "id": "E7h2KL5LDPNF"
   },
   "outputs": [],
   "source": [
    "import pandas as pd\n",
    "from pathlib import Path\n",
    "%matplotlib inline\n",
    "import simfin as sf\n",
    "from simfin.names import *"
   ]
  },
  {
   "cell_type": "code",
   "execution_count": 3,
   "metadata": {
    "colab": {
     "base_uri": "https://localhost:8080/",
     "height": 68
    },
    "colab_type": "code",
    "id": "tlbh9iW_BPpr",
    "outputId": "a2adfd45-b1ba-4e24-89d1-77380ef36390"
   },
   "outputs": [
    {
     "name": "stdout",
     "output_type": "stream",
     "text": [
      "Dataset \"us-shareprices-daily\" on disk (13 days old), loading.\n"
     ]
    }
   ],
   "source": [
    "sf.set_data_dir('~/simfin_data/')\n",
    "df_prices = sf.load_shareprices(variant='daily', market='US')\n"
   ]
  },
  {
   "cell_type": "code",
   "execution_count": 4,
   "metadata": {},
   "outputs": [],
   "source": [
    "df_prices.reset_index(inplace=True)"
   ]
  },
  {
   "cell_type": "code",
   "execution_count": 5,
   "metadata": {
    "colab": {
     "base_uri": "https://localhost:8080/",
     "height": 390
    },
    "colab_type": "code",
    "id": "JDgHP1y3EXPl",
    "outputId": "bf992298-cbc5-40fa-e83a-261ad4681525"
   },
   "outputs": [
    {
     "data": {
      "text/html": [
       "<div>\n",
       "<style scoped>\n",
       "    .dataframe tbody tr th:only-of-type {\n",
       "        vertical-align: middle;\n",
       "    }\n",
       "\n",
       "    .dataframe tbody tr th {\n",
       "        vertical-align: top;\n",
       "    }\n",
       "\n",
       "    .dataframe thead th {\n",
       "        text-align: right;\n",
       "    }\n",
       "</style>\n",
       "<table border=\"1\" class=\"dataframe\">\n",
       "  <thead>\n",
       "    <tr style=\"text-align: right;\">\n",
       "      <th></th>\n",
       "      <th>Ticker</th>\n",
       "      <th>Date</th>\n",
       "      <th>SimFinId</th>\n",
       "      <th>Open</th>\n",
       "      <th>Low</th>\n",
       "      <th>High</th>\n",
       "      <th>Close</th>\n",
       "      <th>Adj. Close</th>\n",
       "      <th>Dividend</th>\n",
       "      <th>Volume</th>\n",
       "    </tr>\n",
       "  </thead>\n",
       "  <tbody>\n",
       "    <tr>\n",
       "      <th>0</th>\n",
       "      <td>A</td>\n",
       "      <td>2007-01-03</td>\n",
       "      <td>45846</td>\n",
       "      <td>25.0286</td>\n",
       "      <td>24.3562</td>\n",
       "      <td>25.3791</td>\n",
       "      <td>24.5351</td>\n",
       "      <td>22.75</td>\n",
       "      <td>NaN</td>\n",
       "      <td>3599200</td>\n",
       "    </tr>\n",
       "    <tr>\n",
       "      <th>1</th>\n",
       "      <td>A</td>\n",
       "      <td>2007-01-04</td>\n",
       "      <td>45846</td>\n",
       "      <td>24.5351</td>\n",
       "      <td>23.9342</td>\n",
       "      <td>24.7496</td>\n",
       "      <td>24.6137</td>\n",
       "      <td>22.82</td>\n",
       "      <td>NaN</td>\n",
       "      <td>2899000</td>\n",
       "    </tr>\n",
       "    <tr>\n",
       "      <th>2</th>\n",
       "      <td>A</td>\n",
       "      <td>2007-01-05</td>\n",
       "      <td>45846</td>\n",
       "      <td>24.5351</td>\n",
       "      <td>24.3210</td>\n",
       "      <td>24.6066</td>\n",
       "      <td>24.3848</td>\n",
       "      <td>22.61</td>\n",
       "      <td>NaN</td>\n",
       "      <td>3741800</td>\n",
       "    </tr>\n",
       "    <tr>\n",
       "      <th>3</th>\n",
       "      <td>A</td>\n",
       "      <td>2007-01-08</td>\n",
       "      <td>45846</td>\n",
       "      <td>24.3062</td>\n",
       "      <td>24.0916</td>\n",
       "      <td>24.3777</td>\n",
       "      <td>24.2990</td>\n",
       "      <td>22.53</td>\n",
       "      <td>NaN</td>\n",
       "      <td>2176900</td>\n",
       "    </tr>\n",
       "    <tr>\n",
       "      <th>4</th>\n",
       "      <td>A</td>\n",
       "      <td>2007-01-09</td>\n",
       "      <td>45846</td>\n",
       "      <td>24.3777</td>\n",
       "      <td>24.0558</td>\n",
       "      <td>24.5494</td>\n",
       "      <td>24.3276</td>\n",
       "      <td>22.55</td>\n",
       "      <td>NaN</td>\n",
       "      <td>1937900</td>\n",
       "    </tr>\n",
       "    <tr>\n",
       "      <th>5</th>\n",
       "      <td>A</td>\n",
       "      <td>2007-01-10</td>\n",
       "      <td>45846</td>\n",
       "      <td>24.3491</td>\n",
       "      <td>23.8698</td>\n",
       "      <td>24.3491</td>\n",
       "      <td>24.1059</td>\n",
       "      <td>22.35</td>\n",
       "      <td>NaN</td>\n",
       "      <td>3016000</td>\n",
       "    </tr>\n",
       "    <tr>\n",
       "      <th>6</th>\n",
       "      <td>A</td>\n",
       "      <td>2007-01-11</td>\n",
       "      <td>45846</td>\n",
       "      <td>24.1989</td>\n",
       "      <td>23.8555</td>\n",
       "      <td>24.3491</td>\n",
       "      <td>24.1059</td>\n",
       "      <td>22.35</td>\n",
       "      <td>NaN</td>\n",
       "      <td>2919400</td>\n",
       "    </tr>\n",
       "    <tr>\n",
       "      <th>7</th>\n",
       "      <td>A</td>\n",
       "      <td>2007-01-12</td>\n",
       "      <td>45846</td>\n",
       "      <td>24.0844</td>\n",
       "      <td>23.9914</td>\n",
       "      <td>24.3491</td>\n",
       "      <td>24.0343</td>\n",
       "      <td>22.28</td>\n",
       "      <td>NaN</td>\n",
       "      <td>1965400</td>\n",
       "    </tr>\n",
       "    <tr>\n",
       "      <th>8</th>\n",
       "      <td>A</td>\n",
       "      <td>2007-01-16</td>\n",
       "      <td>45846</td>\n",
       "      <td>23.9700</td>\n",
       "      <td>23.8484</td>\n",
       "      <td>24.2704</td>\n",
       "      <td>23.9914</td>\n",
       "      <td>22.24</td>\n",
       "      <td>NaN</td>\n",
       "      <td>4328900</td>\n",
       "    </tr>\n",
       "    <tr>\n",
       "      <th>9</th>\n",
       "      <td>A</td>\n",
       "      <td>2007-01-17</td>\n",
       "      <td>45846</td>\n",
       "      <td>23.9127</td>\n",
       "      <td>23.4328</td>\n",
       "      <td>23.9485</td>\n",
       "      <td>23.5122</td>\n",
       "      <td>21.80</td>\n",
       "      <td>NaN</td>\n",
       "      <td>3723000</td>\n",
       "    </tr>\n",
       "  </tbody>\n",
       "</table>\n",
       "</div>"
      ],
      "text/plain": [
       "  Ticker       Date  SimFinId     Open      Low     High    Close  Adj. Close  \\\n",
       "0      A 2007-01-03     45846  25.0286  24.3562  25.3791  24.5351       22.75   \n",
       "1      A 2007-01-04     45846  24.5351  23.9342  24.7496  24.6137       22.82   \n",
       "2      A 2007-01-05     45846  24.5351  24.3210  24.6066  24.3848       22.61   \n",
       "3      A 2007-01-08     45846  24.3062  24.0916  24.3777  24.2990       22.53   \n",
       "4      A 2007-01-09     45846  24.3777  24.0558  24.5494  24.3276       22.55   \n",
       "5      A 2007-01-10     45846  24.3491  23.8698  24.3491  24.1059       22.35   \n",
       "6      A 2007-01-11     45846  24.1989  23.8555  24.3491  24.1059       22.35   \n",
       "7      A 2007-01-12     45846  24.0844  23.9914  24.3491  24.0343       22.28   \n",
       "8      A 2007-01-16     45846  23.9700  23.8484  24.2704  23.9914       22.24   \n",
       "9      A 2007-01-17     45846  23.9127  23.4328  23.9485  23.5122       21.80   \n",
       "\n",
       "   Dividend   Volume  \n",
       "0       NaN  3599200  \n",
       "1       NaN  2899000  \n",
       "2       NaN  3741800  \n",
       "3       NaN  2176900  \n",
       "4       NaN  1937900  \n",
       "5       NaN  3016000  \n",
       "6       NaN  2919400  \n",
       "7       NaN  1965400  \n",
       "8       NaN  4328900  \n",
       "9       NaN  3723000  "
      ]
     },
     "execution_count": 5,
     "metadata": {},
     "output_type": "execute_result"
    }
   ],
   "source": [
    "df_prices.head(10)"
   ]
  },
  {
   "cell_type": "code",
   "execution_count": 6,
   "metadata": {
    "colab": {},
    "colab_type": "code",
    "id": "xpc97XgIEzuV"
   },
   "outputs": [],
   "source": [
    "df_prices.drop([\"SimFinId\",\"Open\", \"Low\", \"High\", \"Adj. Close\", \"Dividend\", \"Volume\"],1,inplace=True)\n"
   ]
  },
  {
   "cell_type": "code",
   "execution_count": 7,
   "metadata": {
    "colab": {},
    "colab_type": "code",
    "id": "n5frY0tlE7_j"
   },
   "outputs": [],
   "source": [
    "df_prices.sort_values(by=[\"Ticker\",\"Date\"],ascending=True,inplace=True)"
   ]
  },
  {
   "cell_type": "code",
   "execution_count": 8,
   "metadata": {
    "colab": {
     "base_uri": "https://localhost:8080/",
     "height": 390
    },
    "colab_type": "code",
    "id": "WSfNbFrFFG9I",
    "outputId": "cd8d54cc-15ff-4cc5-f2de-c76ef796167c"
   },
   "outputs": [
    {
     "data": {
      "text/html": [
       "<div>\n",
       "<style scoped>\n",
       "    .dataframe tbody tr th:only-of-type {\n",
       "        vertical-align: middle;\n",
       "    }\n",
       "\n",
       "    .dataframe tbody tr th {\n",
       "        vertical-align: top;\n",
       "    }\n",
       "\n",
       "    .dataframe thead th {\n",
       "        text-align: right;\n",
       "    }\n",
       "</style>\n",
       "<table border=\"1\" class=\"dataframe\">\n",
       "  <thead>\n",
       "    <tr style=\"text-align: right;\">\n",
       "      <th></th>\n",
       "      <th>Ticker</th>\n",
       "      <th>Date</th>\n",
       "      <th>Close</th>\n",
       "    </tr>\n",
       "  </thead>\n",
       "  <tbody>\n",
       "    <tr>\n",
       "      <th>0</th>\n",
       "      <td>A</td>\n",
       "      <td>2007-01-03</td>\n",
       "      <td>24.5351</td>\n",
       "    </tr>\n",
       "    <tr>\n",
       "      <th>1</th>\n",
       "      <td>A</td>\n",
       "      <td>2007-01-04</td>\n",
       "      <td>24.6137</td>\n",
       "    </tr>\n",
       "    <tr>\n",
       "      <th>2</th>\n",
       "      <td>A</td>\n",
       "      <td>2007-01-05</td>\n",
       "      <td>24.3848</td>\n",
       "    </tr>\n",
       "    <tr>\n",
       "      <th>3</th>\n",
       "      <td>A</td>\n",
       "      <td>2007-01-08</td>\n",
       "      <td>24.2990</td>\n",
       "    </tr>\n",
       "    <tr>\n",
       "      <th>4</th>\n",
       "      <td>A</td>\n",
       "      <td>2007-01-09</td>\n",
       "      <td>24.3276</td>\n",
       "    </tr>\n",
       "    <tr>\n",
       "      <th>5</th>\n",
       "      <td>A</td>\n",
       "      <td>2007-01-10</td>\n",
       "      <td>24.1059</td>\n",
       "    </tr>\n",
       "    <tr>\n",
       "      <th>6</th>\n",
       "      <td>A</td>\n",
       "      <td>2007-01-11</td>\n",
       "      <td>24.1059</td>\n",
       "    </tr>\n",
       "    <tr>\n",
       "      <th>7</th>\n",
       "      <td>A</td>\n",
       "      <td>2007-01-12</td>\n",
       "      <td>24.0343</td>\n",
       "    </tr>\n",
       "    <tr>\n",
       "      <th>8</th>\n",
       "      <td>A</td>\n",
       "      <td>2007-01-16</td>\n",
       "      <td>23.9914</td>\n",
       "    </tr>\n",
       "    <tr>\n",
       "      <th>9</th>\n",
       "      <td>A</td>\n",
       "      <td>2007-01-17</td>\n",
       "      <td>23.5122</td>\n",
       "    </tr>\n",
       "  </tbody>\n",
       "</table>\n",
       "</div>"
      ],
      "text/plain": [
       "  Ticker       Date    Close\n",
       "0      A 2007-01-03  24.5351\n",
       "1      A 2007-01-04  24.6137\n",
       "2      A 2007-01-05  24.3848\n",
       "3      A 2007-01-08  24.2990\n",
       "4      A 2007-01-09  24.3276\n",
       "5      A 2007-01-10  24.1059\n",
       "6      A 2007-01-11  24.1059\n",
       "7      A 2007-01-12  24.0343\n",
       "8      A 2007-01-16  23.9914\n",
       "9      A 2007-01-17  23.5122"
      ]
     },
     "execution_count": 8,
     "metadata": {},
     "output_type": "execute_result"
    }
   ],
   "source": [
    "df_prices.head(10)"
   ]
  },
  {
   "cell_type": "code",
   "execution_count": 9,
   "metadata": {
    "colab": {},
    "colab_type": "code",
    "id": "issh6RyBFJqt"
   },
   "outputs": [],
   "source": [
    "df_prices['Returns'] = df_prices['Close'].pct_change()\n",
    "df_prices['12-day Rolling']= df_prices['Returns'].rolling(window=12).mean()\n",
    "df_prices['5-day Rolling']= df_prices['Returns'].rolling(window=5).mean()\n",
    "df_prices['3-day Rolling']= df_prices['Returns'].rolling(window=3).mean()\n",
    "df_prices['12-day Rolling Std']= df_prices['Returns'].rolling(window=12).std()\n",
    "df_prices['5-day Rolling Std']= df_prices['Returns'].rolling(window=5).std()\n",
    "df_prices['3-day Rolling Std']= df_prices['Returns'].rolling(window=3).std()"
   ]
  },
  {
   "cell_type": "code",
   "execution_count": 10,
   "metadata": {
    "colab": {
     "base_uri": "https://localhost:8080/",
     "height": 337
    },
    "colab_type": "code",
    "id": "qVdNnyf_FsvX",
    "outputId": "55e49046-440f-4e57-bb69-d008a47afe49"
   },
   "outputs": [
    {
     "data": {
      "text/html": [
       "<div>\n",
       "<style scoped>\n",
       "    .dataframe tbody tr th:only-of-type {\n",
       "        vertical-align: middle;\n",
       "    }\n",
       "\n",
       "    .dataframe tbody tr th {\n",
       "        vertical-align: top;\n",
       "    }\n",
       "\n",
       "    .dataframe thead th {\n",
       "        text-align: right;\n",
       "    }\n",
       "</style>\n",
       "<table border=\"1\" class=\"dataframe\">\n",
       "  <thead>\n",
       "    <tr style=\"text-align: right;\">\n",
       "      <th></th>\n",
       "      <th>Ticker</th>\n",
       "      <th>Date</th>\n",
       "      <th>Close</th>\n",
       "      <th>Returns</th>\n",
       "      <th>12-day Rolling</th>\n",
       "      <th>5-day Rolling</th>\n",
       "      <th>3-day Rolling</th>\n",
       "      <th>12-day Rolling Std</th>\n",
       "      <th>5-day Rolling Std</th>\n",
       "      <th>3-day Rolling Std</th>\n",
       "    </tr>\n",
       "  </thead>\n",
       "  <tbody>\n",
       "    <tr>\n",
       "      <th>0</th>\n",
       "      <td>A</td>\n",
       "      <td>2007-01-03</td>\n",
       "      <td>24.5351</td>\n",
       "      <td>NaN</td>\n",
       "      <td>NaN</td>\n",
       "      <td>NaN</td>\n",
       "      <td>NaN</td>\n",
       "      <td>NaN</td>\n",
       "      <td>NaN</td>\n",
       "      <td>NaN</td>\n",
       "    </tr>\n",
       "    <tr>\n",
       "      <th>1</th>\n",
       "      <td>A</td>\n",
       "      <td>2007-01-04</td>\n",
       "      <td>24.6137</td>\n",
       "      <td>0.003204</td>\n",
       "      <td>NaN</td>\n",
       "      <td>NaN</td>\n",
       "      <td>NaN</td>\n",
       "      <td>NaN</td>\n",
       "      <td>NaN</td>\n",
       "      <td>NaN</td>\n",
       "    </tr>\n",
       "    <tr>\n",
       "      <th>2</th>\n",
       "      <td>A</td>\n",
       "      <td>2007-01-05</td>\n",
       "      <td>24.3848</td>\n",
       "      <td>-0.009300</td>\n",
       "      <td>NaN</td>\n",
       "      <td>NaN</td>\n",
       "      <td>NaN</td>\n",
       "      <td>NaN</td>\n",
       "      <td>NaN</td>\n",
       "      <td>NaN</td>\n",
       "    </tr>\n",
       "    <tr>\n",
       "      <th>3</th>\n",
       "      <td>A</td>\n",
       "      <td>2007-01-08</td>\n",
       "      <td>24.2990</td>\n",
       "      <td>-0.003519</td>\n",
       "      <td>NaN</td>\n",
       "      <td>NaN</td>\n",
       "      <td>-0.003205</td>\n",
       "      <td>NaN</td>\n",
       "      <td>NaN</td>\n",
       "      <td>0.006258</td>\n",
       "    </tr>\n",
       "    <tr>\n",
       "      <th>4</th>\n",
       "      <td>A</td>\n",
       "      <td>2007-01-09</td>\n",
       "      <td>24.3276</td>\n",
       "      <td>0.001177</td>\n",
       "      <td>NaN</td>\n",
       "      <td>NaN</td>\n",
       "      <td>-0.003880</td>\n",
       "      <td>NaN</td>\n",
       "      <td>NaN</td>\n",
       "      <td>0.005248</td>\n",
       "    </tr>\n",
       "  </tbody>\n",
       "</table>\n",
       "</div>"
      ],
      "text/plain": [
       "  Ticker       Date    Close   Returns  12-day Rolling  5-day Rolling  \\\n",
       "0      A 2007-01-03  24.5351       NaN             NaN            NaN   \n",
       "1      A 2007-01-04  24.6137  0.003204             NaN            NaN   \n",
       "2      A 2007-01-05  24.3848 -0.009300             NaN            NaN   \n",
       "3      A 2007-01-08  24.2990 -0.003519             NaN            NaN   \n",
       "4      A 2007-01-09  24.3276  0.001177             NaN            NaN   \n",
       "\n",
       "   3-day Rolling  12-day Rolling Std  5-day Rolling Std  3-day Rolling Std  \n",
       "0            NaN                 NaN                NaN                NaN  \n",
       "1            NaN                 NaN                NaN                NaN  \n",
       "2            NaN                 NaN                NaN                NaN  \n",
       "3      -0.003205                 NaN                NaN           0.006258  \n",
       "4      -0.003880                 NaN                NaN           0.005248  "
      ]
     },
     "execution_count": 10,
     "metadata": {},
     "output_type": "execute_result"
    }
   ],
   "source": [
    "df_prices.head()"
   ]
  },
  {
   "cell_type": "code",
   "execution_count": null,
   "metadata": {
    "colab": {},
    "colab_type": "code",
    "id": "EUPJAZ5IFvNN"
   },
   "outputs": [],
   "source": []
  }
 ],
 "metadata": {
  "colab": {
   "collapsed_sections": [],
   "include_colab_link": true,
   "name": "StockPriceDF.ipynb",
   "provenance": []
  },
  "kernelspec": {
   "display_name": "Python 3",
   "language": "python",
   "name": "python3"
  },
  "language_info": {
   "codemirror_mode": {
    "name": "ipython",
    "version": 3
   },
   "file_extension": ".py",
   "mimetype": "text/x-python",
   "name": "python",
   "nbconvert_exporter": "python",
   "pygments_lexer": "ipython3",
   "version": "3.7.3"
  }
 },
 "nbformat": 4,
 "nbformat_minor": 4
}
