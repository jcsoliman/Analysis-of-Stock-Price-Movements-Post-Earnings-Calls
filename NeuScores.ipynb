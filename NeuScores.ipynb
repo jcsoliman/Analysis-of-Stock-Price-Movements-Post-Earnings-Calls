{
 "cells": [
  {
   "cell_type": "code",
   "execution_count": 1,
   "metadata": {},
   "outputs": [],
   "source": [
    "import pandas as pd\n",
    "import numpy as np\n",
    "%matplotlib inline\n",
    "import warnings\n",
    "warnings.filterwarnings('ignore')"
   ]
  },
  {
   "cell_type": "code",
   "execution_count": 2,
   "metadata": {},
   "outputs": [],
   "source": [
    "from sklearn.linear_model import LinearRegression\n",
    "from sklearn.metrics import mean_squared_error, r2_score"
   ]
  },
  {
   "cell_type": "code",
   "execution_count": 3,
   "metadata": {},
   "outputs": [
    {
     "data": {
      "text/html": [
       "<div>\n",
       "<style scoped>\n",
       "    .dataframe tbody tr th:only-of-type {\n",
       "        vertical-align: middle;\n",
       "    }\n",
       "\n",
       "    .dataframe tbody tr th {\n",
       "        vertical-align: top;\n",
       "    }\n",
       "\n",
       "    .dataframe thead th {\n",
       "        text-align: right;\n",
       "    }\n",
       "</style>\n",
       "<table border=\"1\" class=\"dataframe\">\n",
       "  <thead>\n",
       "    <tr style=\"text-align: right;\">\n",
       "      <th></th>\n",
       "      <th>Ticker</th>\n",
       "      <th>Company</th>\n",
       "      <th>Year</th>\n",
       "      <th>QTR</th>\n",
       "      <th>Sent_Neg</th>\n",
       "      <th>Sent_Neu</th>\n",
       "      <th>Sent_Pos</th>\n",
       "      <th>Price_DayPrior</th>\n",
       "      <th>Price_DayOf</th>\n",
       "      <th>Price_DayAfter</th>\n",
       "      <th>...</th>\n",
       "      <th>PerCngNeu</th>\n",
       "      <th>PerCngPos</th>\n",
       "      <th>PRICE_PerCng_PriorEarnings</th>\n",
       "      <th>PRICE_PerCng_DayPrior</th>\n",
       "      <th>PRICE_PerCng_DayAfter</th>\n",
       "      <th>PRICE_PerCng_2DaysAfter</th>\n",
       "      <th>VOL_PerCng_PriorEarnings</th>\n",
       "      <th>VOL_PerCng_DayPrior</th>\n",
       "      <th>VOL_PerCng_DayAfter</th>\n",
       "      <th>VOL_PerCng_2DaysAfter</th>\n",
       "    </tr>\n",
       "    <tr>\n",
       "      <th>Date</th>\n",
       "      <th></th>\n",
       "      <th></th>\n",
       "      <th></th>\n",
       "      <th></th>\n",
       "      <th></th>\n",
       "      <th></th>\n",
       "      <th></th>\n",
       "      <th></th>\n",
       "      <th></th>\n",
       "      <th></th>\n",
       "      <th></th>\n",
       "      <th></th>\n",
       "      <th></th>\n",
       "      <th></th>\n",
       "      <th></th>\n",
       "      <th></th>\n",
       "      <th></th>\n",
       "      <th></th>\n",
       "      <th></th>\n",
       "      <th></th>\n",
       "      <th></th>\n",
       "    </tr>\n",
       "  </thead>\n",
       "  <tbody>\n",
       "    <tr>\n",
       "      <td>2019-10-15</td>\n",
       "      <td>GS</td>\n",
       "      <td>Goldman Sachs</td>\n",
       "      <td>2019</td>\n",
       "      <td>Q3</td>\n",
       "      <td>0.018</td>\n",
       "      <td>0.845</td>\n",
       "      <td>0.136</td>\n",
       "      <td>205.82</td>\n",
       "      <td>206.46</td>\n",
       "      <td>207.42</td>\n",
       "      <td>...</td>\n",
       "      <td>-0.021</td>\n",
       "      <td>0.214</td>\n",
       "      <td>-0.042</td>\n",
       "      <td>0.003</td>\n",
       "      <td>0.005</td>\n",
       "      <td>-</td>\n",
       "      <td>56.00%</td>\n",
       "      <td>260.52%</td>\n",
       "      <td>-58.68%</td>\n",
       "      <td>-65.10%</td>\n",
       "    </tr>\n",
       "    <tr>\n",
       "      <td>2019-07-16</td>\n",
       "      <td>GS</td>\n",
       "      <td>Goldman Sachs</td>\n",
       "      <td>2019</td>\n",
       "      <td>Q2</td>\n",
       "      <td>0.025</td>\n",
       "      <td>0.863</td>\n",
       "      <td>0.112</td>\n",
       "      <td>211.58</td>\n",
       "      <td>215.52</td>\n",
       "      <td>213.30</td>\n",
       "      <td>...</td>\n",
       "      <td>-0.005</td>\n",
       "      <td>-0.009</td>\n",
       "      <td>0.078</td>\n",
       "      <td>0.019</td>\n",
       "      <td>-0.010</td>\n",
       "      <td>-0.005</td>\n",
       "      <td>-20.20%</td>\n",
       "      <td>103.20%</td>\n",
       "      <td>-51.10%</td>\n",
       "      <td>-45.89%</td>\n",
       "    </tr>\n",
       "    <tr>\n",
       "      <td>2019-04-15</td>\n",
       "      <td>GS</td>\n",
       "      <td>Goldman Sachs</td>\n",
       "      <td>2019</td>\n",
       "      <td>Q1</td>\n",
       "      <td>0.020</td>\n",
       "      <td>0.867</td>\n",
       "      <td>0.113</td>\n",
       "      <td>207.84</td>\n",
       "      <td>199.91</td>\n",
       "      <td>201.84</td>\n",
       "      <td>...</td>\n",
       "      <td>0.012</td>\n",
       "      <td>-0.066</td>\n",
       "      <td>0.014</td>\n",
       "      <td>-0.038</td>\n",
       "      <td>0.010</td>\n",
       "      <td>0.04</td>\n",
       "      <td>-56.40%</td>\n",
       "      <td>29.84%</td>\n",
       "      <td>-26.67%</td>\n",
       "      <td>-36.60%</td>\n",
       "    </tr>\n",
       "    <tr>\n",
       "      <td>2019-01-16</td>\n",
       "      <td>GS</td>\n",
       "      <td>Goldman Sachs</td>\n",
       "      <td>2018</td>\n",
       "      <td>Q4</td>\n",
       "      <td>0.021</td>\n",
       "      <td>0.857</td>\n",
       "      <td>0.121</td>\n",
       "      <td>179.91</td>\n",
       "      <td>197.08</td>\n",
       "      <td>199.09</td>\n",
       "      <td>...</td>\n",
       "      <td>0.017</td>\n",
       "      <td>-0.148</td>\n",
       "      <td>-0.111</td>\n",
       "      <td>0.095</td>\n",
       "      <td>0.010</td>\n",
       "      <td>0.028</td>\n",
       "      <td>156.50%</td>\n",
       "      <td>421.81%</td>\n",
       "      <td>-46.18%</td>\n",
       "      <td>-62.81%</td>\n",
       "    </tr>\n",
       "    <tr>\n",
       "      <td>2018-10-16</td>\n",
       "      <td>GS</td>\n",
       "      <td>Goldman Sachs</td>\n",
       "      <td>2018</td>\n",
       "      <td>Q3</td>\n",
       "      <td>0.016</td>\n",
       "      <td>0.843</td>\n",
       "      <td>0.142</td>\n",
       "      <td>215.22</td>\n",
       "      <td>221.70</td>\n",
       "      <td>228.28</td>\n",
       "      <td>...</td>\n",
       "      <td>0.001</td>\n",
       "      <td>0.029</td>\n",
       "      <td>-0.040</td>\n",
       "      <td>0.030</td>\n",
       "      <td>0.030</td>\n",
       "      <td>0.015</td>\n",
       "      <td>-36.20%</td>\n",
       "      <td>77.70%</td>\n",
       "      <td>-16.38%</td>\n",
       "      <td>-49.44%</td>\n",
       "    </tr>\n",
       "  </tbody>\n",
       "</table>\n",
       "<p>5 rows × 26 columns</p>\n",
       "</div>"
      ],
      "text/plain": [
       "           Ticker        Company  Year QTR  Sent_Neg  Sent_Neu  Sent_Pos  \\\n",
       "Date                                                                       \n",
       "2019-10-15     GS  Goldman Sachs  2019  Q3     0.018     0.845     0.136   \n",
       "2019-07-16     GS  Goldman Sachs  2019  Q2     0.025     0.863     0.112   \n",
       "2019-04-15     GS  Goldman Sachs  2019  Q1     0.020     0.867     0.113   \n",
       "2019-01-16     GS  Goldman Sachs  2018  Q4     0.021     0.857     0.121   \n",
       "2018-10-16     GS  Goldman Sachs  2018  Q3     0.016     0.843     0.142   \n",
       "\n",
       "            Price_DayPrior  Price_DayOf  Price_DayAfter  ...  PerCngNeu  \\\n",
       "Date                                                     ...              \n",
       "2019-10-15          205.82       206.46          207.42  ...     -0.021   \n",
       "2019-07-16          211.58       215.52          213.30  ...     -0.005   \n",
       "2019-04-15          207.84       199.91          201.84  ...      0.012   \n",
       "2019-01-16          179.91       197.08          199.09  ...      0.017   \n",
       "2018-10-16          215.22       221.70          228.28  ...      0.001   \n",
       "\n",
       "            PerCngPos  PRICE_PerCng_PriorEarnings  PRICE_PerCng_DayPrior  \\\n",
       "Date                                                                       \n",
       "2019-10-15      0.214                      -0.042                  0.003   \n",
       "2019-07-16     -0.009                       0.078                  0.019   \n",
       "2019-04-15     -0.066                       0.014                 -0.038   \n",
       "2019-01-16     -0.148                      -0.111                  0.095   \n",
       "2018-10-16      0.029                      -0.040                  0.030   \n",
       "\n",
       "            PRICE_PerCng_DayAfter PRICE_PerCng_2DaysAfter  \\\n",
       "Date                                                        \n",
       "2019-10-15                  0.005                    -      \n",
       "2019-07-16                 -0.010                  -0.005   \n",
       "2019-04-15                  0.010                    0.04   \n",
       "2019-01-16                  0.010                   0.028   \n",
       "2018-10-16                  0.030                   0.015   \n",
       "\n",
       "            VOL_PerCng_PriorEarnings  VOL_PerCng_DayPrior  \\\n",
       "Date                                                        \n",
       "2019-10-15                    56.00%              260.52%   \n",
       "2019-07-16                   -20.20%              103.20%   \n",
       "2019-04-15                   -56.40%               29.84%   \n",
       "2019-01-16                   156.50%              421.81%   \n",
       "2018-10-16                   -36.20%               77.70%   \n",
       "\n",
       "            VOL_PerCng_DayAfter  VOL_PerCng_2DaysAfter  \n",
       "Date                                                    \n",
       "2019-10-15              -58.68%                -65.10%  \n",
       "2019-07-16              -51.10%                -45.89%  \n",
       "2019-04-15              -26.67%                -36.60%  \n",
       "2019-01-16              -46.18%                -62.81%  \n",
       "2018-10-16              -16.38%                -49.44%  \n",
       "\n",
       "[5 rows x 26 columns]"
      ]
     },
     "execution_count": 3,
     "metadata": {},
     "output_type": "execute_result"
    }
   ],
   "source": [
    "from pathlib import Path\n",
    "csvpath = Path('GS_SentScoreswVOL_2020_csv.csv')\n",
    "df = pd.read_csv(csvpath, parse_dates=True, index_col='Date')\n",
    "df.head()"
   ]
  },
  {
   "cell_type": "code",
   "execution_count": 4,
   "metadata": {},
   "outputs": [
    {
     "name": "stdout",
     "output_type": "stream",
     "text": [
      "Ticker\n",
      "Company\n",
      "Year\n",
      "QTR\n",
      "Sent_Neg\n",
      "Sent_Neu\n",
      "Sent_Pos\n",
      "Price_DayPrior\n",
      "Price_DayOf\n",
      "Price_DayAfter\n",
      "Price_2DaysAfter\n",
      "VOL_DayPrior\n",
      "VOL_DayOf\n",
      "VOL_DayAfter\n",
      "VOL_2DaysAfter\n",
      "PerCngNeg\n",
      "PerCngNeu\n",
      "PerCngPos\n",
      "PRICE_PerCng_PriorEarnings\n",
      "PRICE_PerCng_DayPrior\n",
      "PRICE_PerCng_DayAfter\n",
      "PRICE_PerCng_2DaysAfter\n",
      "VOL_PerCng_PriorEarnings\n",
      "VOL_PerCng_DayPrior\n",
      "VOL_PerCng_DayAfter\n",
      "VOL_PerCng_2DaysAfter\n"
     ]
    }
   ],
   "source": [
    "#See List of column titles\n",
    "for col in df.columns:\n",
    "    print(col)"
   ]
  },
  {
   "cell_type": "code",
   "execution_count": 5,
   "metadata": {},
   "outputs": [
    {
     "data": {
      "text/html": [
       "<div>\n",
       "<style scoped>\n",
       "    .dataframe tbody tr th:only-of-type {\n",
       "        vertical-align: middle;\n",
       "    }\n",
       "\n",
       "    .dataframe tbody tr th {\n",
       "        vertical-align: top;\n",
       "    }\n",
       "\n",
       "    .dataframe thead th {\n",
       "        text-align: right;\n",
       "    }\n",
       "</style>\n",
       "<table border=\"1\" class=\"dataframe\">\n",
       "  <thead>\n",
       "    <tr style=\"text-align: right;\">\n",
       "      <th></th>\n",
       "      <th>Sent_Neu</th>\n",
       "    </tr>\n",
       "    <tr>\n",
       "      <th>Date</th>\n",
       "      <th></th>\n",
       "    </tr>\n",
       "  </thead>\n",
       "  <tbody>\n",
       "    <tr>\n",
       "      <td>2019-10-15</td>\n",
       "      <td>0.845</td>\n",
       "    </tr>\n",
       "    <tr>\n",
       "      <td>2019-07-16</td>\n",
       "      <td>0.863</td>\n",
       "    </tr>\n",
       "    <tr>\n",
       "      <td>2019-04-15</td>\n",
       "      <td>0.867</td>\n",
       "    </tr>\n",
       "    <tr>\n",
       "      <td>2019-01-16</td>\n",
       "      <td>0.857</td>\n",
       "    </tr>\n",
       "    <tr>\n",
       "      <td>2018-10-16</td>\n",
       "      <td>0.843</td>\n",
       "    </tr>\n",
       "    <tr>\n",
       "      <td>2018-07-17</td>\n",
       "      <td>0.842</td>\n",
       "    </tr>\n",
       "    <tr>\n",
       "      <td>2018-04-17</td>\n",
       "      <td>0.830</td>\n",
       "    </tr>\n",
       "    <tr>\n",
       "      <td>2018-01-17</td>\n",
       "      <td>0.878</td>\n",
       "    </tr>\n",
       "    <tr>\n",
       "      <td>2017-10-17</td>\n",
       "      <td>0.856</td>\n",
       "    </tr>\n",
       "    <tr>\n",
       "      <td>2017-07-18</td>\n",
       "      <td>0.840</td>\n",
       "    </tr>\n",
       "    <tr>\n",
       "      <td>2017-04-18</td>\n",
       "      <td>0.825</td>\n",
       "    </tr>\n",
       "    <tr>\n",
       "      <td>2017-01-18</td>\n",
       "      <td>0.835</td>\n",
       "    </tr>\n",
       "  </tbody>\n",
       "</table>\n",
       "</div>"
      ],
      "text/plain": [
       "            Sent_Neu\n",
       "Date                \n",
       "2019-10-15     0.845\n",
       "2019-07-16     0.863\n",
       "2019-04-15     0.867\n",
       "2019-01-16     0.857\n",
       "2018-10-16     0.843\n",
       "2018-07-17     0.842\n",
       "2018-04-17     0.830\n",
       "2018-01-17     0.878\n",
       "2017-10-17     0.856\n",
       "2017-07-18     0.840\n",
       "2017-04-18     0.825\n",
       "2017-01-18     0.835"
      ]
     },
     "execution_count": 5,
     "metadata": {},
     "output_type": "execute_result"
    }
   ],
   "source": [
    "x_train=df.iloc[0:12,5:6].copy()\n",
    "x_train.dropna()"
   ]
  },
  {
   "cell_type": "code",
   "execution_count": 6,
   "metadata": {},
   "outputs": [
    {
     "data": {
      "text/plain": [
       "Date\n",
       "2019-10-15    0.005\n",
       "2019-07-16   -0.010\n",
       "2019-04-15    0.010\n",
       "2019-01-16    0.010\n",
       "2018-10-16    0.030\n",
       "2018-07-17    0.001\n",
       "2018-04-17    0.001\n",
       "2018-01-17   -0.011\n",
       "2017-10-17    0.025\n",
       "2017-07-18   -0.002\n",
       "2017-04-18   -0.007\n",
       "2017-01-18   -0.012\n",
       "Name: PRICE_PerCng_DayAfter, dtype: float64"
      ]
     },
     "execution_count": 6,
     "metadata": {},
     "output_type": "execute_result"
    }
   ],
   "source": [
    "y_train=df.iloc[0:12,:]['PRICE_PerCng_DayAfter'] #.set_index('Date') #.copy()\n",
    "y_train.dropna()"
   ]
  },
  {
   "cell_type": "code",
   "execution_count": 7,
   "metadata": {},
   "outputs": [
    {
     "data": {
      "text/html": [
       "<div>\n",
       "<style scoped>\n",
       "    .dataframe tbody tr th:only-of-type {\n",
       "        vertical-align: middle;\n",
       "    }\n",
       "\n",
       "    .dataframe tbody tr th {\n",
       "        vertical-align: top;\n",
       "    }\n",
       "\n",
       "    .dataframe thead th {\n",
       "        text-align: right;\n",
       "    }\n",
       "</style>\n",
       "<table border=\"1\" class=\"dataframe\">\n",
       "  <thead>\n",
       "    <tr style=\"text-align: right;\">\n",
       "      <th></th>\n",
       "      <th>Sent_Neu</th>\n",
       "    </tr>\n",
       "    <tr>\n",
       "      <th>Date</th>\n",
       "      <th></th>\n",
       "    </tr>\n",
       "  </thead>\n",
       "  <tbody>\n",
       "    <tr>\n",
       "      <td>2016-07-19</td>\n",
       "      <td>0.864</td>\n",
       "    </tr>\n",
       "    <tr>\n",
       "      <td>2016-04-19</td>\n",
       "      <td>0.840</td>\n",
       "    </tr>\n",
       "    <tr>\n",
       "      <td>2016-01-20</td>\n",
       "      <td>0.863</td>\n",
       "    </tr>\n",
       "    <tr>\n",
       "      <td>2015-10-15</td>\n",
       "      <td>0.844</td>\n",
       "    </tr>\n",
       "    <tr>\n",
       "      <td>2015-07-16</td>\n",
       "      <td>0.852</td>\n",
       "    </tr>\n",
       "  </tbody>\n",
       "</table>\n",
       "</div>"
      ],
      "text/plain": [
       "            Sent_Neu\n",
       "Date                \n",
       "2016-07-19     0.864\n",
       "2016-04-19     0.840\n",
       "2016-01-20     0.863\n",
       "2015-10-15     0.844\n",
       "2015-07-16     0.852"
      ]
     },
     "execution_count": 7,
     "metadata": {},
     "output_type": "execute_result"
    }
   ],
   "source": [
    "x_test =df.iloc[13:18,5:6].copy()\n",
    "x_test.dropna()"
   ]
  },
  {
   "cell_type": "code",
   "execution_count": 8,
   "metadata": {},
   "outputs": [
    {
     "data": {
      "text/plain": [
       "Date\n",
       "2016-07-19    0.002\n",
       "2016-04-19    0.027\n",
       "2016-01-20   -0.014\n",
       "2015-10-15    0.001\n",
       "2015-07-16    0.006\n",
       "Name: PRICE_PerCng_DayAfter, dtype: float64"
      ]
     },
     "execution_count": 8,
     "metadata": {},
     "output_type": "execute_result"
    }
   ],
   "source": [
    "y_test=df.iloc[13:18,:]['PRICE_PerCng_DayAfter'].copy()\n",
    "y_test.dropna()"
   ]
  },
  {
   "cell_type": "code",
   "execution_count": 9,
   "metadata": {},
   "outputs": [],
   "source": [
    "model = LinearRegression()\n",
    "model.fit(x_train, y_train)\n",
    "predictions = model.predict(x_test)"
   ]
  },
  {
   "cell_type": "code",
   "execution_count": 10,
   "metadata": {},
   "outputs": [],
   "source": [
    "# Construct a dataframe using just the \"y\" training data:\n",
    "out_of_sample_results = y_test.to_frame()\n",
    "\n",
    "# Add a column of \"out-of-sample\" predictions to that dataframe:  \n",
    "out_of_sample_results[\"Out-of-Sample Predictions\"] = model.predict(x_test)"
   ]
  },
  {
   "cell_type": "code",
   "execution_count": 11,
   "metadata": {},
   "outputs": [
    {
     "data": {
      "text/plain": [
       "array([<matplotlib.axes._subplots.AxesSubplot object at 0x11ecbca90>,\n",
       "       <matplotlib.axes._subplots.AxesSubplot object at 0x11ed41a50>],\n",
       "      dtype=object)"
      ]
     },
     "execution_count": 11,
     "metadata": {},
     "output_type": "execute_result"
    },
    {
     "data": {
      "image/png": "[encoded data removed]",
      "text/plain": [
       "<Figure size 432x288 with 2 Axes>"
      ]
     },
     "metadata": {
      "needs_background": "light"
     },
     "output_type": "display_data"
    }
   ],
   "source": [
    "# Plot the out-of-sample results for 2019\n",
    "out_of_sample_results.plot(subplots=True)"
   ]
  },
  {
   "cell_type": "code",
   "execution_count": 12,
   "metadata": {},
   "outputs": [
    {
     "name": "stdout",
     "output_type": "stream",
     "text": [
      "Out-of-sample Root Mean Squared Error (RMSE): 0.013546005302932505\n"
     ]
    }
   ],
   "source": [
    "# Calculate out-of-sample mean_squared_error (for comparison to out-of-sample)\n",
    "out_of_sample_mse = mean_squared_error(\n",
    "    out_of_sample_results[\"PRICE_PerCng_DayAfter\"],\n",
    "    out_of_sample_results[\"Out-of-Sample Predictions\"]\n",
    ")\n",
    "\n",
    "# Calculate out-of-sample root mean_squared_error (for comparison to out-of-sample)\n",
    "out_of_sample_rmse = np.sqrt(out_of_sample_mse)\n",
    "print(f\"Out-of-sample Root Mean Squared Error (RMSE): {out_of_sample_rmse}\")"
   ]
  },
  {
   "cell_type": "code",
   "execution_count": 13,
   "metadata": {},
   "outputs": [
    {
     "name": "stdout",
     "output_type": "stream",
     "text": [
      "In-sample Root Mean Squared Error (RMSE): 0.013009114334445663\n"
     ]
    }
   ],
   "source": [
    "# Construct a dataframe using just the \"y\" training data:\n",
    "in_sample_results = y_train.to_frame()\n",
    "\n",
    "# Add a column of \"in-sample\" predictions to that dataframe:  \n",
    "in_sample_results[\"In-sample Predictions\"] = model.predict(x_train)\n",
    "\n",
    "# Calculate in-sample mean_squared_error (for comparison to out-of-sample)\n",
    "in_sample_mse = mean_squared_error(\n",
    "    in_sample_results[\"PRICE_PerCng_DayAfter\"],\n",
    "    in_sample_results[\"In-sample Predictions\"]\n",
    ")\n",
    "\n",
    "# Calculate in-sample root mean_squared_error (for comparison to out-of-sample)\n",
    "in_sample_rmse = np.sqrt(in_sample_mse)\n",
    "print(f\"In-sample Root Mean Squared Error (RMSE): {in_sample_rmse}\")"
   ]
  },
  {
   "cell_type": "code",
   "execution_count": 14,
   "metadata": {},
   "outputs": [
    {
     "data": {
      "text/plain": [
       "<matplotlib.axes._subplots.AxesSubplot at 0x11ee6ed90>"
      ]
     },
     "execution_count": 14,
     "metadata": {},
     "output_type": "execute_result"
    },
    {
     "data": {
      "image/png": "[encoded data removed]",
      "text/plain": [
       "<Figure size 432x288 with 1 Axes>"
      ]
     },
     "metadata": {
      "needs_background": "light"
     },
     "output_type": "display_data"
    }
   ],
   "source": [
    "# Plot the final forecast\n",
    "in_sample_results.plot(title=\"Neu Sentiment Changes vs Price\")"
   ]
  },
  {
   "cell_type": "code",
   "execution_count": null,
   "metadata": {},
   "outputs": [],
   "source": []
  }
 ],
 "metadata": {
  "kernelspec": {
   "display_name": "Python 3",
   "language": "python",
   "name": "python3"
  },
  "language_info": {
   "codemirror_mode": {
    "name": "ipython",
    "version": 3
   },
   "file_extension": ".py",
   "mimetype": "text/x-python",
   "name": "python",
   "nbconvert_exporter": "python",
   "pygments_lexer": "ipython3",
   "version": "3.7.4"
  }
 },
 "nbformat": 4,
 "nbformat_minor": 4
}
